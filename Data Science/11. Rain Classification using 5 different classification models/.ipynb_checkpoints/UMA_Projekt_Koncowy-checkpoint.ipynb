{
  "nbformat": 4,
  "nbformat_minor": 0,
  "metadata": {
    "colab": {
      "name": "UMA_Projekt_Koncowy.ipynb",
      "provenance": [],
      "collapsed_sections": []
    },
    "kernelspec": {
      "name": "python3",
      "display_name": "Python 3"
    },
    "language_info": {
      "name": "python"
    }
  },
  "cells": [
    {
      "cell_type": "markdown",
      "metadata": {
        "id": "0RXi-1x68RJP"
      },
      "source": [
        "# Dominik Strzałko (SnowyCocoon) - Predicting the rain in Australia\n",
        "We will be comparing 5 different methods to predict the rain:\n",
        "1. Logistic Regresion\n",
        "3. Decision Trees\n",
        "2. Random Forest\n",
        "4. KNeighborsClassifier\n",
        "5. Neural Network (Built in pytorch)\n",
        "\n",
        "Dataset from:\n",
        "- https://www.kaggle.com/jsphyg/weather-dataset-rattle-package\n",
        "\n",
        "\n",
        "List of helpfull notebooks:\n",
        "- https://www.kaggle.com/aninditapani/will-it-rain-tomorrow\n",
        "- https://www.kaggle.com/prashant111/logistic-regression-classifier-tutorial\n",
        "- https://www.kaggle.com/rafetcan/red-wine-quality-classification-95-76-acc"
      ]
    },
    {
      "cell_type": "markdown",
      "metadata": {
        "id": "4m2M0ztO8czp"
      },
      "source": [
        "# 0. Importing the libriaries and data"
      ]
    },
    {
      "cell_type": "code",
      "metadata": {
        "id": "pLnhxa8reXOd"
      },
      "source": [
        "import torch\n",
        "import os\n",
        "import numpy as np\n",
        "import pandas as pd\n",
        "import seaborn as sns\n",
        "import matplotlib.pyplot as plt\n",
        "from sklearn.model_selection import train_test_split\n",
        "from torch import nn, optim\n",
        "import torch.nn.functional as F\n",
        "from scipy.stats import norm\n",
        "#from sklearn.utils import resample"
      ],
      "execution_count": 1,
      "outputs": []
    },
    {
      "cell_type": "code",
      "metadata": {
        "id": "s9uG_f_F9GhJ"
      },
      "source": [
        "df = pd.read_csv('weatherAUS.csv') #Reading the csv"
      ],
      "execution_count": 2,
      "outputs": []
    },
    {
      "cell_type": "code",
      "metadata": {
        "id": "40wo5Uk19JjN",
        "colab": {
          "base_uri": "https://localhost:8080/",
          "height": 309
        },
        "outputId": "d4fea01e-84af-4ff9-ea97-8c18133633cd"
      },
      "source": [
        "df.head() #Displaying the first 5 rows of the dataframe "
      ],
      "execution_count": 3,
      "outputs": [
        {
          "output_type": "execute_result",
          "data": {
            "text/html": [
              "<div>\n",
              "<style scoped>\n",
              "    .dataframe tbody tr th:only-of-type {\n",
              "        vertical-align: middle;\n",
              "    }\n",
              "\n",
              "    .dataframe tbody tr th {\n",
              "        vertical-align: top;\n",
              "    }\n",
              "\n",
              "    .dataframe thead th {\n",
              "        text-align: right;\n",
              "    }\n",
              "</style>\n",
              "<table border=\"1\" class=\"dataframe\">\n",
              "  <thead>\n",
              "    <tr style=\"text-align: right;\">\n",
              "      <th></th>\n",
              "      <th>Date</th>\n",
              "      <th>Location</th>\n",
              "      <th>MinTemp</th>\n",
              "      <th>MaxTemp</th>\n",
              "      <th>Rainfall</th>\n",
              "      <th>Evaporation</th>\n",
              "      <th>Sunshine</th>\n",
              "      <th>WindGustDir</th>\n",
              "      <th>WindGustSpeed</th>\n",
              "      <th>WindDir9am</th>\n",
              "      <th>WindDir3pm</th>\n",
              "      <th>WindSpeed9am</th>\n",
              "      <th>WindSpeed3pm</th>\n",
              "      <th>Humidity9am</th>\n",
              "      <th>Humidity3pm</th>\n",
              "      <th>Pressure9am</th>\n",
              "      <th>Pressure3pm</th>\n",
              "      <th>Cloud9am</th>\n",
              "      <th>Cloud3pm</th>\n",
              "      <th>Temp9am</th>\n",
              "      <th>Temp3pm</th>\n",
              "      <th>RainToday</th>\n",
              "      <th>RainTomorrow</th>\n",
              "    </tr>\n",
              "  </thead>\n",
              "  <tbody>\n",
              "    <tr>\n",
              "      <th>0</th>\n",
              "      <td>2008-12-01</td>\n",
              "      <td>Albury</td>\n",
              "      <td>13.4</td>\n",
              "      <td>22.9</td>\n",
              "      <td>0.6</td>\n",
              "      <td>NaN</td>\n",
              "      <td>NaN</td>\n",
              "      <td>W</td>\n",
              "      <td>44.0</td>\n",
              "      <td>W</td>\n",
              "      <td>WNW</td>\n",
              "      <td>20.0</td>\n",
              "      <td>24.0</td>\n",
              "      <td>71.0</td>\n",
              "      <td>22.0</td>\n",
              "      <td>1007.7</td>\n",
              "      <td>1007.1</td>\n",
              "      <td>8.0</td>\n",
              "      <td>NaN</td>\n",
              "      <td>16.9</td>\n",
              "      <td>21.8</td>\n",
              "      <td>No</td>\n",
              "      <td>No</td>\n",
              "    </tr>\n",
              "    <tr>\n",
              "      <th>1</th>\n",
              "      <td>2008-12-02</td>\n",
              "      <td>Albury</td>\n",
              "      <td>7.4</td>\n",
              "      <td>25.1</td>\n",
              "      <td>0.0</td>\n",
              "      <td>NaN</td>\n",
              "      <td>NaN</td>\n",
              "      <td>WNW</td>\n",
              "      <td>44.0</td>\n",
              "      <td>NNW</td>\n",
              "      <td>WSW</td>\n",
              "      <td>4.0</td>\n",
              "      <td>22.0</td>\n",
              "      <td>44.0</td>\n",
              "      <td>25.0</td>\n",
              "      <td>1010.6</td>\n",
              "      <td>1007.8</td>\n",
              "      <td>NaN</td>\n",
              "      <td>NaN</td>\n",
              "      <td>17.2</td>\n",
              "      <td>24.3</td>\n",
              "      <td>No</td>\n",
              "      <td>No</td>\n",
              "    </tr>\n",
              "    <tr>\n",
              "      <th>2</th>\n",
              "      <td>2008-12-03</td>\n",
              "      <td>Albury</td>\n",
              "      <td>12.9</td>\n",
              "      <td>25.7</td>\n",
              "      <td>0.0</td>\n",
              "      <td>NaN</td>\n",
              "      <td>NaN</td>\n",
              "      <td>WSW</td>\n",
              "      <td>46.0</td>\n",
              "      <td>W</td>\n",
              "      <td>WSW</td>\n",
              "      <td>19.0</td>\n",
              "      <td>26.0</td>\n",
              "      <td>38.0</td>\n",
              "      <td>30.0</td>\n",
              "      <td>1007.6</td>\n",
              "      <td>1008.7</td>\n",
              "      <td>NaN</td>\n",
              "      <td>2.0</td>\n",
              "      <td>21.0</td>\n",
              "      <td>23.2</td>\n",
              "      <td>No</td>\n",
              "      <td>No</td>\n",
              "    </tr>\n",
              "    <tr>\n",
              "      <th>3</th>\n",
              "      <td>2008-12-04</td>\n",
              "      <td>Albury</td>\n",
              "      <td>9.2</td>\n",
              "      <td>28.0</td>\n",
              "      <td>0.0</td>\n",
              "      <td>NaN</td>\n",
              "      <td>NaN</td>\n",
              "      <td>NE</td>\n",
              "      <td>24.0</td>\n",
              "      <td>SE</td>\n",
              "      <td>E</td>\n",
              "      <td>11.0</td>\n",
              "      <td>9.0</td>\n",
              "      <td>45.0</td>\n",
              "      <td>16.0</td>\n",
              "      <td>1017.6</td>\n",
              "      <td>1012.8</td>\n",
              "      <td>NaN</td>\n",
              "      <td>NaN</td>\n",
              "      <td>18.1</td>\n",
              "      <td>26.5</td>\n",
              "      <td>No</td>\n",
              "      <td>No</td>\n",
              "    </tr>\n",
              "    <tr>\n",
              "      <th>4</th>\n",
              "      <td>2008-12-05</td>\n",
              "      <td>Albury</td>\n",
              "      <td>17.5</td>\n",
              "      <td>32.3</td>\n",
              "      <td>1.0</td>\n",
              "      <td>NaN</td>\n",
              "      <td>NaN</td>\n",
              "      <td>W</td>\n",
              "      <td>41.0</td>\n",
              "      <td>ENE</td>\n",
              "      <td>NW</td>\n",
              "      <td>7.0</td>\n",
              "      <td>20.0</td>\n",
              "      <td>82.0</td>\n",
              "      <td>33.0</td>\n",
              "      <td>1010.8</td>\n",
              "      <td>1006.0</td>\n",
              "      <td>7.0</td>\n",
              "      <td>8.0</td>\n",
              "      <td>17.8</td>\n",
              "      <td>29.7</td>\n",
              "      <td>No</td>\n",
              "      <td>No</td>\n",
              "    </tr>\n",
              "  </tbody>\n",
              "</table>\n",
              "</div>"
            ],
            "text/plain": [
              "         Date Location  MinTemp  ...  Temp3pm  RainToday  RainTomorrow\n",
              "0  2008-12-01   Albury     13.4  ...     21.8         No            No\n",
              "1  2008-12-02   Albury      7.4  ...     24.3         No            No\n",
              "2  2008-12-03   Albury     12.9  ...     23.2         No            No\n",
              "3  2008-12-04   Albury      9.2  ...     26.5         No            No\n",
              "4  2008-12-05   Albury     17.5  ...     29.7         No            No\n",
              "\n",
              "[5 rows x 23 columns]"
            ]
          },
          "metadata": {
            "tags": []
          },
          "execution_count": 3
        }
      ]
    },
    {
      "cell_type": "markdown",
      "metadata": {
        "id": "lmEfjxP9Co1K"
      },
      "source": [
        "# 1. Preprocessing the data"
      ]
    },
    {
      "cell_type": "markdown",
      "metadata": {
        "id": "RCTNBYmFzIc8"
      },
      "source": [
        "### 1.1. Handling the NA/Null/Empty values"
      ]
    },
    {
      "cell_type": "code",
      "metadata": {
        "colab": {
          "base_uri": "https://localhost:8080/"
        },
        "id": "OyppHf0ly4Oa",
        "outputId": "704b131d-62ff-4951-f51e-f70d1e40e32f"
      },
      "source": [
        "df.count().sort_values() #Checking how many values each column have."
      ],
      "execution_count": 4,
      "outputs": [
        {
          "output_type": "execute_result",
          "data": {
            "text/plain": [
              "Sunshine          75625\n",
              "Evaporation       82670\n",
              "Cloud3pm          86102\n",
              "Cloud9am          89572\n",
              "Pressure9am      130395\n",
              "Pressure3pm      130432\n",
              "WindDir9am       134894\n",
              "WindGustDir      135134\n",
              "WindGustSpeed    135197\n",
              "Humidity3pm      140953\n",
              "WindDir3pm       141232\n",
              "Temp3pm          141851\n",
              "RainTomorrow     142193\n",
              "RainToday        142199\n",
              "Rainfall         142199\n",
              "WindSpeed3pm     142398\n",
              "Humidity9am      142806\n",
              "Temp9am          143693\n",
              "WindSpeed9am     143693\n",
              "MinTemp          143975\n",
              "MaxTemp          144199\n",
              "Location         145460\n",
              "Date             145460\n",
              "dtype: int64"
            ]
          },
          "metadata": {
            "tags": []
          },
          "execution_count": 4
        }
      ]
    },
    {
      "cell_type": "code",
      "metadata": {
        "colab": {
          "base_uri": "https://localhost:8080/"
        },
        "id": "6SBPWRT3C0jl",
        "outputId": "6bb9bbe0-3fa5-4b51-9267-cbaa0de2dbd7"
      },
      "source": [
        "df.isna().sum().sort_values() #Checking how many missing values each column have."
      ],
      "execution_count": 5,
      "outputs": [
        {
          "output_type": "execute_result",
          "data": {
            "text/plain": [
              "Date                 0\n",
              "Location             0\n",
              "MaxTemp           1261\n",
              "MinTemp           1485\n",
              "Temp9am           1767\n",
              "WindSpeed9am      1767\n",
              "Humidity9am       2654\n",
              "WindSpeed3pm      3062\n",
              "Rainfall          3261\n",
              "RainToday         3261\n",
              "RainTomorrow      3267\n",
              "Temp3pm           3609\n",
              "WindDir3pm        4228\n",
              "Humidity3pm       4507\n",
              "WindGustSpeed    10263\n",
              "WindGustDir      10326\n",
              "WindDir9am       10566\n",
              "Pressure3pm      15028\n",
              "Pressure9am      15065\n",
              "Cloud9am         55888\n",
              "Cloud3pm         59358\n",
              "Evaporation      62790\n",
              "Sunshine         69835\n",
              "dtype: int64"
            ]
          },
          "metadata": {
            "tags": []
          },
          "execution_count": 5
        }
      ]
    },
    {
      "cell_type": "code",
      "metadata": {
        "id": "gkAHSM7RzZdR"
      },
      "source": [
        "df = df.drop(columns=['Sunshine','Evaporation','Cloud3pm','Cloud9am','Location','Date'],axis=1) #We are droping all columns with less than 60% of data"
      ],
      "execution_count": 6,
      "outputs": []
    },
    {
      "cell_type": "code",
      "metadata": {
        "id": "N2Axv3k8zdvg"
      },
      "source": [
        "df = df.dropna(how='any') #We are dropping all the rows with any missing value."
      ],
      "execution_count": 7,
      "outputs": []
    },
    {
      "cell_type": "markdown",
      "metadata": {
        "id": "B6O6jGSAzyHJ"
      },
      "source": [
        "### 1.2. Dealing with outliers\n",
        "https://en.wikipedia.org/wiki/Outlier\n",
        "\n",
        "We are calculating the Z-score of for every value in the dataframe. If the Z-score is going to be bigger than 3, then we are going to delete the whole row with one or more outliers. The highes the Z-score is, the more unusual the data is!\n",
        "\n",
        "![title](https://raw.githubusercontent.com/SnowyCocoon/Data-Science-Projects/main/11.%20Rain%20Classification%20using%205%20different%20classification%20models/Img1.png)\n",
        "\n",
        "source(https://en.wikipedia.org/wiki/Z-test)\n",
        "\n",
        "![title](https://github.com/SnowyCocoon/Data-Science-Projects/blob/main/11.%20Rain%20Classification%20using%205%20different%20classification%20models/Img2.png?raw=true)\n",
        "\n",
        "source (https://www.dummies.com/education/math/statistics/how-to-calculate-a-confidence-interval-for-a-population-mean-when-you-know-its-standard-deviation/)"
      ]
    },
    {
      "cell_type": "code",
      "metadata": {
        "colab": {
          "base_uri": "https://localhost:8080/"
        },
        "id": "raUkWMFLC6iW",
        "outputId": "a3714410-66d9-477e-98b6-dff71897e6bb"
      },
      "source": [
        "from scipy import stats\n",
        "\n",
        "z = np.abs(stats.zscore(df._get_numeric_data()))\n",
        "print(z)\n",
        "df= df[(z < 3).all(axis=1)]\n",
        "print(df.shape)"
      ],
      "execution_count": 8,
      "outputs": [
        {
          "output_type": "stream",
          "text": [
            "[[0.11756741 0.10822071 0.20666127 ... 1.14245477 0.08843526 0.04787026]\n",
            " [0.84180219 0.20684494 0.27640495 ... 1.04184813 0.04122846 0.31776848]\n",
            " [0.03761995 0.29277194 0.27640495 ... 0.91249673 0.55672435 0.15688743]\n",
            " ...\n",
            " [1.44940294 0.23548728 0.27640495 ... 0.58223051 1.03257127 0.34701958]\n",
            " [1.16159206 0.46462594 0.27640495 ... 0.25166583 0.78080166 0.58102838]\n",
            " [0.77784422 0.4789471  0.27640495 ... 0.2085487  0.37167606 0.56640283]]\n",
            "(107868, 17)\n"
          ],
          "name": "stdout"
        }
      ]
    },
    {
      "cell_type": "markdown",
      "metadata": {
        "id": "VtGWm4TN6Brx"
      },
      "source": [
        "### 1.3. Dealing with categorical data (in string format)"
      ]
    },
    {
      "cell_type": "code",
      "metadata": {
        "id": "f4XQfEtwDF-m"
      },
      "source": [
        "df['RainToday'].replace({'No': 0, 'Yes': 1},inplace = True)\n",
        "df['RainTomorrow'].replace({'No': 0, 'Yes': 1},inplace = True)"
      ],
      "execution_count": 9,
      "outputs": []
    },
    {
      "cell_type": "code",
      "metadata": {
        "id": "z5kldlDz0fGU"
      },
      "source": [
        "categorical_columns = ['WindGustDir', 'WindDir3pm', 'WindDir9am']\n",
        "df = pd.get_dummies(df, columns=categorical_columns)"
      ],
      "execution_count": 10,
      "outputs": []
    },
    {
      "cell_type": "markdown",
      "metadata": {
        "id": "ZGQ36IP47QJf"
      },
      "source": [
        "### 1.4. Standarizing/Normalizing our data"
      ]
    },
    {
      "cell_type": "code",
      "metadata": {
        "id": "u8WUDlEM0fEg"
      },
      "source": [
        "from sklearn import preprocessing\n",
        "\n",
        "scaler = preprocessing.MinMaxScaler()\n",
        "scaler.fit(df)\n",
        "df = pd.DataFrame(scaler.transform(df), index=df.index, columns=df.columns)"
      ],
      "execution_count": 11,
      "outputs": []
    },
    {
      "cell_type": "markdown",
      "metadata": {
        "id": "2VQi1m627c0A"
      },
      "source": [
        "### 1.5. Selecting the features to include in our model"
      ]
    },
    {
      "cell_type": "code",
      "metadata": {
        "colab": {
          "base_uri": "https://localhost:8080/"
        },
        "id": "3KVUIX9u7aoR",
        "outputId": "bdcc7139-4105-42dc-a1b2-d23528cdd0a8"
      },
      "source": [
        "from sklearn.feature_selection import SelectKBest, chi2\n",
        "\n",
        "X = df.loc[:,df.columns!='RainTomorrow']\n",
        "y = df[['RainTomorrow']]\n",
        "\n",
        "selector = SelectKBest(chi2, k=3)\n",
        "selector.fit(X, y)\n",
        "\n",
        "X_new = selector.transform(X)\n",
        "print(X.columns[selector.get_support(indices=True)]) #top 3 columns"
      ],
      "execution_count": 12,
      "outputs": [
        {
          "output_type": "stream",
          "text": [
            "Index(['Rainfall', 'Humidity3pm', 'RainToday'], dtype='object')\n"
          ],
          "name": "stdout"
        }
      ]
    },
    {
      "cell_type": "markdown",
      "metadata": {
        "id": "W8_4mo0x66CI"
      },
      "source": [
        "### 1.6. Analysing the top 3 columns"
      ]
    },
    {
      "cell_type": "markdown",
      "metadata": {
        "id": "dvc99F7fCYpO"
      },
      "source": [
        "Probability Plots are looking already fine, because we deleted the outliers!"
      ]
    },
    {
      "cell_type": "markdown",
      "metadata": {
        "id": "O4926PNhAl6E"
      },
      "source": [
        "#### 1.6.1. Humidity at 3 PM"
      ]
    },
    {
      "cell_type": "code",
      "metadata": {
        "colab": {
          "base_uri": "https://localhost:8080/",
          "height": 82
        },
        "id": "VZsXXjO37DVz",
        "outputId": "d00ffa45-b217-448e-a733-de12214735b4"
      },
      "source": [
        "df[[\"Humidity3pm\",\"RainTomorrow\"]].groupby([\"RainTomorrow\"], as_index = False).mean().sort_values(by = \"RainTomorrow\").style.background_gradient(\"Reds\")"
      ],
      "execution_count": 13,
      "outputs": [
        {
          "output_type": "execute_result",
          "data": {
            "text/html": [
              "<style  type=\"text/css\" >\n",
              "#T_25912ad8_ceb2_11eb_8ebd_0242ac1c0002row0_col0,#T_25912ad8_ceb2_11eb_8ebd_0242ac1c0002row0_col1{\n",
              "            background-color:  #fff5f0;\n",
              "            color:  #000000;\n",
              "        }#T_25912ad8_ceb2_11eb_8ebd_0242ac1c0002row1_col0,#T_25912ad8_ceb2_11eb_8ebd_0242ac1c0002row1_col1{\n",
              "            background-color:  #67000d;\n",
              "            color:  #f1f1f1;\n",
              "        }</style><table id=\"T_25912ad8_ceb2_11eb_8ebd_0242ac1c0002\" ><thead>    <tr>        <th class=\"blank level0\" ></th>        <th class=\"col_heading level0 col0\" >RainTomorrow</th>        <th class=\"col_heading level0 col1\" >Humidity3pm</th>    </tr></thead><tbody>\n",
              "                <tr>\n",
              "                        <th id=\"T_25912ad8_ceb2_11eb_8ebd_0242ac1c0002level0_row0\" class=\"row_heading level0 row0\" >0</th>\n",
              "                        <td id=\"T_25912ad8_ceb2_11eb_8ebd_0242ac1c0002row0_col0\" class=\"data row0 col0\" >0.000000</td>\n",
              "                        <td id=\"T_25912ad8_ceb2_11eb_8ebd_0242ac1c0002row0_col1\" class=\"data row0 col1\" >0.457204</td>\n",
              "            </tr>\n",
              "            <tr>\n",
              "                        <th id=\"T_25912ad8_ceb2_11eb_8ebd_0242ac1c0002level0_row1\" class=\"row_heading level0 row1\" >1</th>\n",
              "                        <td id=\"T_25912ad8_ceb2_11eb_8ebd_0242ac1c0002row1_col0\" class=\"data row1 col0\" >1.000000</td>\n",
              "                        <td id=\"T_25912ad8_ceb2_11eb_8ebd_0242ac1c0002row1_col1\" class=\"data row1 col1\" >0.679920</td>\n",
              "            </tr>\n",
              "    </tbody></table>"
            ],
            "text/plain": [
              "<pandas.io.formats.style.Styler at 0x7fa0d883efd0>"
            ]
          },
          "metadata": {
            "tags": []
          },
          "execution_count": 13
        }
      ]
    },
    {
      "cell_type": "code",
      "metadata": {
        "colab": {
          "base_uri": "https://localhost:8080/",
          "height": 673
        },
        "id": "vUK_-V1-8-rH",
        "outputId": "c2392a6d-f2f8-4faa-fca7-4795990eb2b6"
      },
      "source": [
        "plt.figure(figsize=(13,10))\n",
        "plt.subplot(2,2,1)\n",
        "plt.hist(df[\"Humidity3pm\"], color=\"orange\")\n",
        "plt.xlabel(\"Humidity3pm\")\n",
        "plt.ylabel(\"Frequency\")\n",
        "plt.title(\"Humidity3pm histogram\", color = \"black\", fontweight='bold', fontsize = 11)\n",
        "plt.subplot(2,2,2)\n",
        "sns.distplot(df[\"Humidity3pm\"], fit=norm, color=\"orange\")\n",
        "plt.title(\"Humidity3pm Distplot\", color = \"black\", fontweight='bold', fontsize = 11)\n",
        "plt.subplot(2,2,3)\n",
        "stats.probplot(df[\"Humidity3pm\"], plot = plt)\n",
        "\n",
        "plt.show()"
      ],
      "execution_count": 14,
      "outputs": [
        {
          "output_type": "stream",
          "text": [
            "/usr/local/lib/python3.7/dist-packages/seaborn/distributions.py:2557: FutureWarning: `distplot` is a deprecated function and will be removed in a future version. Please adapt your code to use either `displot` (a figure-level function with similar flexibility) or `histplot` (an axes-level function for histograms).\n",
            "  warnings.warn(msg, FutureWarning)\n"
          ],
          "name": "stderr"
        },
        {
          "output_type": "display_data",
          "data": {
            "image/png": "[encoded data removed]",
            "text/plain": [
              "<Figure size 936x720 with 3 Axes>"
            ]
          },
          "metadata": {
            "tags": [],
            "needs_background": "light"
          }
        }
      ]
    },
    {
      "cell_type": "markdown",
      "metadata": {
        "id": "ajwM129JAqM1"
      },
      "source": [
        "#### 1.6.2. Rainfall"
      ]
    },
    {
      "cell_type": "code",
      "metadata": {
        "colab": {
          "base_uri": "https://localhost:8080/",
          "height": 82
        },
        "id": "ySKZOgGg7vPE",
        "outputId": "9107f7ca-f439-4017-f6a6-cc2979fc2e73"
      },
      "source": [
        "df[[\"Rainfall\",\"RainTomorrow\"]].groupby([\"RainTomorrow\"], as_index = False).mean().sort_values(by = \"RainTomorrow\").style.background_gradient(\"Reds\")"
      ],
      "execution_count": 15,
      "outputs": [
        {
          "output_type": "execute_result",
          "data": {
            "text/html": [
              "<style  type=\"text/css\" >\n",
              "#T_2668daaa_ceb2_11eb_8ebd_0242ac1c0002row0_col0,#T_2668daaa_ceb2_11eb_8ebd_0242ac1c0002row0_col1{\n",
              "            background-color:  #fff5f0;\n",
              "            color:  #000000;\n",
              "        }#T_2668daaa_ceb2_11eb_8ebd_0242ac1c0002row1_col0,#T_2668daaa_ceb2_11eb_8ebd_0242ac1c0002row1_col1{\n",
              "            background-color:  #67000d;\n",
              "            color:  #f1f1f1;\n",
              "        }</style><table id=\"T_2668daaa_ceb2_11eb_8ebd_0242ac1c0002\" ><thead>    <tr>        <th class=\"blank level0\" ></th>        <th class=\"col_heading level0 col0\" >RainTomorrow</th>        <th class=\"col_heading level0 col1\" >Rainfall</th>    </tr></thead><tbody>\n",
              "                <tr>\n",
              "                        <th id=\"T_2668daaa_ceb2_11eb_8ebd_0242ac1c0002level0_row0\" class=\"row_heading level0 row0\" >0</th>\n",
              "                        <td id=\"T_2668daaa_ceb2_11eb_8ebd_0242ac1c0002row0_col0\" class=\"data row0 col0\" >0.000000</td>\n",
              "                        <td id=\"T_2668daaa_ceb2_11eb_8ebd_0242ac1c0002row0_col1\" class=\"data row0 col1\" >0.033865</td>\n",
              "            </tr>\n",
              "            <tr>\n",
              "                        <th id=\"T_2668daaa_ceb2_11eb_8ebd_0242ac1c0002level0_row1\" class=\"row_heading level0 row1\" >1</th>\n",
              "                        <td id=\"T_2668daaa_ceb2_11eb_8ebd_0242ac1c0002row1_col0\" class=\"data row1 col0\" >1.000000</td>\n",
              "                        <td id=\"T_2668daaa_ceb2_11eb_8ebd_0242ac1c0002row1_col1\" class=\"data row1 col1\" >0.125855</td>\n",
              "            </tr>\n",
              "    </tbody></table>"
            ],
            "text/plain": [
              "<pandas.io.formats.style.Styler at 0x7fa0cd7f0f50>"
            ]
          },
          "metadata": {
            "tags": []
          },
          "execution_count": 15
        }
      ]
    },
    {
      "cell_type": "code",
      "metadata": {
        "colab": {
          "base_uri": "https://localhost:8080/",
          "height": 673
        },
        "id": "Z9IvKGh2Aq2P",
        "outputId": "d3f849c2-f50c-42f9-cdb0-99ba15dff50e"
      },
      "source": [
        "plt.figure(figsize=(13,10))\n",
        "plt.subplot(2,2,1)\n",
        "plt.hist(df[\"Rainfall\"], color=\"purple\")\n",
        "plt.xlabel(\"Rainfall\")\n",
        "plt.ylabel(\"Frequency\")\n",
        "plt.title(\"Rainfall histogram\", color = \"black\", fontweight='bold', fontsize = 11)\n",
        "plt.subplot(2,2,2)\n",
        "sns.distplot(df[\"Rainfall\"], fit=norm, color=\"purple\")\n",
        "plt.title(\"Rainfall Distplot\", color = \"black\", fontweight='bold', fontsize = 11)\n",
        "plt.subplot(2,2,3)\n",
        "stats.probplot(df[\"Rainfall\"], plot = plt)\n",
        "\n",
        "plt.show()"
      ],
      "execution_count": 16,
      "outputs": [
        {
          "output_type": "stream",
          "text": [
            "/usr/local/lib/python3.7/dist-packages/seaborn/distributions.py:2557: FutureWarning: `distplot` is a deprecated function and will be removed in a future version. Please adapt your code to use either `displot` (a figure-level function with similar flexibility) or `histplot` (an axes-level function for histograms).\n",
            "  warnings.warn(msg, FutureWarning)\n"
          ],
          "name": "stderr"
        },
        {
          "output_type": "display_data",
          "data": {
            "image/png": "[encoded data removed]",
            "text/plain": [
              "<Figure size 936x720 with 3 Axes>"
            ]
          },
          "metadata": {
            "tags": [],
            "needs_background": "light"
          }
        }
      ]
    },
    {
      "cell_type": "markdown",
      "metadata": {
        "id": "JWdfygdCAqje"
      },
      "source": [
        "#### 1.6.3. Rain Today"
      ]
    },
    {
      "cell_type": "code",
      "metadata": {
        "colab": {
          "base_uri": "https://localhost:8080/",
          "height": 82
        },
        "id": "wurp0SJp7vka",
        "outputId": "4908e773-0aeb-4ee0-8e97-31b089d89750"
      },
      "source": [
        "df[[\"RainToday\",\"RainTomorrow\"]].groupby([\"RainTomorrow\"], as_index = False).mean().sort_values(by = \"RainTomorrow\").style.background_gradient(\"Reds\")"
      ],
      "execution_count": 17,
      "outputs": [
        {
          "output_type": "execute_result",
          "data": {
            "text/html": [
              "<style  type=\"text/css\" >\n",
              "#T_2735a3a0_ceb2_11eb_8ebd_0242ac1c0002row0_col0,#T_2735a3a0_ceb2_11eb_8ebd_0242ac1c0002row0_col1{\n",
              "            background-color:  #fff5f0;\n",
              "            color:  #000000;\n",
              "        }#T_2735a3a0_ceb2_11eb_8ebd_0242ac1c0002row1_col0,#T_2735a3a0_ceb2_11eb_8ebd_0242ac1c0002row1_col1{\n",
              "            background-color:  #67000d;\n",
              "            color:  #f1f1f1;\n",
              "        }</style><table id=\"T_2735a3a0_ceb2_11eb_8ebd_0242ac1c0002\" ><thead>    <tr>        <th class=\"blank level0\" ></th>        <th class=\"col_heading level0 col0\" >RainTomorrow</th>        <th class=\"col_heading level0 col1\" >RainToday</th>    </tr></thead><tbody>\n",
              "                <tr>\n",
              "                        <th id=\"T_2735a3a0_ceb2_11eb_8ebd_0242ac1c0002level0_row0\" class=\"row_heading level0 row0\" >0</th>\n",
              "                        <td id=\"T_2735a3a0_ceb2_11eb_8ebd_0242ac1c0002row0_col0\" class=\"data row0 col0\" >0.000000</td>\n",
              "                        <td id=\"T_2735a3a0_ceb2_11eb_8ebd_0242ac1c0002row0_col1\" class=\"data row0 col1\" >0.147961</td>\n",
              "            </tr>\n",
              "            <tr>\n",
              "                        <th id=\"T_2735a3a0_ceb2_11eb_8ebd_0242ac1c0002level0_row1\" class=\"row_heading level0 row1\" >1</th>\n",
              "                        <td id=\"T_2735a3a0_ceb2_11eb_8ebd_0242ac1c0002row1_col0\" class=\"data row1 col0\" >1.000000</td>\n",
              "                        <td id=\"T_2735a3a0_ceb2_11eb_8ebd_0242ac1c0002row1_col1\" class=\"data row1 col1\" >0.437190</td>\n",
              "            </tr>\n",
              "    </tbody></table>"
            ],
            "text/plain": [
              "<pandas.io.formats.style.Styler at 0x7fa0cd474e50>"
            ]
          },
          "metadata": {
            "tags": []
          },
          "execution_count": 17
        }
      ]
    },
    {
      "cell_type": "code",
      "metadata": {
        "colab": {
          "base_uri": "https://localhost:8080/",
          "height": 377
        },
        "id": "RU52DkQ4Arj9",
        "outputId": "1be460bd-bb14-423f-eb8f-87874cf5e08c"
      },
      "source": [
        "plt.figure(figsize=(13,10))\n",
        "plt.subplot(2,2,1)\n",
        "plt.hist(df[\"RainToday\"], color=\"blue\")\n",
        "plt.xlabel(\"RainToday\")\n",
        "plt.ylabel(\"Frequency\")\n",
        "plt.title(\"RainToday histogram\", color = \"black\", fontweight='bold', fontsize = 11)\n",
        "plt.subplot(2,2,2)\n",
        "sns.distplot(df[\"RainToday\"], fit=norm, color=\"blue\")\n",
        "plt.title(\"RainToday Distplot\", color = \"black\", fontweight='bold', fontsize = 11)\n",
        "\n",
        "plt.show()"
      ],
      "execution_count": 18,
      "outputs": [
        {
          "output_type": "stream",
          "text": [
            "/usr/local/lib/python3.7/dist-packages/seaborn/distributions.py:2557: FutureWarning: `distplot` is a deprecated function and will be removed in a future version. Please adapt your code to use either `displot` (a figure-level function with similar flexibility) or `histplot` (an axes-level function for histograms).\n",
            "  warnings.warn(msg, FutureWarning)\n"
          ],
          "name": "stderr"
        },
        {
          "output_type": "display_data",
          "data": {
            "image/png": "[encoded data removed]",
            "text/plain": [
              "<Figure size 936x720 with 2 Axes>"
            ]
          },
          "metadata": {
            "tags": [],
            "needs_background": "light"
          }
        }
      ]
    },
    {
      "cell_type": "markdown",
      "metadata": {
        "id": "SYAX9Zrc7tUT"
      },
      "source": [
        "### 1.7. Spliting the data"
      ]
    },
    {
      "cell_type": "code",
      "metadata": {
        "id": "UJago0g50fCY"
      },
      "source": [
        "X = df[['Humidity3pm','Rainfall','RainToday']]\n",
        "y = df[['RainTomorrow']]"
      ],
      "execution_count": 19,
      "outputs": []
    },
    {
      "cell_type": "code",
      "metadata": {
        "id": "3ZLfKW6X0fAH",
        "colab": {
          "base_uri": "https://localhost:8080/"
        },
        "outputId": "19c28d9b-75c3-4b71-ad55-d82c861b44ed"
      },
      "source": [
        "X_train, X_test, y_train, y_test = train_test_split(X, y, test_size=0.2)\n",
        "\n",
        "print(f'Number of rows in train dataset: \\n{X_train.count()} \\n')\n",
        "print(f'Number of rows in test dataset: \\n{X_test.count()}')"
      ],
      "execution_count": 20,
      "outputs": [
        {
          "output_type": "stream",
          "text": [
            "Number of rows in train dataset: \n",
            "Humidity3pm    86294\n",
            "Rainfall       86294\n",
            "RainToday      86294\n",
            "dtype: int64 \n",
            "\n",
            "Number of rows in test dataset: \n",
            "Humidity3pm    21574\n",
            "Rainfall       21574\n",
            "RainToday      21574\n",
            "dtype: int64\n"
          ],
          "name": "stdout"
        }
      ]
    },
    {
      "cell_type": "markdown",
      "metadata": {
        "id": "WQ0EMskQNWN2"
      },
      "source": [
        "### 1.8. Upsampling (not used)\n",
        "\n",
        "Upsampling can really help us to get more equal f1 score (between 2 classes), but we dont want do use it here. We can recive better accuracy without up/downsampling because there are a lot more days without rain."
      ]
    },
    {
      "cell_type": "code",
      "metadata": {
        "id": "9o3gXnBINGxL",
        "colab": {
          "base_uri": "https://localhost:8080/"
        },
        "outputId": "a9e789ea-a770-4e9b-fd7b-9af97f4f1b23"
      },
      "source": [
        "from imblearn.over_sampling import SMOTE\n",
        "import collections"
      ],
      "execution_count": 21,
      "outputs": [
        {
          "output_type": "stream",
          "text": [
            "/usr/local/lib/python3.7/dist-packages/sklearn/externals/six.py:31: FutureWarning: The module is deprecated in version 0.21 and will be removed in version 0.23 since we've dropped support for Python 2.7. Please rely on the official version of six (https://pypi.org/project/six/).\n",
            "  \"(https://pypi.org/project/six/).\", FutureWarning)\n",
            "/usr/local/lib/python3.7/dist-packages/sklearn/utils/deprecation.py:144: FutureWarning: The sklearn.neighbors.base module is  deprecated in version 0.22 and will be removed in version 0.24. The corresponding classes / functions should instead be imported from sklearn.neighbors. Anything that cannot be imported from sklearn.neighbors is now part of the private API.\n",
            "  warnings.warn(message, FutureWarning)\n"
          ],
          "name": "stderr"
        }
      ]
    },
    {
      "cell_type": "code",
      "metadata": {
        "colab": {
          "base_uri": "https://localhost:8080/",
          "height": 35
        },
        "id": "EZ7Twlb8Mx2w",
        "outputId": "686410c3-710f-4225-8f8d-63cdaef4b036"
      },
      "source": [
        "'''\n",
        "sm = SMOTE(random_state=14)\n",
        "X_train_sm, y_train_sm = sm.fit_resample(X_train, y_train)\n",
        "'''"
      ],
      "execution_count": 22,
      "outputs": [
        {
          "output_type": "execute_result",
          "data": {
            "application/vnd.google.colaboratory.intrinsic+json": {
              "type": "string"
            },
            "text/plain": [
              "'\\nsm = SMOTE(random_state=14)\\nX_train_sm, y_train_sm = sm.fit_resample(X_train, y_train)\\n'"
            ]
          },
          "metadata": {
            "tags": []
          },
          "execution_count": 22
        }
      ]
    },
    {
      "cell_type": "markdown",
      "metadata": {
        "id": "qtnFcr33Etro"
      },
      "source": [
        "# 2. Creating and Fitting the Models + Evaluation"
      ]
    },
    {
      "cell_type": "code",
      "metadata": {
        "id": "KFi67M2S9dyk"
      },
      "source": [
        "from sklearn.metrics import accuracy_score\n",
        "from sklearn.metrics import confusion_matrix, classification_report\n",
        "\n",
        "classes = ['No rain', 'Raining']"
      ],
      "execution_count": 23,
      "outputs": []
    },
    {
      "cell_type": "markdown",
      "metadata": {
        "id": "j_bZATHe8VZg"
      },
      "source": [
        "### 2.1. Logistic Regresion"
      ]
    },
    {
      "cell_type": "code",
      "metadata": {
        "id": "k-jG3STrEsQX"
      },
      "source": [
        "from sklearn.linear_model import LogisticRegression"
      ],
      "execution_count": 24,
      "outputs": []
    },
    {
      "cell_type": "code",
      "metadata": {
        "colab": {
          "base_uri": "https://localhost:8080/"
        },
        "id": "27rjXJD7E1NB",
        "outputId": "96820b4f-007f-4929-9457-8691a016c2b1"
      },
      "source": [
        "clf_logreg = LogisticRegression(random_state=0)\n",
        "clf_logreg.fit(X_train,y_train)\n",
        "\n",
        "y_pred_1 = clf_logreg.predict(X_test)\n",
        "score_1 = accuracy_score(y_test,y_pred_1)\n",
        "\n",
        "print(classification_report(y_test, y_pred_1, target_names=classes))"
      ],
      "execution_count": 25,
      "outputs": [
        {
          "output_type": "stream",
          "text": [
            "/usr/local/lib/python3.7/dist-packages/sklearn/utils/validation.py:760: DataConversionWarning: A column-vector y was passed when a 1d array was expected. Please change the shape of y to (n_samples, ), for example using ravel().\n",
            "  y = column_or_1d(y, warn=True)\n"
          ],
          "name": "stderr"
        },
        {
          "output_type": "stream",
          "text": [
            "Accuracy : 0.8414294984703811\n",
            "              precision    recall  f1-score   support\n",
            "\n",
            "     No rain       0.86      0.96      0.91     17104\n",
            "     Raining       0.73      0.38      0.50      4470\n",
            "\n",
            "    accuracy                           0.84     21574\n",
            "   macro avg       0.79      0.67      0.70     21574\n",
            "weighted avg       0.83      0.84      0.82     21574\n",
            "\n"
          ],
          "name": "stdout"
        }
      ]
    },
    {
      "cell_type": "code",
      "metadata": {
        "colab": {
          "base_uri": "https://localhost:8080/",
          "height": 297
        },
        "id": "L_21KjPZzuzj",
        "outputId": "b2ca345f-1b55-4930-ed9f-661f31271b6e"
      },
      "source": [
        "cm = confusion_matrix(y_test, y_pred_1)\n",
        "\n",
        "df_cm = pd.DataFrame(cm, index=classes, columns=classes)\n",
        "hmap = sns.heatmap(df_cm, annot=True, fmt=\"d\")\n",
        "hmap.yaxis.set_ticklabels(hmap.yaxis.get_ticklabels(), rotation=0, ha='right')\n",
        "hmap.xaxis.set_ticklabels(hmap.xaxis.get_ticklabels(), rotation=30, ha='right')\n",
        "plt.ylabel('True label')\n",
        "plt.xlabel('Predicted label');"
      ],
      "execution_count": 26,
      "outputs": [
        {
          "output_type": "display_data",
          "data": {
            "image/png": "[encoded data removed]",
            "text/plain": [
              "<Figure size 432x288 with 2 Axes>"
            ]
          },
          "metadata": {
            "tags": [],
            "needs_background": "light"
          }
        }
      ]
    },
    {
      "cell_type": "markdown",
      "metadata": {
        "id": "FNg2gl1z8z6W"
      },
      "source": [
        "### 2.2. Decision Tree"
      ]
    },
    {
      "cell_type": "code",
      "metadata": {
        "id": "hzg-uzX8FFvx"
      },
      "source": [
        "from sklearn.tree import DecisionTreeClassifier"
      ],
      "execution_count": 27,
      "outputs": []
    },
    {
      "cell_type": "code",
      "metadata": {
        "colab": {
          "base_uri": "https://localhost:8080/"
        },
        "id": "uH7_nt6pFJuR",
        "outputId": "b8b0e447-e3ad-4606-800d-4354ef513e58"
      },
      "source": [
        "clf_dt = DecisionTreeClassifier(random_state=0)\n",
        "clf_dt.fit(X_train,y_train)\n",
        "\n",
        "y_pred_2 = clf_dt.predict(X_test)\n",
        "score_2 = accuracy_score(y_test,y_pred_2)\n",
        "\n",
        "print(classification_report(y_test, y_pred_2, target_names=classes))"
      ],
      "execution_count": 28,
      "outputs": [
        {
          "output_type": "stream",
          "text": [
            "Accuracy : 0.8328080096412348\n",
            "              precision    recall  f1-score   support\n",
            "\n",
            "     No rain       0.85      0.96      0.90     17104\n",
            "     Raining       0.69      0.36      0.47      4470\n",
            "\n",
            "    accuracy                           0.83     21574\n",
            "   macro avg       0.77      0.66      0.68     21574\n",
            "weighted avg       0.82      0.83      0.81     21574\n",
            "\n"
          ],
          "name": "stdout"
        }
      ]
    },
    {
      "cell_type": "code",
      "metadata": {
        "colab": {
          "base_uri": "https://localhost:8080/",
          "height": 297
        },
        "id": "rAe5TzMdz2fZ",
        "outputId": "6b670d1e-4732-4b05-b4b0-4924ab18db71"
      },
      "source": [
        "cm = confusion_matrix(y_test, y_pred_2)\n",
        "df_cm = pd.DataFrame(cm, index=classes, columns=classes)\n",
        "hmap = sns.heatmap(df_cm, annot=True, fmt=\"d\")\n",
        "hmap.yaxis.set_ticklabels(hmap.yaxis.get_ticklabels(), rotation=0, ha='right')\n",
        "hmap.xaxis.set_ticklabels(hmap.xaxis.get_ticklabels(), rotation=30, ha='right')\n",
        "plt.ylabel('True label')\n",
        "plt.xlabel('Predicted label');"
      ],
      "execution_count": 29,
      "outputs": [
        {
          "output_type": "display_data",
          "data": {
            "image/png": "[encoded data removed]",
            "text/plain": [
              "<Figure size 432x288 with 2 Axes>"
            ]
          },
          "metadata": {
            "tags": [],
            "needs_background": "light"
          }
        }
      ]
    },
    {
      "cell_type": "markdown",
      "metadata": {
        "id": "VlW94e7c9IlP"
      },
      "source": [
        "### 2.3. Random Forest"
      ]
    },
    {
      "cell_type": "code",
      "metadata": {
        "id": "CWVaq24BE7wo"
      },
      "source": [
        "from sklearn.ensemble import RandomForestClassifier"
      ],
      "execution_count": 30,
      "outputs": []
    },
    {
      "cell_type": "code",
      "metadata": {
        "colab": {
          "base_uri": "https://localhost:8080/"
        },
        "id": "q16fyjbRFBpR",
        "outputId": "aa89990c-7277-4fde-d8fb-fb304034b358"
      },
      "source": [
        "clf_rf = RandomForestClassifier(n_estimators=100, max_depth=4,random_state=0)\n",
        "clf_rf.fit(X_train,y_train)\n",
        "\n",
        "y_pred_3 = clf_rf.predict(X_test)\n",
        "score_3 = accuracy_score(y_test,y_pred_3)\n",
        "\n",
        "print(classification_report(y_test, y_pred_3, target_names=classes))"
      ],
      "execution_count": 31,
      "outputs": [
        {
          "output_type": "stream",
          "text": [
            "/usr/local/lib/python3.7/dist-packages/ipykernel_launcher.py:2: DataConversionWarning: A column-vector y was passed when a 1d array was expected. Please change the shape of y to (n_samples,), for example using ravel().\n",
            "  \n"
          ],
          "name": "stderr"
        },
        {
          "output_type": "stream",
          "text": [
            "Accuracy : 0.842263836099008\n",
            "              precision    recall  f1-score   support\n",
            "\n",
            "     No rain       0.86      0.96      0.91     17104\n",
            "     Raining       0.73      0.38      0.50      4470\n",
            "\n",
            "    accuracy                           0.84     21574\n",
            "   macro avg       0.79      0.67      0.70     21574\n",
            "weighted avg       0.83      0.84      0.82     21574\n",
            "\n"
          ],
          "name": "stdout"
        }
      ]
    },
    {
      "cell_type": "code",
      "metadata": {
        "colab": {
          "base_uri": "https://localhost:8080/",
          "height": 297
        },
        "id": "3gMXFjHVz4Q9",
        "outputId": "11ce954c-a75e-4369-dee4-66cfb0950533"
      },
      "source": [
        "cm = confusion_matrix(y_test, y_pred_3)\n",
        "df_cm = pd.DataFrame(cm, index=classes, columns=classes)\n",
        "hmap = sns.heatmap(df_cm, annot=True, fmt=\"d\")\n",
        "hmap.yaxis.set_ticklabels(hmap.yaxis.get_ticklabels(), rotation=0, ha='right')\n",
        "hmap.xaxis.set_ticklabels(hmap.xaxis.get_ticklabels(), rotation=30, ha='right')\n",
        "plt.ylabel('True label')\n",
        "plt.xlabel('Predicted label');"
      ],
      "execution_count": 32,
      "outputs": [
        {
          "output_type": "display_data",
          "data": {
            "image/png": "[encoded data removed]",
            "text/plain": [
              "<Figure size 432x288 with 2 Axes>"
            ]
          },
          "metadata": {
            "tags": [],
            "needs_background": "light"
          }
        }
      ]
    },
    {
      "cell_type": "markdown",
      "metadata": {
        "id": "12ZcTDGg9UMn"
      },
      "source": [
        "### 2.4. KNeighborsClassifier"
      ]
    },
    {
      "cell_type": "code",
      "metadata": {
        "id": "oyk4r6VMFQ1y"
      },
      "source": [
        "from sklearn.neighbors import KNeighborsClassifier"
      ],
      "execution_count": 33,
      "outputs": []
    },
    {
      "cell_type": "code",
      "metadata": {
        "colab": {
          "base_uri": "https://localhost:8080/"
        },
        "id": "2TYx5vvyFVL5",
        "outputId": "90cfb201-78a5-4c63-c380-7e6954054a65"
      },
      "source": [
        "knn = KNeighborsClassifier(n_neighbors = 2)\n",
        "knn.fit(X_train, y_train)\n",
        "\n",
        "y_pred_4 = knn.predict(X_test)\n",
        "score_4 = accuracy_score(y_test,y_pred_4)\n",
        "\n",
        "print(classification_report(y_test, y_pred_4, target_names=classes))"
      ],
      "execution_count": 34,
      "outputs": [
        {
          "output_type": "stream",
          "text": [
            "/usr/local/lib/python3.7/dist-packages/ipykernel_launcher.py:2: DataConversionWarning: A column-vector y was passed when a 1d array was expected. Please change the shape of y to (n_samples, ), for example using ravel().\n",
            "  \n"
          ],
          "name": "stderr"
        },
        {
          "output_type": "stream",
          "text": [
            "Accuracy : 0.8090757393158431\n",
            "              precision    recall  f1-score   support\n",
            "\n",
            "     No rain       0.83      0.95      0.89     17104\n",
            "     Raining       0.58      0.27      0.37      4470\n",
            "\n",
            "    accuracy                           0.81     21574\n",
            "   macro avg       0.71      0.61      0.63     21574\n",
            "weighted avg       0.78      0.81      0.78     21574\n",
            "\n"
          ],
          "name": "stdout"
        }
      ]
    },
    {
      "cell_type": "code",
      "metadata": {
        "colab": {
          "base_uri": "https://localhost:8080/",
          "height": 298
        },
        "id": "ikTYMxXcz5jD",
        "outputId": "89570a7c-c46a-4f32-beda-194c76944035"
      },
      "source": [
        "cm = confusion_matrix(y_test, y_pred_4)\n",
        "df_cm = pd.DataFrame(cm, index=classes, columns=classes)\n",
        "hmap = sns.heatmap(df_cm, annot=True, fmt=\"d\")\n",
        "hmap.yaxis.set_ticklabels(hmap.yaxis.get_ticklabels(), rotation=0, ha='right')\n",
        "hmap.xaxis.set_ticklabels(hmap.xaxis.get_ticklabels(), rotation=30, ha='right')\n",
        "plt.ylabel('True label')\n",
        "plt.xlabel('Predicted label');"
      ],
      "execution_count": 35,
      "outputs": [
        {
          "output_type": "display_data",
          "data": {
            "image/png": "[encoded data removed]",
            "text/plain": [
              "<Figure size 432x288 with 2 Axes>"
            ]
          },
          "metadata": {
            "tags": [],
            "needs_background": "light"
          }
        }
      ]
    },
    {
      "cell_type": "markdown",
      "metadata": {
        "id": "9KjyM8FLFeZI"
      },
      "source": [
        "### 2.5. Neural Network (built in pytorch)\n"
      ]
    },
    {
      "cell_type": "code",
      "metadata": {
        "colab": {
          "base_uri": "https://localhost:8080/"
        },
        "id": "39Q2cAJbFXxQ",
        "outputId": "4607940a-845b-418d-a80c-1e162f64f5c5"
      },
      "source": [
        "X_train = torch.from_numpy(X_train.to_numpy()).float()\n",
        "y_train = torch.squeeze(torch.from_numpy(y_train.to_numpy()).float())\n",
        "\n",
        "X_test = torch.from_numpy(X_test.to_numpy()).float()\n",
        "y_test = torch.squeeze(torch.from_numpy(y_test.to_numpy()).float())\n",
        "\n",
        "print(X_train.shape, y_train.shape)\n",
        "print(X_test.shape, y_test.shape)"
      ],
      "execution_count": 36,
      "outputs": [
        {
          "output_type": "stream",
          "text": [
            "torch.Size([86294, 3]) torch.Size([86294])\n",
            "torch.Size([21574, 3]) torch.Size([21574])\n"
          ],
          "name": "stdout"
        }
      ]
    },
    {
      "cell_type": "code",
      "metadata": {
        "id": "f2JBpUqqFh1p"
      },
      "source": [
        "class Net(nn.Module):\n",
        "  def __init__(self, n_features): # NN Constructor\n",
        "    super(Net, self).__init__() #super constructor\n",
        "    self.fc1 = nn.Linear(n_features, 32) #Input to Hidden Layer\n",
        "    self.fc2 = nn.Linear(32, 16) #Hidden to Hidden Layer\n",
        "    self.fc3 = nn.Linear(16, 8) #Hidden to Hidden Layer\n",
        "    self.fc4 = nn.Linear(8, 1) #Hidden to Output Layer\n",
        "    \n",
        "  def forward(self, x): #passing outputs to another layers\n",
        "    x = F.relu(self.fc1(x)) # In to Hid Layer (relu)\n",
        "    x = F.relu(self.fc2(x)) # In to Hid Layer (relu)\n",
        "    x = F.relu(self.fc3(x)) # Hid to Hid Layer (relu)\n",
        "    return torch.sigmoid(self.fc4(x)) # Hid to Out Layer (sigmoid)\n",
        "\n",
        "net = Net(X_train.shape[1]) "
      ],
      "execution_count": 37,
      "outputs": []
    },
    {
      "cell_type": "code",
      "metadata": {
        "id": "LQpqExjOFkKQ"
      },
      "source": [
        "criterion = nn.BCELoss() #Binary Cross Entropy Loss"
      ],
      "execution_count": 38,
      "outputs": []
    },
    {
      "cell_type": "code",
      "metadata": {
        "id": "vMBTtfXJFlfS"
      },
      "source": [
        "optimizer = optim.Adam(net.parameters(), lr=0.001) #Optimizer"
      ],
      "execution_count": 39,
      "outputs": []
    },
    {
      "cell_type": "code",
      "metadata": {
        "id": "lkUD68pOFmcS"
      },
      "source": [
        "def calculate_accuracy(y_true, y_pred):\n",
        "  predicted = y_pred.ge(.5).view(-1)\n",
        "  return (y_true == predicted).sum().float() / len(y_true)"
      ],
      "execution_count": 40,
      "outputs": []
    },
    {
      "cell_type": "code",
      "metadata": {
        "id": "4G0uFOXMFn9A"
      },
      "source": [
        "def round_tensor(t, decimal_places=3):\n",
        "  return round(t.item(), decimal_places)"
      ],
      "execution_count": 41,
      "outputs": []
    },
    {
      "cell_type": "code",
      "metadata": {
        "colab": {
          "base_uri": "https://localhost:8080/"
        },
        "id": "FN0z-edRFo1L",
        "outputId": "b7cd2e3f-d096-4b25-c91b-05d1ec8ce1b4"
      },
      "source": [
        "for epoch in range(1000):\n",
        "    y_pred = net(X_train)\n",
        "    y_pred = torch.squeeze(y_pred)\n",
        "    train_loss = criterion(y_pred, y_train)\n",
        "    if epoch % 50 == 0:\n",
        "      train_acc = calculate_accuracy(y_train, y_pred)\n",
        "      y_test_pred = net(X_test)\n",
        "      y_test_pred = torch.squeeze(y_test_pred)\n",
        "      test_loss = criterion(y_test_pred, y_test)\n",
        "      test_acc = calculate_accuracy(y_test, y_test_pred)\n",
        "      print(\n",
        "f'''epoch {epoch}\n",
        "Train set - loss: {round_tensor(train_loss)}, accuracy: {round_tensor(train_acc)}\n",
        "Test  set - loss: {round_tensor(test_loss)}, accuracy: {round_tensor(test_acc)}\n",
        "''')\n",
        "    optimizer.zero_grad()\n",
        "    train_loss.backward()\n",
        "    optimizer.step()"
      ],
      "execution_count": 42,
      "outputs": [
        {
          "output_type": "stream",
          "text": [
            "epoch 0\n",
            "Train set - loss: 0.838, accuracy: 0.208\n",
            "Test  set - loss: 0.838, accuracy: 0.207\n",
            "\n",
            "epoch 50\n",
            "Train set - loss: 0.723, accuracy: 0.234\n",
            "Test  set - loss: 0.723, accuracy: 0.236\n",
            "\n",
            "epoch 100\n",
            "Train set - loss: 0.516, accuracy: 0.792\n",
            "Test  set - loss: 0.515, accuracy: 0.793\n",
            "\n",
            "epoch 150\n",
            "Train set - loss: 0.45, accuracy: 0.8\n",
            "Test  set - loss: 0.451, accuracy: 0.801\n",
            "\n",
            "epoch 200\n",
            "Train set - loss: 0.42, accuracy: 0.825\n",
            "Test  set - loss: 0.422, accuracy: 0.825\n",
            "\n",
            "epoch 250\n",
            "Train set - loss: 0.397, accuracy: 0.832\n",
            "Test  set - loss: 0.398, accuracy: 0.832\n",
            "\n",
            "epoch 300\n",
            "Train set - loss: 0.391, accuracy: 0.839\n",
            "Test  set - loss: 0.392, accuracy: 0.842\n",
            "\n",
            "epoch 350\n",
            "Train set - loss: 0.39, accuracy: 0.84\n",
            "Test  set - loss: 0.39, accuracy: 0.842\n",
            "\n",
            "epoch 400\n",
            "Train set - loss: 0.389, accuracy: 0.84\n",
            "Test  set - loss: 0.389, accuracy: 0.842\n",
            "\n",
            "epoch 450\n",
            "Train set - loss: 0.389, accuracy: 0.84\n",
            "Test  set - loss: 0.389, accuracy: 0.842\n",
            "\n",
            "epoch 500\n",
            "Train set - loss: 0.389, accuracy: 0.84\n",
            "Test  set - loss: 0.389, accuracy: 0.842\n",
            "\n",
            "epoch 550\n",
            "Train set - loss: 0.389, accuracy: 0.84\n",
            "Test  set - loss: 0.389, accuracy: 0.843\n",
            "\n",
            "epoch 600\n",
            "Train set - loss: 0.388, accuracy: 0.84\n",
            "Test  set - loss: 0.388, accuracy: 0.842\n",
            "\n",
            "epoch 650\n",
            "Train set - loss: 0.388, accuracy: 0.84\n",
            "Test  set - loss: 0.388, accuracy: 0.842\n",
            "\n",
            "epoch 700\n",
            "Train set - loss: 0.388, accuracy: 0.84\n",
            "Test  set - loss: 0.388, accuracy: 0.842\n",
            "\n",
            "epoch 750\n",
            "Train set - loss: 0.388, accuracy: 0.84\n",
            "Test  set - loss: 0.388, accuracy: 0.843\n",
            "\n",
            "epoch 800\n",
            "Train set - loss: 0.388, accuracy: 0.84\n",
            "Test  set - loss: 0.388, accuracy: 0.843\n",
            "\n",
            "epoch 850\n",
            "Train set - loss: 0.388, accuracy: 0.84\n",
            "Test  set - loss: 0.388, accuracy: 0.842\n",
            "\n",
            "epoch 900\n",
            "Train set - loss: 0.388, accuracy: 0.84\n",
            "Test  set - loss: 0.388, accuracy: 0.842\n",
            "\n",
            "epoch 950\n",
            "Train set - loss: 0.388, accuracy: 0.84\n",
            "Test  set - loss: 0.388, accuracy: 0.842\n",
            "\n"
          ],
          "name": "stdout"
        }
      ]
    },
    {
      "cell_type": "code",
      "metadata": {
        "colab": {
          "base_uri": "https://localhost:8080/"
        },
        "id": "YO7rXCMrFqty",
        "outputId": "61024d33-01c3-4002-8e9d-7832773edbd2"
      },
      "source": [
        "y_pred_5 = net(X_test)\n",
        "y_pred_5 = y_pred_5.ge(.5).view(-1).cpu()\n",
        "score_5 = accuracy_score(y_test,y_pred_5)\n",
        "y_test = y_test.cpu()\n",
        "print(classification_report(y_test, y_pred_5, target_names=classes))"
      ],
      "execution_count": 43,
      "outputs": [
        {
          "output_type": "stream",
          "text": [
            "              precision    recall  f1-score   support\n",
            "\n",
            "     No rain       0.86      0.96      0.91     17104\n",
            "     Raining       0.73      0.38      0.50      4470\n",
            "\n",
            "    accuracy                           0.84     21574\n",
            "   macro avg       0.79      0.67      0.70     21574\n",
            "weighted avg       0.83      0.84      0.82     21574\n",
            "\n"
          ],
          "name": "stdout"
        }
      ]
    },
    {
      "cell_type": "code",
      "metadata": {
        "colab": {
          "base_uri": "https://localhost:8080/",
          "height": 297
        },
        "id": "SG1Rmld1FvCM",
        "outputId": "02ed0130-0888-435e-8c53-6a82fa794f9e"
      },
      "source": [
        "cm = confusion_matrix(y_test, y_pred_5)\n",
        "df_cm = pd.DataFrame(cm, index=classes, columns=classes)\n",
        "hmap = sns.heatmap(df_cm, annot=True, fmt=\"d\")\n",
        "hmap.yaxis.set_ticklabels(hmap.yaxis.get_ticklabels(), rotation=0, ha='right')\n",
        "hmap.xaxis.set_ticklabels(hmap.xaxis.get_ticklabels(), rotation=30, ha='right')\n",
        "plt.ylabel('True label')\n",
        "plt.xlabel('Predicted label');"
      ],
      "execution_count": 44,
      "outputs": [
        {
          "output_type": "display_data",
          "data": {
            "image/png": "[encoded data removed]",
            "text/plain": [
              "<Figure size 432x288 with 2 Axes>"
            ]
          },
          "metadata": {
            "tags": [],
            "needs_background": "light"
          }
        }
      ]
    },
    {
      "cell_type": "markdown",
      "metadata": {
        "id": "E0e3Lx-q_h4S"
      },
      "source": [
        "### 2.6. Results"
      ]
    },
    {
      "cell_type": "code",
      "metadata": {
        "colab": {
          "base_uri": "https://localhost:8080/"
        },
        "id": "BCdUsy-Cz9r-",
        "outputId": "f9a73c38-8354-4f4f-8846-787756c5d339"
      },
      "source": [
        "print(f'Scores for different models: \\nLinear Regresion {score_1} \\nDecision Tree {score_2} \\nRandom Forest {score_3} \\nKNeighborsClassifier {score_4} \\nNeural Network {score_5}')"
      ],
      "execution_count": 45,
      "outputs": [
        {
          "output_type": "stream",
          "text": [
            "Scores for different models: \n",
            "Linear Regresion 0.8414294984703811 \n",
            "Decision Tree 0.8328080096412348 \n",
            "Random Forest 0.842263836099008 \n",
            "KNeighborsClassifier 0.8090757393158431 \n",
            "Neural Network 0.8424955965514045\n"
          ],
          "name": "stdout"
        }
      ]
    }
  ]
}
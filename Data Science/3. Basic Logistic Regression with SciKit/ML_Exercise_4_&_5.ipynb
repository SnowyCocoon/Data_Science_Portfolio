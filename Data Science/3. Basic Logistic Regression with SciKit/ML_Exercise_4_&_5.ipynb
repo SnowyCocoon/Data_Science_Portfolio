{
  "nbformat": 4,
  "nbformat_minor": 0,
  "metadata": {
    "colab": {
      "name": "4. Regresja logistyczna (+ zadanie 5_2).ipynb",
      "provenance": [],
      "collapsed_sections": [
        "w0CnPgCVALRk",
        "cTEqst6iAWxK",
        "lYjqWtUTDmJb",
        "G8PtGeSJCtfx",
        "mV7dp5ASBlt5"
      ],
      "toc_visible": true
    },
    "kernelspec": {
      "name": "python3",
      "display_name": "Python 3"
    },
    "language_info": {
      "name": "python"
    }
  },
  "cells": [
    {
      "cell_type": "markdown",
      "metadata": {
        "id": "Tes4lHrkhhbg"
      },
      "source": [
        "# Dominik Strzałko - Zadanie 4 i 5.2 - 434788"
      ]
    },
    {
      "cell_type": "markdown",
      "metadata": {
        "id": "owM-cA2AFJzj"
      },
      "source": [
        "# Do zadania **5_2** - Podpunkt **3.3** i **4.2**\n",
        "\n",
        "---\n",
        "\n",
        "\n",
        "\n",
        "---\n",
        "\n",
        "\n",
        "\n",
        "---\n",
        "\n",
        "\n",
        "\n",
        "---\n",
        "\n"
      ]
    },
    {
      "cell_type": "markdown",
      "metadata": {
        "id": "Y5BE9lFgzZSa"
      },
      "source": [
        "# **Część 0.** Pobranie i analiza zbioru\n",
        "---"
      ]
    },
    {
      "cell_type": "code",
      "metadata": {
        "id": "YAMTGVkRzLsV"
      },
      "source": [
        "import pandas as pd\n",
        "import numpy as np\n",
        "from sklearn.model_selection import train_test_split\n",
        "import seaborn as sns\n",
        "import matplotlib.pyplot as plt"
      ],
      "execution_count": 1,
      "outputs": []
    },
    {
      "cell_type": "code",
      "metadata": {
        "id": "uer-SeHyz0O3"
      },
      "source": [
        "df =pd.read_csv('gratkapl-centrenrm.csv')"
      ],
      "execution_count": 2,
      "outputs": []
    },
    {
      "cell_type": "code",
      "metadata": {
        "colab": {
          "base_uri": "https://localhost:8080/",
          "height": 419
        },
        "id": "7zK2mm_wBO6J",
        "outputId": "8e30eb65-cdf0-47ca-ee4d-53d9c4d30e87"
      },
      "source": [
        "df"
      ],
      "execution_count": 3,
      "outputs": [
        {
          "output_type": "execute_result",
          "data": {
            "text/html": [
              "<div>\n",
              "<style scoped>\n",
              "    .dataframe tbody tr th:only-of-type {\n",
              "        vertical-align: middle;\n",
              "    }\n",
              "\n",
              "    .dataframe tbody tr th {\n",
              "        vertical-align: top;\n",
              "    }\n",
              "\n",
              "    .dataframe thead th {\n",
              "        text-align: right;\n",
              "    }\n",
              "</style>\n",
              "<table border=\"1\" class=\"dataframe\">\n",
              "  <thead>\n",
              "    <tr style=\"text-align: right;\">\n",
              "      <th></th>\n",
              "      <th>Id</th>\n",
              "      <th>Price</th>\n",
              "      <th>Rooms</th>\n",
              "      <th>SqrMeters</th>\n",
              "      <th>Floor</th>\n",
              "      <th>Location</th>\n",
              "      <th>Centre</th>\n",
              "      <th>Description</th>\n",
              "    </tr>\n",
              "  </thead>\n",
              "  <tbody>\n",
              "    <tr>\n",
              "      <th>0</th>\n",
              "      <td>3914</td>\n",
              "      <td>386064</td>\n",
              "      <td>2</td>\n",
              "      <td>46.00</td>\n",
              "      <td>3</td>\n",
              "      <td>Poznań Stare Miasto Wilda ul. Maratońska Łęgi ...</td>\n",
              "      <td>1</td>\n",
              "      <td>OFERTA ZWOLNIONA Z PROWIZJI OD KUPUJĄCEGO! OFE...</td>\n",
              "    </tr>\n",
              "    <tr>\n",
              "      <th>1</th>\n",
              "      <td>437</td>\n",
              "      <td>280000</td>\n",
              "      <td>2</td>\n",
              "      <td>41.00</td>\n",
              "      <td>5</td>\n",
              "      <td>Poznań Poznań-Wilda</td>\n",
              "      <td>0</td>\n",
              "      <td>Polecam do sprzedaży mieszkanie dwupokojowe pr...</td>\n",
              "    </tr>\n",
              "    <tr>\n",
              "      <th>2</th>\n",
              "      <td>1139</td>\n",
              "      <td>329000</td>\n",
              "      <td>2</td>\n",
              "      <td>50.50</td>\n",
              "      <td>1</td>\n",
              "      <td>Poznań Ogrody</td>\n",
              "      <td>0</td>\n",
              "      <td>Polecam na sprzedaż mieszkanie 2-pokojowe na p...</td>\n",
              "    </tr>\n",
              "    <tr>\n",
              "      <th>3</th>\n",
              "      <td>4377</td>\n",
              "      <td>225000</td>\n",
              "      <td>2</td>\n",
              "      <td>43.00</td>\n",
              "      <td>10</td>\n",
              "      <td>Poznań Grunwald Łazarz Górczyn Ogrody Je ul. N...</td>\n",
              "      <td>1</td>\n",
              "      <td>BEZPIECZNA TRANSAKCJA JEDYNIE Z DOŚWIADCZONYM ...</td>\n",
              "    </tr>\n",
              "    <tr>\n",
              "      <th>4</th>\n",
              "      <td>192</td>\n",
              "      <td>280000</td>\n",
              "      <td>2</td>\n",
              "      <td>69.00</td>\n",
              "      <td>3</td>\n",
              "      <td>Poznań Wilda ul. Traugutta</td>\n",
              "      <td>0</td>\n",
              "      <td>Salon nieruchomości Iron House poleca na sprze...</td>\n",
              "    </tr>\n",
              "    <tr>\n",
              "      <th>...</th>\n",
              "      <td>...</td>\n",
              "      <td>...</td>\n",
              "      <td>...</td>\n",
              "      <td>...</td>\n",
              "      <td>...</td>\n",
              "      <td>...</td>\n",
              "      <td>...</td>\n",
              "      <td>...</td>\n",
              "    </tr>\n",
              "    <tr>\n",
              "      <th>2013</th>\n",
              "      <td>128</td>\n",
              "      <td>277000</td>\n",
              "      <td>2</td>\n",
              "      <td>46.10</td>\n",
              "      <td>3</td>\n",
              "      <td>Poznań Naramowice Piątkowo Winogrady ul. Sielawy</td>\n",
              "      <td>0</td>\n",
              "      <td>Kupując z pośrednikiem - kupujesz bezpiecznie ...</td>\n",
              "    </tr>\n",
              "    <tr>\n",
              "      <th>2014</th>\n",
              "      <td>484</td>\n",
              "      <td>371000</td>\n",
              "      <td>3</td>\n",
              "      <td>47.00</td>\n",
              "      <td>2</td>\n",
              "      <td>Poznań Łazarz ul. Grottgera 15/19</td>\n",
              "      <td>0</td>\n",
              "      <td>Najbardziej Prestiżowy Adres w Poznaniu!! Prze...</td>\n",
              "    </tr>\n",
              "    <tr>\n",
              "      <th>2015</th>\n",
              "      <td>795</td>\n",
              "      <td>341600</td>\n",
              "      <td>2</td>\n",
              "      <td>61.00</td>\n",
              "      <td>1</td>\n",
              "      <td>Poznań Poznań-Grunwald ul. Jana Matejki</td>\n",
              "      <td>0</td>\n",
              "      <td>Oferta sprzedaży mieszkania o łącznej powierzc...</td>\n",
              "    </tr>\n",
              "    <tr>\n",
              "      <th>2016</th>\n",
              "      <td>1562</td>\n",
              "      <td>149000</td>\n",
              "      <td>1</td>\n",
              "      <td>28.00</td>\n",
              "      <td>3</td>\n",
              "      <td>Poznań Dębiec</td>\n",
              "      <td>0</td>\n",
              "      <td>Kawalerka 28m2 na Dębcu SUPER CENA !!!! Poleca...</td>\n",
              "    </tr>\n",
              "    <tr>\n",
              "      <th>2017</th>\n",
              "      <td>155</td>\n",
              "      <td>270108</td>\n",
              "      <td>2</td>\n",
              "      <td>44.28</td>\n",
              "      <td>2</td>\n",
              "      <td>Poznań Winogrady ul. Hawelańska</td>\n",
              "      <td>0</td>\n",
              "      <td>Nieruchomości Mieszkania Nieruchomości Mieszkania</td>\n",
              "    </tr>\n",
              "  </tbody>\n",
              "</table>\n",
              "<p>2018 rows × 8 columns</p>\n",
              "</div>"
            ],
            "text/plain": [
              "        Id   Price  ...  Centre                                        Description\n",
              "0     3914  386064  ...       1  OFERTA ZWOLNIONA Z PROWIZJI OD KUPUJĄCEGO! OFE...\n",
              "1      437  280000  ...       0  Polecam do sprzedaży mieszkanie dwupokojowe pr...\n",
              "2     1139  329000  ...       0  Polecam na sprzedaż mieszkanie 2-pokojowe na p...\n",
              "3     4377  225000  ...       1  BEZPIECZNA TRANSAKCJA JEDYNIE Z DOŚWIADCZONYM ...\n",
              "4      192  280000  ...       0  Salon nieruchomości Iron House poleca na sprze...\n",
              "...    ...     ...  ...     ...                                                ...\n",
              "2013   128  277000  ...       0  Kupując z pośrednikiem - kupujesz bezpiecznie ...\n",
              "2014   484  371000  ...       0  Najbardziej Prestiżowy Adres w Poznaniu!! Prze...\n",
              "2015   795  341600  ...       0  Oferta sprzedaży mieszkania o łącznej powierzc...\n",
              "2016  1562  149000  ...       0  Kawalerka 28m2 na Dębcu SUPER CENA !!!! Poleca...\n",
              "2017   155  270108  ...       0  Nieruchomości Mieszkania Nieruchomości Mieszkania\n",
              "\n",
              "[2018 rows x 8 columns]"
            ]
          },
          "metadata": {
            "tags": []
          },
          "execution_count": 3
        }
      ]
    },
    {
      "cell_type": "code",
      "metadata": {
        "colab": {
          "base_uri": "https://localhost:8080/",
          "height": 204
        },
        "id": "XU54yeGFz7Rd",
        "outputId": "ffab1444-83bc-4e53-f79a-2198d30f2d7b"
      },
      "source": [
        "df.head()"
      ],
      "execution_count": 4,
      "outputs": [
        {
          "output_type": "execute_result",
          "data": {
            "text/html": [
              "<div>\n",
              "<style scoped>\n",
              "    .dataframe tbody tr th:only-of-type {\n",
              "        vertical-align: middle;\n",
              "    }\n",
              "\n",
              "    .dataframe tbody tr th {\n",
              "        vertical-align: top;\n",
              "    }\n",
              "\n",
              "    .dataframe thead th {\n",
              "        text-align: right;\n",
              "    }\n",
              "</style>\n",
              "<table border=\"1\" class=\"dataframe\">\n",
              "  <thead>\n",
              "    <tr style=\"text-align: right;\">\n",
              "      <th></th>\n",
              "      <th>Id</th>\n",
              "      <th>Price</th>\n",
              "      <th>Rooms</th>\n",
              "      <th>SqrMeters</th>\n",
              "      <th>Floor</th>\n",
              "      <th>Location</th>\n",
              "      <th>Centre</th>\n",
              "      <th>Description</th>\n",
              "    </tr>\n",
              "  </thead>\n",
              "  <tbody>\n",
              "    <tr>\n",
              "      <th>0</th>\n",
              "      <td>3914</td>\n",
              "      <td>386064</td>\n",
              "      <td>2</td>\n",
              "      <td>46.0</td>\n",
              "      <td>3</td>\n",
              "      <td>Poznań Stare Miasto Wilda ul. Maratońska Łęgi ...</td>\n",
              "      <td>1</td>\n",
              "      <td>OFERTA ZWOLNIONA Z PROWIZJI OD KUPUJĄCEGO! OFE...</td>\n",
              "    </tr>\n",
              "    <tr>\n",
              "      <th>1</th>\n",
              "      <td>437</td>\n",
              "      <td>280000</td>\n",
              "      <td>2</td>\n",
              "      <td>41.0</td>\n",
              "      <td>5</td>\n",
              "      <td>Poznań Poznań-Wilda</td>\n",
              "      <td>0</td>\n",
              "      <td>Polecam do sprzedaży mieszkanie dwupokojowe pr...</td>\n",
              "    </tr>\n",
              "    <tr>\n",
              "      <th>2</th>\n",
              "      <td>1139</td>\n",
              "      <td>329000</td>\n",
              "      <td>2</td>\n",
              "      <td>50.5</td>\n",
              "      <td>1</td>\n",
              "      <td>Poznań Ogrody</td>\n",
              "      <td>0</td>\n",
              "      <td>Polecam na sprzedaż mieszkanie 2-pokojowe na p...</td>\n",
              "    </tr>\n",
              "    <tr>\n",
              "      <th>3</th>\n",
              "      <td>4377</td>\n",
              "      <td>225000</td>\n",
              "      <td>2</td>\n",
              "      <td>43.0</td>\n",
              "      <td>10</td>\n",
              "      <td>Poznań Grunwald Łazarz Górczyn Ogrody Je ul. N...</td>\n",
              "      <td>1</td>\n",
              "      <td>BEZPIECZNA TRANSAKCJA JEDYNIE Z DOŚWIADCZONYM ...</td>\n",
              "    </tr>\n",
              "    <tr>\n",
              "      <th>4</th>\n",
              "      <td>192</td>\n",
              "      <td>280000</td>\n",
              "      <td>2</td>\n",
              "      <td>69.0</td>\n",
              "      <td>3</td>\n",
              "      <td>Poznań Wilda ul. Traugutta</td>\n",
              "      <td>0</td>\n",
              "      <td>Salon nieruchomości Iron House poleca na sprze...</td>\n",
              "    </tr>\n",
              "  </tbody>\n",
              "</table>\n",
              "</div>"
            ],
            "text/plain": [
              "     Id   Price  ...  Centre                                        Description\n",
              "0  3914  386064  ...       1  OFERTA ZWOLNIONA Z PROWIZJI OD KUPUJĄCEGO! OFE...\n",
              "1   437  280000  ...       0  Polecam do sprzedaży mieszkanie dwupokojowe pr...\n",
              "2  1139  329000  ...       0  Polecam na sprzedaż mieszkanie 2-pokojowe na p...\n",
              "3  4377  225000  ...       1  BEZPIECZNA TRANSAKCJA JEDYNIE Z DOŚWIADCZONYM ...\n",
              "4   192  280000  ...       0  Salon nieruchomości Iron House poleca na sprze...\n",
              "\n",
              "[5 rows x 8 columns]"
            ]
          },
          "metadata": {
            "tags": []
          },
          "execution_count": 4
        }
      ]
    },
    {
      "cell_type": "code",
      "metadata": {
        "colab": {
          "base_uri": "https://localhost:8080/",
          "height": 52
        },
        "id": "kFupjoMjz8O2",
        "outputId": "eea45d79-ead1-4b46-9170-0de2fd36d8af"
      },
      "source": [
        "df.iloc[0,-1]"
      ],
      "execution_count": 5,
      "outputs": [
        {
          "output_type": "execute_result",
          "data": {
            "application/vnd.google.colaboratory.intrinsic+json": {
              "type": "string"
            },
            "text/plain": [
              "'OFERTA ZWOLNIONA Z PROWIZJI OD KUPUJĄCEGO! OFERTA 0%! Oferta z rynku pierwotnego. Dostępne mieszkania w metrażach od 39 m2 do 142 m2. Nowoczesna inwestycja zlokalizowana w atrakcyjnym punkcie Poznania znakomicie skomunikowanym z pozostałymi...'"
            ]
          },
          "metadata": {
            "tags": []
          },
          "execution_count": 5
        }
      ]
    },
    {
      "cell_type": "code",
      "metadata": {
        "colab": {
          "base_uri": "https://localhost:8080/"
        },
        "id": "Vcm9ZAdi0DpQ",
        "outputId": "c84dbd0a-5582-421d-fbf3-9e2afa163200"
      },
      "source": [
        "df.dtypes"
      ],
      "execution_count": 6,
      "outputs": [
        {
          "output_type": "execute_result",
          "data": {
            "text/plain": [
              "Id               int64\n",
              "Price            int64\n",
              "Rooms            int64\n",
              "SqrMeters      float64\n",
              "Floor            int64\n",
              "Location        object\n",
              "Centre           int64\n",
              "Description     object\n",
              "dtype: object"
            ]
          },
          "metadata": {
            "tags": []
          },
          "execution_count": 6
        }
      ]
    },
    {
      "cell_type": "code",
      "metadata": {
        "colab": {
          "base_uri": "https://localhost:8080/",
          "height": 390
        },
        "id": "ro4rr0ph7u5I",
        "outputId": "6d3777bc-8ff6-4c78-bbbe-dd81f7f2f4ea"
      },
      "source": [
        "df.describe(include='all')"
      ],
      "execution_count": 7,
      "outputs": [
        {
          "output_type": "execute_result",
          "data": {
            "text/html": [
              "<div>\n",
              "<style scoped>\n",
              "    .dataframe tbody tr th:only-of-type {\n",
              "        vertical-align: middle;\n",
              "    }\n",
              "\n",
              "    .dataframe tbody tr th {\n",
              "        vertical-align: top;\n",
              "    }\n",
              "\n",
              "    .dataframe thead th {\n",
              "        text-align: right;\n",
              "    }\n",
              "</style>\n",
              "<table border=\"1\" class=\"dataframe\">\n",
              "  <thead>\n",
              "    <tr style=\"text-align: right;\">\n",
              "      <th></th>\n",
              "      <th>Id</th>\n",
              "      <th>Price</th>\n",
              "      <th>Rooms</th>\n",
              "      <th>SqrMeters</th>\n",
              "      <th>Floor</th>\n",
              "      <th>Location</th>\n",
              "      <th>Centre</th>\n",
              "      <th>Description</th>\n",
              "    </tr>\n",
              "  </thead>\n",
              "  <tbody>\n",
              "    <tr>\n",
              "      <th>count</th>\n",
              "      <td>2018.000000</td>\n",
              "      <td>2.018000e+03</td>\n",
              "      <td>2018.000000</td>\n",
              "      <td>2018.000000</td>\n",
              "      <td>2018.000000</td>\n",
              "      <td>2018</td>\n",
              "      <td>2018.000000</td>\n",
              "      <td>2018</td>\n",
              "    </tr>\n",
              "    <tr>\n",
              "      <th>unique</th>\n",
              "      <td>NaN</td>\n",
              "      <td>NaN</td>\n",
              "      <td>NaN</td>\n",
              "      <td>NaN</td>\n",
              "      <td>NaN</td>\n",
              "      <td>1152</td>\n",
              "      <td>NaN</td>\n",
              "      <td>1652</td>\n",
              "    </tr>\n",
              "    <tr>\n",
              "      <th>top</th>\n",
              "      <td>NaN</td>\n",
              "      <td>NaN</td>\n",
              "      <td>NaN</td>\n",
              "      <td>NaN</td>\n",
              "      <td>NaN</td>\n",
              "      <td>Poznań Winogrady ul. Hawelańska</td>\n",
              "      <td>NaN</td>\n",
              "      <td>Nieruchomości Mieszkania Nieruchomości Mieszkania</td>\n",
              "    </tr>\n",
              "    <tr>\n",
              "      <th>freq</th>\n",
              "      <td>NaN</td>\n",
              "      <td>NaN</td>\n",
              "      <td>NaN</td>\n",
              "      <td>NaN</td>\n",
              "      <td>NaN</td>\n",
              "      <td>107</td>\n",
              "      <td>NaN</td>\n",
              "      <td>174</td>\n",
              "    </tr>\n",
              "    <tr>\n",
              "      <th>mean</th>\n",
              "      <td>1249.945986</td>\n",
              "      <td>3.694764e+05</td>\n",
              "      <td>2.442022</td>\n",
              "      <td>57.465203</td>\n",
              "      <td>2.897919</td>\n",
              "      <td>NaN</td>\n",
              "      <td>0.256690</td>\n",
              "      <td>NaN</td>\n",
              "    </tr>\n",
              "    <tr>\n",
              "      <th>std</th>\n",
              "      <td>1091.231791</td>\n",
              "      <td>1.247583e+06</td>\n",
              "      <td>0.934577</td>\n",
              "      <td>24.339514</td>\n",
              "      <td>2.414320</td>\n",
              "      <td>NaN</td>\n",
              "      <td>0.436915</td>\n",
              "      <td>NaN</td>\n",
              "    </tr>\n",
              "    <tr>\n",
              "      <th>min</th>\n",
              "      <td>1.000000</td>\n",
              "      <td>1.000000e+00</td>\n",
              "      <td>1.000000</td>\n",
              "      <td>14.370000</td>\n",
              "      <td>1.000000</td>\n",
              "      <td>NaN</td>\n",
              "      <td>0.000000</td>\n",
              "      <td>NaN</td>\n",
              "    </tr>\n",
              "    <tr>\n",
              "      <th>25%</th>\n",
              "      <td>505.250000</td>\n",
              "      <td>2.366048e+05</td>\n",
              "      <td>2.000000</td>\n",
              "      <td>42.000000</td>\n",
              "      <td>1.000000</td>\n",
              "      <td>NaN</td>\n",
              "      <td>0.000000</td>\n",
              "      <td>NaN</td>\n",
              "    </tr>\n",
              "    <tr>\n",
              "      <th>50%</th>\n",
              "      <td>1009.500000</td>\n",
              "      <td>2.900000e+05</td>\n",
              "      <td>2.000000</td>\n",
              "      <td>51.000000</td>\n",
              "      <td>2.000000</td>\n",
              "      <td>NaN</td>\n",
              "      <td>0.000000</td>\n",
              "      <td>NaN</td>\n",
              "    </tr>\n",
              "    <tr>\n",
              "      <th>75%</th>\n",
              "      <td>1513.750000</td>\n",
              "      <td>3.590000e+05</td>\n",
              "      <td>3.000000</td>\n",
              "      <td>66.000000</td>\n",
              "      <td>4.000000</td>\n",
              "      <td>NaN</td>\n",
              "      <td>1.000000</td>\n",
              "      <td>NaN</td>\n",
              "    </tr>\n",
              "    <tr>\n",
              "      <th>max</th>\n",
              "      <td>4991.000000</td>\n",
              "      <td>3.637840e+07</td>\n",
              "      <td>6.000000</td>\n",
              "      <td>257.000000</td>\n",
              "      <td>16.000000</td>\n",
              "      <td>NaN</td>\n",
              "      <td>1.000000</td>\n",
              "      <td>NaN</td>\n",
              "    </tr>\n",
              "  </tbody>\n",
              "</table>\n",
              "</div>"
            ],
            "text/plain": [
              "                 Id  ...                                        Description\n",
              "count   2018.000000  ...                                               2018\n",
              "unique          NaN  ...                                               1652\n",
              "top             NaN  ...  Nieruchomości Mieszkania Nieruchomości Mieszkania\n",
              "freq            NaN  ...                                                174\n",
              "mean    1249.945986  ...                                                NaN\n",
              "std     1091.231791  ...                                                NaN\n",
              "min        1.000000  ...                                                NaN\n",
              "25%      505.250000  ...                                                NaN\n",
              "50%     1009.500000  ...                                                NaN\n",
              "75%     1513.750000  ...                                                NaN\n",
              "max     4991.000000  ...                                                NaN\n",
              "\n",
              "[11 rows x 8 columns]"
            ]
          },
          "metadata": {
            "tags": []
          },
          "execution_count": 7
        }
      ]
    },
    {
      "cell_type": "markdown",
      "metadata": {
        "id": "BZMQcBBfWvk8"
      },
      "source": [
        "### **0.1.** Sprawdzenie wartości odstających dla 'Price'"
      ]
    },
    {
      "cell_type": "code",
      "metadata": {
        "colab": {
          "base_uri": "https://localhost:8080/",
          "height": 400
        },
        "id": "kgEqSfm97uzP",
        "outputId": "364632d5-d732-40fe-940a-ebf11d02118d"
      },
      "source": [
        "#Price,Rooms,SqrMeters,Floor\n",
        "plt.figure(figsize=(20,6))\n",
        "sns.catplot(x='Centre',y='Price', data=df )\n",
        "plt.show()"
      ],
      "execution_count": 8,
      "outputs": [
        {
          "output_type": "display_data",
          "data": {
            "text/plain": [
              "<Figure size 1440x432 with 0 Axes>"
            ]
          },
          "metadata": {
            "tags": []
          }
        },
        {
          "output_type": "display_data",
          "data": {
            "image/png": "[encoded data removed]",
            "text/plain": [
              "<Figure size 360x360 with 1 Axes>"
            ]
          },
          "metadata": {
            "tags": [],
            "needs_background": "light"
          }
        }
      ]
    },
    {
      "cell_type": "code",
      "metadata": {
        "colab": {
          "base_uri": "https://localhost:8080/",
          "height": 173
        },
        "id": "pHFoiVqw7upk",
        "outputId": "8430717c-2c40-4611-9b6d-0f8d9ddc06d9"
      },
      "source": [
        "df[df['Price']>=2500000]"
      ],
      "execution_count": 9,
      "outputs": [
        {
          "output_type": "execute_result",
          "data": {
            "text/html": [
              "<div>\n",
              "<style scoped>\n",
              "    .dataframe tbody tr th:only-of-type {\n",
              "        vertical-align: middle;\n",
              "    }\n",
              "\n",
              "    .dataframe tbody tr th {\n",
              "        vertical-align: top;\n",
              "    }\n",
              "\n",
              "    .dataframe thead th {\n",
              "        text-align: right;\n",
              "    }\n",
              "</style>\n",
              "<table border=\"1\" class=\"dataframe\">\n",
              "  <thead>\n",
              "    <tr style=\"text-align: right;\">\n",
              "      <th></th>\n",
              "      <th>Id</th>\n",
              "      <th>Price</th>\n",
              "      <th>Rooms</th>\n",
              "      <th>SqrMeters</th>\n",
              "      <th>Floor</th>\n",
              "      <th>Location</th>\n",
              "      <th>Centre</th>\n",
              "      <th>Description</th>\n",
              "    </tr>\n",
              "  </thead>\n",
              "  <tbody>\n",
              "    <tr>\n",
              "      <th>492</th>\n",
              "      <td>1174</td>\n",
              "      <td>29979840</td>\n",
              "      <td>2</td>\n",
              "      <td>54.40</td>\n",
              "      <td>4</td>\n",
              "      <td>Poznań Winogrady ul. Wilczak 20</td>\n",
              "      <td>0</td>\n",
              "      <td>Mieszkanie 2 pokojowe z aneksem kuchennym.</td>\n",
              "    </tr>\n",
              "    <tr>\n",
              "      <th>631</th>\n",
              "      <td>1315</td>\n",
              "      <td>30542880</td>\n",
              "      <td>1</td>\n",
              "      <td>31.52</td>\n",
              "      <td>1</td>\n",
              "      <td>Poznań Stare Miasto ul. Dominikańska</td>\n",
              "      <td>0</td>\n",
              "      <td>Zapraszamy do zapoznania się z nową inwestycją...</td>\n",
              "    </tr>\n",
              "    <tr>\n",
              "      <th>866</th>\n",
              "      <td>3621</td>\n",
              "      <td>3740000</td>\n",
              "      <td>6</td>\n",
              "      <td>219.78</td>\n",
              "      <td>3</td>\n",
              "      <td>Poznań</td>\n",
              "      <td>1</td>\n",
              "      <td>JEDYNY TAKI PENTHOUSE W POZNANIU! Centrum ale ...</td>\n",
              "    </tr>\n",
              "    <tr>\n",
              "      <th>1099</th>\n",
              "      <td>746</td>\n",
              "      <td>36378404</td>\n",
              "      <td>3</td>\n",
              "      <td>48.70</td>\n",
              "      <td>4</td>\n",
              "      <td>Poznań Winogrady ul. Wilczak 20</td>\n",
              "      <td>0</td>\n",
              "      <td>Mieszkanie 3 pokojowe z aneksem kuchennym.</td>\n",
              "    </tr>\n",
              "  </tbody>\n",
              "</table>\n",
              "</div>"
            ],
            "text/plain": [
              "        Id     Price  ...  Centre                                        Description\n",
              "492   1174  29979840  ...       0         Mieszkanie 2 pokojowe z aneksem kuchennym.\n",
              "631   1315  30542880  ...       0  Zapraszamy do zapoznania się z nową inwestycją...\n",
              "866   3621   3740000  ...       1  JEDYNY TAKI PENTHOUSE W POZNANIU! Centrum ale ...\n",
              "1099   746  36378404  ...       0         Mieszkanie 3 pokojowe z aneksem kuchennym.\n",
              "\n",
              "[4 rows x 8 columns]"
            ]
          },
          "metadata": {
            "tags": []
          },
          "execution_count": 9
        }
      ]
    },
    {
      "cell_type": "markdown",
      "metadata": {
        "id": "vb0IQDSbW7I7"
      },
      "source": [
        "### **0.2.** Sprawdzenie wartości odstających dla 'Rooms'"
      ]
    },
    {
      "cell_type": "code",
      "metadata": {
        "colab": {
          "base_uri": "https://localhost:8080/",
          "height": 400
        },
        "id": "hnkVgkyT_l3J",
        "outputId": "2a36366a-b361-4ed3-de40-7a9b0a4b679d"
      },
      "source": [
        "#Price,Rooms,SqrMeters,Floor\n",
        "plt.figure(figsize=(20,6))\n",
        "sns.catplot(x='Centre',y='Rooms', data=df )\n",
        "plt.show()"
      ],
      "execution_count": 10,
      "outputs": [
        {
          "output_type": "display_data",
          "data": {
            "text/plain": [
              "<Figure size 1440x432 with 0 Axes>"
            ]
          },
          "metadata": {
            "tags": []
          }
        },
        {
          "output_type": "display_data",
          "data": {
            "image/png": "[encoded data removed]",
            "text/plain": [
              "<Figure size 360x360 with 1 Axes>"
            ]
          },
          "metadata": {
            "tags": [],
            "needs_background": "light"
          }
        }
      ]
    },
    {
      "cell_type": "markdown",
      "metadata": {
        "id": "pX8AwxHqW-6e"
      },
      "source": [
        "### **0.3.** Sprawdzenie wartości odstających dla 'SqrMeters'"
      ]
    },
    {
      "cell_type": "code",
      "metadata": {
        "colab": {
          "base_uri": "https://localhost:8080/",
          "height": 400
        },
        "id": "GKwFKDbE_lzF",
        "outputId": "03d22e2e-91e3-49c2-f666-9446b06bd8f6"
      },
      "source": [
        "#Price,Rooms,SqrMeters,Floor\n",
        "plt.figure(figsize=(20,6))\n",
        "sns.catplot(x='Centre',y='SqrMeters', data=df )\n",
        "plt.show()"
      ],
      "execution_count": 11,
      "outputs": [
        {
          "output_type": "display_data",
          "data": {
            "text/plain": [
              "<Figure size 1440x432 with 0 Axes>"
            ]
          },
          "metadata": {
            "tags": []
          }
        },
        {
          "output_type": "display_data",
          "data": {
            "image/png": "[encoded data removed]",
            "text/plain": [
              "<Figure size 360x360 with 1 Axes>"
            ]
          },
          "metadata": {
            "tags": [],
            "needs_background": "light"
          }
        }
      ]
    },
    {
      "cell_type": "code",
      "metadata": {
        "colab": {
          "base_uri": "https://localhost:8080/",
          "height": 173
        },
        "id": "AEfzblg9_lqb",
        "outputId": "d98b1bd3-41f6-479c-a8fb-26bc91fd28e5"
      },
      "source": [
        "df[df['SqrMeters']>=175]"
      ],
      "execution_count": 12,
      "outputs": [
        {
          "output_type": "execute_result",
          "data": {
            "text/html": [
              "<div>\n",
              "<style scoped>\n",
              "    .dataframe tbody tr th:only-of-type {\n",
              "        vertical-align: middle;\n",
              "    }\n",
              "\n",
              "    .dataframe tbody tr th {\n",
              "        vertical-align: top;\n",
              "    }\n",
              "\n",
              "    .dataframe thead th {\n",
              "        text-align: right;\n",
              "    }\n",
              "</style>\n",
              "<table border=\"1\" class=\"dataframe\">\n",
              "  <thead>\n",
              "    <tr style=\"text-align: right;\">\n",
              "      <th></th>\n",
              "      <th>Id</th>\n",
              "      <th>Price</th>\n",
              "      <th>Rooms</th>\n",
              "      <th>SqrMeters</th>\n",
              "      <th>Floor</th>\n",
              "      <th>Location</th>\n",
              "      <th>Centre</th>\n",
              "      <th>Description</th>\n",
              "    </tr>\n",
              "  </thead>\n",
              "  <tbody>\n",
              "    <tr>\n",
              "      <th>637</th>\n",
              "      <td>189</td>\n",
              "      <td>1140000</td>\n",
              "      <td>6</td>\n",
              "      <td>193.00</td>\n",
              "      <td>1</td>\n",
              "      <td>Poznań Naramowice ul. Błażeja</td>\n",
              "      <td>0</td>\n",
              "      <td>| Kontakt w sprawie oferty: Monika Celińska te...</td>\n",
              "    </tr>\n",
              "    <tr>\n",
              "      <th>805</th>\n",
              "      <td>1425</td>\n",
              "      <td>1100000</td>\n",
              "      <td>3</td>\n",
              "      <td>257.00</td>\n",
              "      <td>1</td>\n",
              "      <td>Poznań Jeżyce ul. Reja</td>\n",
              "      <td>0</td>\n",
              "      <td>OFERTA PROMOCYJNA - PROWIZJĘ W CAŁOŚCI POKRYWA...</td>\n",
              "    </tr>\n",
              "    <tr>\n",
              "      <th>866</th>\n",
              "      <td>3621</td>\n",
              "      <td>3740000</td>\n",
              "      <td>6</td>\n",
              "      <td>219.78</td>\n",
              "      <td>3</td>\n",
              "      <td>Poznań</td>\n",
              "      <td>1</td>\n",
              "      <td>JEDYNY TAKI PENTHOUSE W POZNANIU! Centrum ale ...</td>\n",
              "    </tr>\n",
              "    <tr>\n",
              "      <th>1618</th>\n",
              "      <td>940</td>\n",
              "      <td>1140000</td>\n",
              "      <td>6</td>\n",
              "      <td>192.40</td>\n",
              "      <td>1</td>\n",
              "      <td>Poznań Stare Miasto Naramowice</td>\n",
              "      <td>0</td>\n",
              "      <td>BARDZO ATRAKCYJNE DWUPOZIOMOWE MIESZKANIE Z OG...</td>\n",
              "    </tr>\n",
              "  </tbody>\n",
              "</table>\n",
              "</div>"
            ],
            "text/plain": [
              "        Id    Price  ...  Centre                                        Description\n",
              "637    189  1140000  ...       0  | Kontakt w sprawie oferty: Monika Celińska te...\n",
              "805   1425  1100000  ...       0  OFERTA PROMOCYJNA - PROWIZJĘ W CAŁOŚCI POKRYWA...\n",
              "866   3621  3740000  ...       1  JEDYNY TAKI PENTHOUSE W POZNANIU! Centrum ale ...\n",
              "1618   940  1140000  ...       0  BARDZO ATRAKCYJNE DWUPOZIOMOWE MIESZKANIE Z OG...\n",
              "\n",
              "[4 rows x 8 columns]"
            ]
          },
          "metadata": {
            "tags": []
          },
          "execution_count": 12
        }
      ]
    },
    {
      "cell_type": "markdown",
      "metadata": {
        "id": "NDIkeGmvXF3d"
      },
      "source": [
        "### **0.4.** Sprawdzenie wartości odstających dla 'Floor'"
      ]
    },
    {
      "cell_type": "code",
      "metadata": {
        "colab": {
          "base_uri": "https://localhost:8080/",
          "height": 400
        },
        "id": "3lu-M1ff_lkf",
        "outputId": "8e636db5-c8a5-43ae-9f81-a62226ee8483"
      },
      "source": [
        "#Price,Rooms,SqrMeters,Floor\n",
        "plt.figure(figsize=(20,6))\n",
        "sns.catplot(x='Centre',y='Floor', data=df )\n",
        "plt.show()"
      ],
      "execution_count": 13,
      "outputs": [
        {
          "output_type": "display_data",
          "data": {
            "text/plain": [
              "<Figure size 1440x432 with 0 Axes>"
            ]
          },
          "metadata": {
            "tags": []
          }
        },
        {
          "output_type": "display_data",
          "data": {
            "image/png": "[encoded data removed]",
            "text/plain": [
              "<Figure size 360x360 with 1 Axes>"
            ]
          },
          "metadata": {
            "tags": [],
            "needs_background": "light"
          }
        }
      ]
    },
    {
      "cell_type": "code",
      "metadata": {
        "colab": {
          "base_uri": "https://localhost:8080/",
          "height": 452
        },
        "id": "lKz2Lacw_lcw",
        "outputId": "2c8725fe-a6c1-429b-c5f6-ff14aa628ebc"
      },
      "source": [
        "df[df['Floor']>=12]"
      ],
      "execution_count": 14,
      "outputs": [
        {
          "output_type": "execute_result",
          "data": {
            "text/html": [
              "<div>\n",
              "<style scoped>\n",
              "    .dataframe tbody tr th:only-of-type {\n",
              "        vertical-align: middle;\n",
              "    }\n",
              "\n",
              "    .dataframe tbody tr th {\n",
              "        vertical-align: top;\n",
              "    }\n",
              "\n",
              "    .dataframe thead th {\n",
              "        text-align: right;\n",
              "    }\n",
              "</style>\n",
              "<table border=\"1\" class=\"dataframe\">\n",
              "  <thead>\n",
              "    <tr style=\"text-align: right;\">\n",
              "      <th></th>\n",
              "      <th>Id</th>\n",
              "      <th>Price</th>\n",
              "      <th>Rooms</th>\n",
              "      <th>SqrMeters</th>\n",
              "      <th>Floor</th>\n",
              "      <th>Location</th>\n",
              "      <th>Centre</th>\n",
              "      <th>Description</th>\n",
              "    </tr>\n",
              "  </thead>\n",
              "  <tbody>\n",
              "    <tr>\n",
              "      <th>5</th>\n",
              "      <td>84</td>\n",
              "      <td>273000</td>\n",
              "      <td>3</td>\n",
              "      <td>79.0</td>\n",
              "      <td>14</td>\n",
              "      <td>Poznań Rataje Malta Starołęka Chartowo Śródk u...</td>\n",
              "      <td>0</td>\n",
              "      <td>Przedmiotem sprzedaży jest 3- pokojowe mieszka...</td>\n",
              "    </tr>\n",
              "    <tr>\n",
              "      <th>82</th>\n",
              "      <td>1446</td>\n",
              "      <td>259000</td>\n",
              "      <td>2</td>\n",
              "      <td>47.0</td>\n",
              "      <td>14</td>\n",
              "      <td>Poznań Piątkowo Winogrady Sołacz ul. Chrobrego...</td>\n",
              "      <td>0</td>\n",
              "      <td>POLECAM NA SPZREDAŻ 2 pokojowe z balkonem na 1...</td>\n",
              "    </tr>\n",
              "    <tr>\n",
              "      <th>291</th>\n",
              "      <td>4599</td>\n",
              "      <td>270000</td>\n",
              "      <td>3</td>\n",
              "      <td>66.5</td>\n",
              "      <td>15</td>\n",
              "      <td>Poznań Rataje Nowe Miasto ul. Os. Tysiąclecia</td>\n",
              "      <td>1</td>\n",
              "      <td>Funkcjonalne przytulne bardzo ładne dwupokojow...</td>\n",
              "    </tr>\n",
              "    <tr>\n",
              "      <th>347</th>\n",
              "      <td>1504</td>\n",
              "      <td>250000</td>\n",
              "      <td>3</td>\n",
              "      <td>49.0</td>\n",
              "      <td>15</td>\n",
              "      <td>Poznań Rataje Sródka ul. Tysiaclecia Os.</td>\n",
              "      <td>1</td>\n",
              "      <td>POLECAM NA SPRZEDAŻ Słoneczne mieszkanie na os...</td>\n",
              "    </tr>\n",
              "    <tr>\n",
              "      <th>483</th>\n",
              "      <td>501</td>\n",
              "      <td>349990</td>\n",
              "      <td>3</td>\n",
              "      <td>79.9</td>\n",
              "      <td>16</td>\n",
              "      <td>Poznań Stare Miasto Piątkowo ul. Osiedle Boles...</td>\n",
              "      <td>0</td>\n",
              "      <td>Wygodne 3-pokojowe mieszkanie na szesnastym pi...</td>\n",
              "    </tr>\n",
              "    <tr>\n",
              "      <th>586</th>\n",
              "      <td>1128</td>\n",
              "      <td>239000</td>\n",
              "      <td>2</td>\n",
              "      <td>57.0</td>\n",
              "      <td>14</td>\n",
              "      <td>Poznań Rataje ul. Os. Orła Białego 57M2</td>\n",
              "      <td>0</td>\n",
              "      <td>POLECAM!!! Mieszkanie 2 pokojowe z dodatkową z...</td>\n",
              "    </tr>\n",
              "    <tr>\n",
              "      <th>785</th>\n",
              "      <td>309</td>\n",
              "      <td>274000</td>\n",
              "      <td>3</td>\n",
              "      <td>77.0</td>\n",
              "      <td>16</td>\n",
              "      <td>Poznań Rataje Śródka Wilda Łazarz Zawady ul. A...</td>\n",
              "      <td>1</td>\n",
              "      <td>MIESZKANIE WOLNE OD ZARAZ!!! BEZPIECZNA TRANSA...</td>\n",
              "    </tr>\n",
              "    <tr>\n",
              "      <th>798</th>\n",
              "      <td>1688</td>\n",
              "      <td>274000</td>\n",
              "      <td>3</td>\n",
              "      <td>79.0</td>\n",
              "      <td>16</td>\n",
              "      <td>Poznań Rataje ul. Os.Armii Krajowej</td>\n",
              "      <td>0</td>\n",
              "      <td>Polecam na sprzedaż ładne 3 pokojowe mieszkani...</td>\n",
              "    </tr>\n",
              "    <tr>\n",
              "      <th>1483</th>\n",
              "      <td>1018</td>\n",
              "      <td>320000</td>\n",
              "      <td>3</td>\n",
              "      <td>78.0</td>\n",
              "      <td>16</td>\n",
              "      <td>Poznań Rataje ul. Os.Orła Białego</td>\n",
              "      <td>0</td>\n",
              "      <td>(BT)Polecam ofertę sprzedaży ładnego przestron...</td>\n",
              "    </tr>\n",
              "    <tr>\n",
              "      <th>1536</th>\n",
              "      <td>1496</td>\n",
              "      <td>265000</td>\n",
              "      <td>2</td>\n",
              "      <td>47.0</td>\n",
              "      <td>15</td>\n",
              "      <td>Poznań Winogrady Piątkowo Sołacz Naramowice ul...</td>\n",
              "      <td>0</td>\n",
              "      <td>Przedmiotem sprzedaży jest 2- pokojowe mieszka...</td>\n",
              "    </tr>\n",
              "    <tr>\n",
              "      <th>1772</th>\n",
              "      <td>980</td>\n",
              "      <td>239000</td>\n",
              "      <td>2</td>\n",
              "      <td>49.0</td>\n",
              "      <td>12</td>\n",
              "      <td>Poznań Rataje ul. Os. Armii Krajowej</td>\n",
              "      <td>0</td>\n",
              "      <td>Polecam do kupna 2-pokojowe mieszkanie z nieza...</td>\n",
              "    </tr>\n",
              "    <tr>\n",
              "      <th>1798</th>\n",
              "      <td>1194</td>\n",
              "      <td>240000</td>\n",
              "      <td>2</td>\n",
              "      <td>57.2</td>\n",
              "      <td>14</td>\n",
              "      <td>Poznań Rataje</td>\n",
              "      <td>0</td>\n",
              "      <td>Na sprzedaż mieszkanie 2-pokojowe o łącznej po...</td>\n",
              "    </tr>\n",
              "    <tr>\n",
              "      <th>1989</th>\n",
              "      <td>1345</td>\n",
              "      <td>275000</td>\n",
              "      <td>2</td>\n",
              "      <td>50.0</td>\n",
              "      <td>14</td>\n",
              "      <td>Poznań Nowe Miasto Rataje ul. Os. Powstań Naro...</td>\n",
              "      <td>0</td>\n",
              "      <td>Na sprzedaż słoneczne i zadbane mieszkanie o p...</td>\n",
              "    </tr>\n",
              "  </tbody>\n",
              "</table>\n",
              "</div>"
            ],
            "text/plain": [
              "        Id   Price  ...  Centre                                        Description\n",
              "5       84  273000  ...       0  Przedmiotem sprzedaży jest 3- pokojowe mieszka...\n",
              "82    1446  259000  ...       0  POLECAM NA SPZREDAŻ 2 pokojowe z balkonem na 1...\n",
              "291   4599  270000  ...       1  Funkcjonalne przytulne bardzo ładne dwupokojow...\n",
              "347   1504  250000  ...       1  POLECAM NA SPRZEDAŻ Słoneczne mieszkanie na os...\n",
              "483    501  349990  ...       0  Wygodne 3-pokojowe mieszkanie na szesnastym pi...\n",
              "586   1128  239000  ...       0  POLECAM!!! Mieszkanie 2 pokojowe z dodatkową z...\n",
              "785    309  274000  ...       1  MIESZKANIE WOLNE OD ZARAZ!!! BEZPIECZNA TRANSA...\n",
              "798   1688  274000  ...       0  Polecam na sprzedaż ładne 3 pokojowe mieszkani...\n",
              "1483  1018  320000  ...       0  (BT)Polecam ofertę sprzedaży ładnego przestron...\n",
              "1536  1496  265000  ...       0  Przedmiotem sprzedaży jest 2- pokojowe mieszka...\n",
              "1772   980  239000  ...       0  Polecam do kupna 2-pokojowe mieszkanie z nieza...\n",
              "1798  1194  240000  ...       0  Na sprzedaż mieszkanie 2-pokojowe o łącznej po...\n",
              "1989  1345  275000  ...       0  Na sprzedaż słoneczne i zadbane mieszkanie o p...\n",
              "\n",
              "[13 rows x 8 columns]"
            ]
          },
          "metadata": {
            "tags": []
          },
          "execution_count": 14
        }
      ]
    },
    {
      "cell_type": "markdown",
      "metadata": {
        "id": "LiSB5jPvf87Z"
      },
      "source": [
        "### 0.5. Korelacje w zbiorze"
      ]
    },
    {
      "cell_type": "code",
      "metadata": {
        "colab": {
          "base_uri": "https://localhost:8080/",
          "height": 378
        },
        "id": "cGZ99fnCgDMK",
        "outputId": "b6710039-7bdf-4a3e-c5b5-2cdf078dabcb"
      },
      "source": [
        "plt.figure(figsize=(10,6))\n",
        "sns.heatmap(df.corr(),annot=True)\n",
        "plt.show()"
      ],
      "execution_count": 15,
      "outputs": [
        {
          "output_type": "display_data",
          "data": {
            "image/png": "[encoded data removed]",
            "text/plain": [
              "<Figure size 720x432 with 2 Axes>"
            ]
          },
          "metadata": {
            "tags": [],
            "needs_background": "light"
          }
        }
      ]
    },
    {
      "cell_type": "markdown",
      "metadata": {
        "id": "8JXjYkaW7lfN"
      },
      "source": [
        "---\n",
        "# **Część 2.** Przygotowanie zbiorów\n",
        "---"
      ]
    },
    {
      "cell_type": "markdown",
      "metadata": {
        "id": "w0CnPgCVALRk"
      },
      "source": [
        "### 2.1. Sprawdzanie czy występują puste pola w naszych danych"
      ]
    },
    {
      "cell_type": "code",
      "metadata": {
        "colab": {
          "base_uri": "https://localhost:8080/"
        },
        "id": "-qBcIaZC8V4M",
        "outputId": "edcd1840-0dd5-4dae-f9e9-ffd29d8b7fed"
      },
      "source": [
        "df.isnull().sum()"
      ],
      "execution_count": 16,
      "outputs": [
        {
          "output_type": "execute_result",
          "data": {
            "text/plain": [
              "Id             0\n",
              "Price          0\n",
              "Rooms          0\n",
              "SqrMeters      0\n",
              "Floor          0\n",
              "Location       0\n",
              "Centre         0\n",
              "Description    0\n",
              "dtype: int64"
            ]
          },
          "metadata": {
            "tags": []
          },
          "execution_count": 16
        }
      ]
    },
    {
      "cell_type": "markdown",
      "metadata": {
        "id": "cTEqst6iAWxK"
      },
      "source": [
        "### 2.2. Usunięcie wszystkich wartości które odstają od reszty"
      ]
    },
    {
      "cell_type": "code",
      "metadata": {
        "id": "CWKaVT3p8V19"
      },
      "source": [
        "df.drop(df[df.Price >= 2500000].index, inplace=True)"
      ],
      "execution_count": 17,
      "outputs": []
    },
    {
      "cell_type": "code",
      "metadata": {
        "id": "xQcm5EQjBpcp"
      },
      "source": [
        "df.drop(df[df['SqrMeters']>=175].index, inplace=True)"
      ],
      "execution_count": 18,
      "outputs": []
    },
    {
      "cell_type": "code",
      "metadata": {
        "id": "EwJNyrH5BpZW"
      },
      "source": [
        "df.drop(df[df['Floor']>=12].index, inplace=True)"
      ],
      "execution_count": 19,
      "outputs": []
    },
    {
      "cell_type": "code",
      "metadata": {
        "colab": {
          "base_uri": "https://localhost:8080/",
          "height": 419
        },
        "id": "4LyyZsKN8Vzq",
        "outputId": "3b9e8c46-4a79-4cd7-ae4b-56151d72a903"
      },
      "source": [
        "df"
      ],
      "execution_count": 20,
      "outputs": [
        {
          "output_type": "execute_result",
          "data": {
            "text/html": [
              "<div>\n",
              "<style scoped>\n",
              "    .dataframe tbody tr th:only-of-type {\n",
              "        vertical-align: middle;\n",
              "    }\n",
              "\n",
              "    .dataframe tbody tr th {\n",
              "        vertical-align: top;\n",
              "    }\n",
              "\n",
              "    .dataframe thead th {\n",
              "        text-align: right;\n",
              "    }\n",
              "</style>\n",
              "<table border=\"1\" class=\"dataframe\">\n",
              "  <thead>\n",
              "    <tr style=\"text-align: right;\">\n",
              "      <th></th>\n",
              "      <th>Id</th>\n",
              "      <th>Price</th>\n",
              "      <th>Rooms</th>\n",
              "      <th>SqrMeters</th>\n",
              "      <th>Floor</th>\n",
              "      <th>Location</th>\n",
              "      <th>Centre</th>\n",
              "      <th>Description</th>\n",
              "    </tr>\n",
              "  </thead>\n",
              "  <tbody>\n",
              "    <tr>\n",
              "      <th>0</th>\n",
              "      <td>3914</td>\n",
              "      <td>386064</td>\n",
              "      <td>2</td>\n",
              "      <td>46.00</td>\n",
              "      <td>3</td>\n",
              "      <td>Poznań Stare Miasto Wilda ul. Maratońska Łęgi ...</td>\n",
              "      <td>1</td>\n",
              "      <td>OFERTA ZWOLNIONA Z PROWIZJI OD KUPUJĄCEGO! OFE...</td>\n",
              "    </tr>\n",
              "    <tr>\n",
              "      <th>1</th>\n",
              "      <td>437</td>\n",
              "      <td>280000</td>\n",
              "      <td>2</td>\n",
              "      <td>41.00</td>\n",
              "      <td>5</td>\n",
              "      <td>Poznań Poznań-Wilda</td>\n",
              "      <td>0</td>\n",
              "      <td>Polecam do sprzedaży mieszkanie dwupokojowe pr...</td>\n",
              "    </tr>\n",
              "    <tr>\n",
              "      <th>2</th>\n",
              "      <td>1139</td>\n",
              "      <td>329000</td>\n",
              "      <td>2</td>\n",
              "      <td>50.50</td>\n",
              "      <td>1</td>\n",
              "      <td>Poznań Ogrody</td>\n",
              "      <td>0</td>\n",
              "      <td>Polecam na sprzedaż mieszkanie 2-pokojowe na p...</td>\n",
              "    </tr>\n",
              "    <tr>\n",
              "      <th>3</th>\n",
              "      <td>4377</td>\n",
              "      <td>225000</td>\n",
              "      <td>2</td>\n",
              "      <td>43.00</td>\n",
              "      <td>10</td>\n",
              "      <td>Poznań Grunwald Łazarz Górczyn Ogrody Je ul. N...</td>\n",
              "      <td>1</td>\n",
              "      <td>BEZPIECZNA TRANSAKCJA JEDYNIE Z DOŚWIADCZONYM ...</td>\n",
              "    </tr>\n",
              "    <tr>\n",
              "      <th>4</th>\n",
              "      <td>192</td>\n",
              "      <td>280000</td>\n",
              "      <td>2</td>\n",
              "      <td>69.00</td>\n",
              "      <td>3</td>\n",
              "      <td>Poznań Wilda ul. Traugutta</td>\n",
              "      <td>0</td>\n",
              "      <td>Salon nieruchomości Iron House poleca na sprze...</td>\n",
              "    </tr>\n",
              "    <tr>\n",
              "      <th>...</th>\n",
              "      <td>...</td>\n",
              "      <td>...</td>\n",
              "      <td>...</td>\n",
              "      <td>...</td>\n",
              "      <td>...</td>\n",
              "      <td>...</td>\n",
              "      <td>...</td>\n",
              "      <td>...</td>\n",
              "    </tr>\n",
              "    <tr>\n",
              "      <th>2013</th>\n",
              "      <td>128</td>\n",
              "      <td>277000</td>\n",
              "      <td>2</td>\n",
              "      <td>46.10</td>\n",
              "      <td>3</td>\n",
              "      <td>Poznań Naramowice Piątkowo Winogrady ul. Sielawy</td>\n",
              "      <td>0</td>\n",
              "      <td>Kupując z pośrednikiem - kupujesz bezpiecznie ...</td>\n",
              "    </tr>\n",
              "    <tr>\n",
              "      <th>2014</th>\n",
              "      <td>484</td>\n",
              "      <td>371000</td>\n",
              "      <td>3</td>\n",
              "      <td>47.00</td>\n",
              "      <td>2</td>\n",
              "      <td>Poznań Łazarz ul. Grottgera 15/19</td>\n",
              "      <td>0</td>\n",
              "      <td>Najbardziej Prestiżowy Adres w Poznaniu!! Prze...</td>\n",
              "    </tr>\n",
              "    <tr>\n",
              "      <th>2015</th>\n",
              "      <td>795</td>\n",
              "      <td>341600</td>\n",
              "      <td>2</td>\n",
              "      <td>61.00</td>\n",
              "      <td>1</td>\n",
              "      <td>Poznań Poznań-Grunwald ul. Jana Matejki</td>\n",
              "      <td>0</td>\n",
              "      <td>Oferta sprzedaży mieszkania o łącznej powierzc...</td>\n",
              "    </tr>\n",
              "    <tr>\n",
              "      <th>2016</th>\n",
              "      <td>1562</td>\n",
              "      <td>149000</td>\n",
              "      <td>1</td>\n",
              "      <td>28.00</td>\n",
              "      <td>3</td>\n",
              "      <td>Poznań Dębiec</td>\n",
              "      <td>0</td>\n",
              "      <td>Kawalerka 28m2 na Dębcu SUPER CENA !!!! Poleca...</td>\n",
              "    </tr>\n",
              "    <tr>\n",
              "      <th>2017</th>\n",
              "      <td>155</td>\n",
              "      <td>270108</td>\n",
              "      <td>2</td>\n",
              "      <td>44.28</td>\n",
              "      <td>2</td>\n",
              "      <td>Poznań Winogrady ul. Hawelańska</td>\n",
              "      <td>0</td>\n",
              "      <td>Nieruchomości Mieszkania Nieruchomości Mieszkania</td>\n",
              "    </tr>\n",
              "  </tbody>\n",
              "</table>\n",
              "<p>1998 rows × 8 columns</p>\n",
              "</div>"
            ],
            "text/plain": [
              "        Id   Price  ...  Centre                                        Description\n",
              "0     3914  386064  ...       1  OFERTA ZWOLNIONA Z PROWIZJI OD KUPUJĄCEGO! OFE...\n",
              "1      437  280000  ...       0  Polecam do sprzedaży mieszkanie dwupokojowe pr...\n",
              "2     1139  329000  ...       0  Polecam na sprzedaż mieszkanie 2-pokojowe na p...\n",
              "3     4377  225000  ...       1  BEZPIECZNA TRANSAKCJA JEDYNIE Z DOŚWIADCZONYM ...\n",
              "4      192  280000  ...       0  Salon nieruchomości Iron House poleca na sprze...\n",
              "...    ...     ...  ...     ...                                                ...\n",
              "2013   128  277000  ...       0  Kupując z pośrednikiem - kupujesz bezpiecznie ...\n",
              "2014   484  371000  ...       0  Najbardziej Prestiżowy Adres w Poznaniu!! Prze...\n",
              "2015   795  341600  ...       0  Oferta sprzedaży mieszkania o łącznej powierzc...\n",
              "2016  1562  149000  ...       0  Kawalerka 28m2 na Dębcu SUPER CENA !!!! Poleca...\n",
              "2017   155  270108  ...       0  Nieruchomości Mieszkania Nieruchomości Mieszkania\n",
              "\n",
              "[1998 rows x 8 columns]"
            ]
          },
          "metadata": {
            "tags": []
          },
          "execution_count": 20
        }
      ]
    },
    {
      "cell_type": "markdown",
      "metadata": {
        "id": "lYjqWtUTDmJb"
      },
      "source": [
        "### 2.3. Usunięcie niepotrzebnych kolumn"
      ]
    },
    {
      "cell_type": "code",
      "metadata": {
        "id": "rKJ9iMTYDyPH"
      },
      "source": [
        "df.drop('Id', axis=1, inplace=True)"
      ],
      "execution_count": 21,
      "outputs": []
    },
    {
      "cell_type": "code",
      "metadata": {
        "id": "QQVx6nVHESDO"
      },
      "source": [
        "df.drop('Location', axis=1, inplace=True)"
      ],
      "execution_count": 22,
      "outputs": []
    },
    {
      "cell_type": "code",
      "metadata": {
        "id": "wITSjNzJEbc6"
      },
      "source": [
        "df.drop('Description', axis=1, inplace=True)"
      ],
      "execution_count": 23,
      "outputs": []
    },
    {
      "cell_type": "code",
      "metadata": {
        "id": "p9KwLBJWzO6w"
      },
      "source": [
        "df.drop('Floor', axis=1, inplace=True)"
      ],
      "execution_count": 24,
      "outputs": []
    },
    {
      "cell_type": "code",
      "metadata": {
        "colab": {
          "base_uri": "https://localhost:8080/",
          "height": 419
        },
        "id": "FkS6UWlqEbQo",
        "outputId": "c96702f1-ebfa-4f38-fce2-f1c74fde3d3e"
      },
      "source": [
        "df"
      ],
      "execution_count": 25,
      "outputs": [
        {
          "output_type": "execute_result",
          "data": {
            "text/html": [
              "<div>\n",
              "<style scoped>\n",
              "    .dataframe tbody tr th:only-of-type {\n",
              "        vertical-align: middle;\n",
              "    }\n",
              "\n",
              "    .dataframe tbody tr th {\n",
              "        vertical-align: top;\n",
              "    }\n",
              "\n",
              "    .dataframe thead th {\n",
              "        text-align: right;\n",
              "    }\n",
              "</style>\n",
              "<table border=\"1\" class=\"dataframe\">\n",
              "  <thead>\n",
              "    <tr style=\"text-align: right;\">\n",
              "      <th></th>\n",
              "      <th>Price</th>\n",
              "      <th>Rooms</th>\n",
              "      <th>SqrMeters</th>\n",
              "      <th>Centre</th>\n",
              "    </tr>\n",
              "  </thead>\n",
              "  <tbody>\n",
              "    <tr>\n",
              "      <th>0</th>\n",
              "      <td>386064</td>\n",
              "      <td>2</td>\n",
              "      <td>46.00</td>\n",
              "      <td>1</td>\n",
              "    </tr>\n",
              "    <tr>\n",
              "      <th>1</th>\n",
              "      <td>280000</td>\n",
              "      <td>2</td>\n",
              "      <td>41.00</td>\n",
              "      <td>0</td>\n",
              "    </tr>\n",
              "    <tr>\n",
              "      <th>2</th>\n",
              "      <td>329000</td>\n",
              "      <td>2</td>\n",
              "      <td>50.50</td>\n",
              "      <td>0</td>\n",
              "    </tr>\n",
              "    <tr>\n",
              "      <th>3</th>\n",
              "      <td>225000</td>\n",
              "      <td>2</td>\n",
              "      <td>43.00</td>\n",
              "      <td>1</td>\n",
              "    </tr>\n",
              "    <tr>\n",
              "      <th>4</th>\n",
              "      <td>280000</td>\n",
              "      <td>2</td>\n",
              "      <td>69.00</td>\n",
              "      <td>0</td>\n",
              "    </tr>\n",
              "    <tr>\n",
              "      <th>...</th>\n",
              "      <td>...</td>\n",
              "      <td>...</td>\n",
              "      <td>...</td>\n",
              "      <td>...</td>\n",
              "    </tr>\n",
              "    <tr>\n",
              "      <th>2013</th>\n",
              "      <td>277000</td>\n",
              "      <td>2</td>\n",
              "      <td>46.10</td>\n",
              "      <td>0</td>\n",
              "    </tr>\n",
              "    <tr>\n",
              "      <th>2014</th>\n",
              "      <td>371000</td>\n",
              "      <td>3</td>\n",
              "      <td>47.00</td>\n",
              "      <td>0</td>\n",
              "    </tr>\n",
              "    <tr>\n",
              "      <th>2015</th>\n",
              "      <td>341600</td>\n",
              "      <td>2</td>\n",
              "      <td>61.00</td>\n",
              "      <td>0</td>\n",
              "    </tr>\n",
              "    <tr>\n",
              "      <th>2016</th>\n",
              "      <td>149000</td>\n",
              "      <td>1</td>\n",
              "      <td>28.00</td>\n",
              "      <td>0</td>\n",
              "    </tr>\n",
              "    <tr>\n",
              "      <th>2017</th>\n",
              "      <td>270108</td>\n",
              "      <td>2</td>\n",
              "      <td>44.28</td>\n",
              "      <td>0</td>\n",
              "    </tr>\n",
              "  </tbody>\n",
              "</table>\n",
              "<p>1998 rows × 4 columns</p>\n",
              "</div>"
            ],
            "text/plain": [
              "       Price  Rooms  SqrMeters  Centre\n",
              "0     386064      2      46.00       1\n",
              "1     280000      2      41.00       0\n",
              "2     329000      2      50.50       0\n",
              "3     225000      2      43.00       1\n",
              "4     280000      2      69.00       0\n",
              "...      ...    ...        ...     ...\n",
              "2013  277000      2      46.10       0\n",
              "2014  371000      3      47.00       0\n",
              "2015  341600      2      61.00       0\n",
              "2016  149000      1      28.00       0\n",
              "2017  270108      2      44.28       0\n",
              "\n",
              "[1998 rows x 4 columns]"
            ]
          },
          "metadata": {
            "tags": []
          },
          "execution_count": 25
        }
      ]
    },
    {
      "cell_type": "markdown",
      "metadata": {
        "id": "G8PtGeSJCtfx"
      },
      "source": [
        "### 2.4. Normalizacja danych (WIP)"
      ]
    },
    {
      "cell_type": "code",
      "metadata": {
        "id": "gsPrtFNcRQeX",
        "colab": {
          "base_uri": "https://localhost:8080/"
        },
        "outputId": "b9fa87e8-1951-4fc7-d48b-c632ecc3e9cd"
      },
      "source": [
        "df[\"Price\"]=((df[\"Price\"]-df[\"Price\"].min())/(df[\"Price\"].max()-df[\"Price\"].min()))*10\n",
        "\n",
        "df[\"Price\"]"
      ],
      "execution_count": 26,
      "outputs": [
        {
          "output_type": "execute_result",
          "data": {
            "text/plain": [
              "0       2.508533\n",
              "1       1.819358\n",
              "2       2.137747\n",
              "3       1.461983\n",
              "4       1.819358\n",
              "          ...   \n",
              "2013    1.799865\n",
              "2014    2.410651\n",
              "2015    2.219618\n",
              "2016    0.968155\n",
              "2017    1.755082\n",
              "Name: Price, Length: 1998, dtype: float64"
            ]
          },
          "metadata": {
            "tags": []
          },
          "execution_count": 26
        }
      ]
    },
    {
      "cell_type": "markdown",
      "metadata": {
        "id": "Aw8SuIRcgZ8w"
      },
      "source": [
        "### 2.4,5. Bonusowe badanie korelacji"
      ]
    },
    {
      "cell_type": "code",
      "metadata": {
        "colab": {
          "base_uri": "https://localhost:8080/",
          "height": 378
        },
        "id": "bQ0EnZJ2ghAf",
        "outputId": "c83cb02e-b2a3-45f0-bf49-051a90d17d9c"
      },
      "source": [
        "plt.figure(figsize=(10,6))\n",
        "sns.heatmap(df.corr(),annot=True)\n",
        "plt.show()"
      ],
      "execution_count": 27,
      "outputs": [
        {
          "output_type": "display_data",
          "data": {
            "image/png": "[encoded data removed]",
            "text/plain": [
              "<Figure size 720x432 with 2 Axes>"
            ]
          },
          "metadata": {
            "tags": [],
            "needs_background": "light"
          }
        }
      ]
    },
    {
      "cell_type": "markdown",
      "metadata": {
        "id": "mV7dp5ASBlt5"
      },
      "source": [
        "### 2.5. Podział na zbiór train i test (4:1)"
      ]
    },
    {
      "cell_type": "code",
      "metadata": {
        "id": "cWICe8j-Fx1y"
      },
      "source": [
        "y = df.Centre"
      ],
      "execution_count": 28,
      "outputs": []
    },
    {
      "cell_type": "code",
      "metadata": {
        "id": "JN0t1htSFxxl"
      },
      "source": [
        "x = df.drop('Centre', axis=1)"
      ],
      "execution_count": 29,
      "outputs": []
    },
    {
      "cell_type": "code",
      "metadata": {
        "id": "1psLBHei7Ptj"
      },
      "source": [
        "x_train, x_test, y_train, y_test = train_test_split(x,y , test_size=0.2,train_size=0.8, random_state=5)"
      ],
      "execution_count": 30,
      "outputs": []
    },
    {
      "cell_type": "code",
      "metadata": {
        "colab": {
          "base_uri": "https://localhost:8080/",
          "height": 419
        },
        "id": "Wrfhgr7Q8QUR",
        "outputId": "b05aba6f-21c1-4abd-8914-95441085d8e5"
      },
      "source": [
        "x_train"
      ],
      "execution_count": 31,
      "outputs": [
        {
          "output_type": "execute_result",
          "data": {
            "text/html": [
              "<div>\n",
              "<style scoped>\n",
              "    .dataframe tbody tr th:only-of-type {\n",
              "        vertical-align: middle;\n",
              "    }\n",
              "\n",
              "    .dataframe tbody tr th {\n",
              "        vertical-align: top;\n",
              "    }\n",
              "\n",
              "    .dataframe thead th {\n",
              "        text-align: right;\n",
              "    }\n",
              "</style>\n",
              "<table border=\"1\" class=\"dataframe\">\n",
              "  <thead>\n",
              "    <tr style=\"text-align: right;\">\n",
              "      <th></th>\n",
              "      <th>Price</th>\n",
              "      <th>Rooms</th>\n",
              "      <th>SqrMeters</th>\n",
              "    </tr>\n",
              "  </thead>\n",
              "  <tbody>\n",
              "    <tr>\n",
              "      <th>1865</th>\n",
              "      <td>2.371665</td>\n",
              "      <td>3</td>\n",
              "      <td>66.00</td>\n",
              "    </tr>\n",
              "    <tr>\n",
              "      <th>1141</th>\n",
              "      <td>1.551547</td>\n",
              "      <td>2</td>\n",
              "      <td>42.64</td>\n",
              "    </tr>\n",
              "    <tr>\n",
              "      <th>186</th>\n",
              "      <td>1.428961</td>\n",
              "      <td>2</td>\n",
              "      <td>36.35</td>\n",
              "    </tr>\n",
              "    <tr>\n",
              "      <th>1824</th>\n",
              "      <td>1.487974</td>\n",
              "      <td>2</td>\n",
              "      <td>56.10</td>\n",
              "    </tr>\n",
              "    <tr>\n",
              "      <th>36</th>\n",
              "      <td>2.514615</td>\n",
              "      <td>3</td>\n",
              "      <td>82.50</td>\n",
              "    </tr>\n",
              "    <tr>\n",
              "      <th>...</th>\n",
              "      <td>...</td>\n",
              "      <td>...</td>\n",
              "      <td>...</td>\n",
              "    </tr>\n",
              "    <tr>\n",
              "      <th>1156</th>\n",
              "      <td>2.209222</td>\n",
              "      <td>4</td>\n",
              "      <td>70.80</td>\n",
              "    </tr>\n",
              "    <tr>\n",
              "      <th>1011</th>\n",
              "      <td>1.224816</td>\n",
              "      <td>1</td>\n",
              "      <td>29.00</td>\n",
              "    </tr>\n",
              "    <tr>\n",
              "      <th>1742</th>\n",
              "      <td>2.436642</td>\n",
              "      <td>2</td>\n",
              "      <td>60.00</td>\n",
              "    </tr>\n",
              "    <tr>\n",
              "      <th>208</th>\n",
              "      <td>2.079267</td>\n",
              "      <td>3</td>\n",
              "      <td>77.20</td>\n",
              "    </tr>\n",
              "    <tr>\n",
              "      <th>880</th>\n",
              "      <td>2.137747</td>\n",
              "      <td>3</td>\n",
              "      <td>67.00</td>\n",
              "    </tr>\n",
              "  </tbody>\n",
              "</table>\n",
              "<p>1598 rows × 3 columns</p>\n",
              "</div>"
            ],
            "text/plain": [
              "         Price  Rooms  SqrMeters\n",
              "1865  2.371665      3      66.00\n",
              "1141  1.551547      2      42.64\n",
              "186   1.428961      2      36.35\n",
              "1824  1.487974      2      56.10\n",
              "36    2.514615      3      82.50\n",
              "...        ...    ...        ...\n",
              "1156  2.209222      4      70.80\n",
              "1011  1.224816      1      29.00\n",
              "1742  2.436642      2      60.00\n",
              "208   2.079267      3      77.20\n",
              "880   2.137747      3      67.00\n",
              "\n",
              "[1598 rows x 3 columns]"
            ]
          },
          "metadata": {
            "tags": []
          },
          "execution_count": 31
        }
      ]
    },
    {
      "cell_type": "code",
      "metadata": {
        "colab": {
          "base_uri": "https://localhost:8080/"
        },
        "id": "XDs-XfDf8S2x",
        "outputId": "6bdf0eec-aeb8-48ae-ba04-b5af248896d8"
      },
      "source": [
        "y_train.value_counts()"
      ],
      "execution_count": 32,
      "outputs": [
        {
          "output_type": "execute_result",
          "data": {
            "text/plain": [
              "0    1200\n",
              "1     398\n",
              "Name: Centre, dtype: int64"
            ]
          },
          "metadata": {
            "tags": []
          },
          "execution_count": 32
        }
      ]
    },
    {
      "cell_type": "markdown",
      "metadata": {
        "id": "pjGyGCYKC5G7"
      },
      "source": [
        "---\n",
        "\n",
        "# **Część 3.** Regresja Logarytmiczna\n",
        "\n",
        "---"
      ]
    },
    {
      "cell_type": "code",
      "metadata": {
        "id": "AW6CDeCN8UKo"
      },
      "source": [
        "from sklearn.linear_model import LogisticRegression"
      ],
      "execution_count": 33,
      "outputs": []
    },
    {
      "cell_type": "code",
      "metadata": {
        "id": "rqyvn7QxC9wc"
      },
      "source": [
        "logisticRegr = LogisticRegression()"
      ],
      "execution_count": 34,
      "outputs": []
    },
    {
      "cell_type": "markdown",
      "metadata": {
        "id": "hhJtf8aeXcXS"
      },
      "source": [
        "### **3.1.** Trening na zbiorach treningowych"
      ]
    },
    {
      "cell_type": "code",
      "metadata": {
        "colab": {
          "base_uri": "https://localhost:8080/"
        },
        "id": "FpS_-ZdsGNej",
        "outputId": "a02d424a-6564-49d6-f10b-1152c8791170"
      },
      "source": [
        "logisticRegr.fit(x_train, y_train)"
      ],
      "execution_count": 35,
      "outputs": [
        {
          "output_type": "execute_result",
          "data": {
            "text/plain": [
              "LogisticRegression(C=1.0, class_weight=None, dual=False, fit_intercept=True,\n",
              "                   intercept_scaling=1, l1_ratio=None, max_iter=100,\n",
              "                   multi_class='auto', n_jobs=None, penalty='l2',\n",
              "                   random_state=None, solver='lbfgs', tol=0.0001, verbose=0,\n",
              "                   warm_start=False)"
            ]
          },
          "metadata": {
            "tags": []
          },
          "execution_count": 35
        }
      ]
    },
    {
      "cell_type": "markdown",
      "metadata": {
        "id": "sdP3xUTXXlmO"
      },
      "source": [
        "### **3.2.** Sprawdzenie dokładności na podstawie zbiorów testowych"
      ]
    },
    {
      "cell_type": "code",
      "metadata": {
        "colab": {
          "base_uri": "https://localhost:8080/"
        },
        "id": "_RFgRN9PGUjh",
        "outputId": "8ae8ab87-d8ef-4d5e-c74e-ecd28ec6e50e"
      },
      "source": [
        "score = logisticRegr.score(x_test, y_test)\n",
        "print(score)"
      ],
      "execution_count": 36,
      "outputs": [
        {
          "output_type": "stream",
          "text": [
            "0.7225\n"
          ],
          "name": "stdout"
        }
      ]
    },
    {
      "cell_type": "code",
      "metadata": {
        "colab": {
          "base_uri": "https://localhost:8080/"
        },
        "id": "ScPrgZt4GUdA",
        "outputId": "1e07e572-6665-4b76-fb9a-ef42d6b6863c"
      },
      "source": [
        "predictions = logisticRegr.predict(x_test)\n",
        "logisticRegr.predict(x_test)"
      ],
      "execution_count": 37,
      "outputs": [
        {
          "output_type": "execute_result",
          "data": {
            "text/plain": [
              "array([0, 0, 0, 0, 0, 0, 0, 0, 0, 0, 0, 0, 0, 0, 0, 0, 0, 0, 0, 0, 0, 0,\n",
              "       0, 0, 0, 1, 0, 0, 0, 0, 0, 0, 0, 0, 0, 0, 0, 0, 0, 0, 0, 1, 0, 0,\n",
              "       0, 0, 0, 0, 0, 0, 0, 0, 0, 0, 0, 0, 0, 0, 0, 0, 0, 0, 0, 0, 0, 0,\n",
              "       0, 0, 0, 0, 0, 0, 0, 0, 0, 0, 0, 0, 0, 0, 0, 0, 0, 0, 0, 0, 0, 0,\n",
              "       0, 0, 0, 0, 0, 0, 0, 0, 0, 0, 0, 0, 1, 0, 0, 0, 0, 0, 1, 0, 0, 0,\n",
              "       0, 0, 0, 0, 0, 0, 0, 0, 0, 0, 0, 0, 0, 0, 0, 0, 0, 0, 0, 0, 0, 0,\n",
              "       0, 1, 0, 0, 0, 0, 0, 0, 0, 0, 0, 0, 0, 0, 0, 1, 0, 0, 0, 0, 0, 0,\n",
              "       0, 0, 0, 1, 0, 0, 0, 0, 0, 0, 0, 0, 0, 0, 0, 0, 0, 0, 0, 0, 0, 0,\n",
              "       0, 0, 0, 0, 0, 0, 0, 0, 1, 0, 0, 0, 0, 0, 0, 0, 0, 0, 0, 0, 0, 0,\n",
              "       0, 1, 0, 0, 0, 0, 0, 0, 0, 0, 0, 0, 0, 0, 0, 0, 0, 0, 0, 0, 0, 0,\n",
              "       0, 0, 0, 0, 0, 0, 0, 0, 0, 0, 0, 0, 0, 0, 0, 0, 0, 0, 0, 0, 0, 0,\n",
              "       0, 0, 0, 1, 0, 0, 0, 0, 0, 0, 0, 0, 0, 0, 0, 0, 0, 0, 0, 0, 0, 0,\n",
              "       0, 0, 0, 0, 0, 0, 1, 0, 0, 0, 0, 0, 0, 0, 0, 0, 0, 0, 0, 0, 0, 0,\n",
              "       0, 0, 0, 1, 0, 0, 0, 0, 0, 1, 0, 0, 0, 1, 0, 0, 0, 0, 0, 0, 0, 0,\n",
              "       0, 0, 0, 0, 1, 0, 0, 0, 0, 0, 0, 0, 0, 0, 0, 0, 0, 1, 0, 0, 0, 0,\n",
              "       0, 0, 0, 0, 0, 1, 0, 0, 0, 0, 0, 0, 0, 0, 0, 0, 0, 0, 0, 0, 0, 0,\n",
              "       0, 0, 0, 0, 0, 0, 0, 0, 0, 0, 0, 0, 0, 0, 0, 0, 0, 0, 0, 0, 0, 0,\n",
              "       0, 0, 0, 0, 0, 0, 0, 0, 0, 0, 0, 0, 0, 0, 0, 0, 0, 0, 0, 0, 0, 0,\n",
              "       0, 0, 0, 0])"
            ]
          },
          "metadata": {
            "tags": []
          },
          "execution_count": 37
        }
      ]
    },
    {
      "cell_type": "code",
      "metadata": {
        "colab": {
          "base_uri": "https://localhost:8080/"
        },
        "id": "rPtr-U4ZnIBI",
        "outputId": "ab7aa891-2bd8-4650-ff26-7e7407673557"
      },
      "source": [
        " from sklearn.metrics import precision_score\n",
        "\n",
        " precision_score(y_test,predictions)\n",
        " score"
      ],
      "execution_count": 38,
      "outputs": [
        {
          "output_type": "execute_result",
          "data": {
            "text/plain": [
              "0.7225"
            ]
          },
          "metadata": {
            "tags": []
          },
          "execution_count": 38
        }
      ]
    },
    {
      "cell_type": "markdown",
      "metadata": {
        "id": "ax7wjRpgE2OV"
      },
      "source": [
        "### 3.3. precyzja, pokrycie i F-score dla Regresji Logistycznej."
      ]
    },
    {
      "cell_type": "code",
      "metadata": {
        "colab": {
          "base_uri": "https://localhost:8080/"
        },
        "id": "tKDwWAQKGURf",
        "outputId": "a5f83c10-4712-4e2a-eefa-575d4e6650ef"
      },
      "source": [
        "from sklearn.metrics import classification_report\n",
        "print(classification_report(y_test,predictions)) "
      ],
      "execution_count": 39,
      "outputs": [
        {
          "output_type": "stream",
          "text": [
            "              precision    recall  f1-score   support\n",
            "\n",
            "           0       0.73      0.98      0.83       284\n",
            "           1       0.65      0.09      0.17       116\n",
            "\n",
            "    accuracy                           0.72       400\n",
            "   macro avg       0.69      0.54      0.50       400\n",
            "weighted avg       0.70      0.72      0.64       400\n",
            "\n"
          ],
          "name": "stdout"
        }
      ]
    },
    {
      "cell_type": "markdown",
      "metadata": {
        "id": "n0xuDiD6ADgA"
      },
      "source": [
        "---\n",
        "# **Część 4.** Klasyfikator Losowy\n",
        "\n",
        "\n",
        "---"
      ]
    },
    {
      "cell_type": "code",
      "metadata": {
        "id": "K4phJzR6C05F"
      },
      "source": [
        "from random import randint"
      ],
      "execution_count": 40,
      "outputs": []
    },
    {
      "cell_type": "markdown",
      "metadata": {
        "id": "EqeayifWXtCr"
      },
      "source": [
        "### **4.1.** Stworzenie funkcji do przydzielenia losowej liczby '0' lub '1' dla każdego wektora z x_test."
      ]
    },
    {
      "cell_type": "code",
      "metadata": {
        "id": "gzPyMCl-JFbF"
      },
      "source": [
        "def randomOut(x_fu):\n",
        "  temp = len(x_fu.index)\n",
        "  out = []\n",
        "  for i in range(temp):\n",
        "    out.append(randint(0, 1))\n",
        "  print(out)\n",
        "  return out"
      ],
      "execution_count": 41,
      "outputs": []
    },
    {
      "cell_type": "code",
      "metadata": {
        "colab": {
          "base_uri": "https://localhost:8080/"
        },
        "id": "SxK7on9rCmtf",
        "outputId": "6288c2ec-6862-4a07-da36-72213d5094e9"
      },
      "source": [
        "randomClass = randomOut(x_test)"
      ],
      "execution_count": 42,
      "outputs": [
        {
          "output_type": "stream",
          "text": [
            "[1, 1, 0, 0, 0, 1, 0, 0, 1, 1, 0, 1, 0, 0, 0, 1, 0, 0, 0, 1, 0, 0, 0, 0, 1, 0, 0, 0, 1, 1, 1, 1, 1, 0, 0, 0, 0, 1, 1, 1, 1, 0, 1, 0, 0, 0, 0, 1, 1, 1, 0, 0, 1, 1, 1, 1, 0, 1, 1, 0, 0, 0, 1, 1, 0, 1, 0, 1, 1, 0, 1, 1, 0, 1, 0, 0, 1, 1, 0, 0, 0, 0, 0, 0, 0, 1, 0, 1, 0, 1, 0, 1, 0, 1, 0, 1, 0, 0, 1, 0, 1, 0, 1, 0, 0, 0, 1, 0, 1, 1, 1, 1, 0, 1, 1, 0, 1, 1, 1, 1, 0, 1, 0, 1, 1, 0, 1, 1, 0, 0, 1, 0, 1, 1, 1, 0, 0, 1, 1, 0, 1, 0, 1, 0, 0, 0, 0, 1, 1, 0, 0, 0, 1, 0, 0, 1, 1, 1, 0, 0, 0, 1, 1, 1, 0, 0, 0, 1, 0, 0, 1, 0, 1, 0, 1, 0, 1, 1, 0, 1, 1, 0, 1, 1, 0, 1, 0, 0, 0, 0, 1, 1, 1, 0, 0, 1, 0, 0, 1, 1, 0, 0, 0, 0, 0, 1, 1, 1, 1, 0, 0, 0, 0, 1, 0, 1, 1, 0, 1, 0, 1, 0, 1, 1, 0, 0, 0, 1, 1, 0, 0, 0, 1, 1, 1, 1, 0, 1, 1, 0, 1, 0, 1, 1, 0, 1, 0, 1, 1, 0, 0, 1, 0, 1, 1, 1, 0, 1, 0, 0, 0, 1, 0, 0, 1, 0, 0, 0, 1, 1, 1, 1, 1, 1, 1, 1, 0, 1, 0, 0, 1, 0, 1, 0, 1, 0, 0, 0, 0, 0, 1, 1, 0, 0, 1, 0, 0, 1, 0, 1, 1, 1, 1, 0, 0, 0, 0, 0, 1, 1, 0, 1, 1, 0, 0, 0, 0, 0, 1, 0, 0, 1, 1, 1, 0, 0, 0, 1, 1, 0, 0, 1, 0, 0, 1, 1, 1, 0, 0, 1, 0, 1, 0, 1, 1, 1, 0, 1, 0, 1, 0, 1, 1, 1, 1, 0, 0, 0, 1, 1, 0, 0, 1, 0, 0, 1, 1, 1, 0, 0, 0, 1, 0, 0, 1, 0, 0, 0, 1, 1, 1, 0, 1, 1, 0, 1, 1, 1, 1, 1, 0, 0, 0, 1, 1, 1, 0, 0, 1, 0]\n"
          ],
          "name": "stdout"
        }
      ]
    },
    {
      "cell_type": "markdown",
      "metadata": {
        "id": "shl1rFNzFED5"
      },
      "source": [
        "### 4.2. precyzja, pokrycie i F-score dla Klasyfikatora losowego."
      ]
    },
    {
      "cell_type": "code",
      "metadata": {
        "colab": {
          "base_uri": "https://localhost:8080/"
        },
        "id": "TyyDP16mDHEc",
        "outputId": "3224830e-6af0-4693-9354-513bca506e0a"
      },
      "source": [
        "print(classification_report(y_test,randomClass))"
      ],
      "execution_count": 43,
      "outputs": [
        {
          "output_type": "stream",
          "text": [
            "              precision    recall  f1-score   support\n",
            "\n",
            "           0       0.69      0.50      0.58       284\n",
            "           1       0.27      0.46      0.34       116\n",
            "\n",
            "    accuracy                           0.48       400\n",
            "   macro avg       0.48      0.48      0.46       400\n",
            "weighted avg       0.57      0.48      0.51       400\n",
            "\n"
          ],
          "name": "stdout"
        }
      ]
    },
    {
      "cell_type": "markdown",
      "metadata": {
        "id": "sS-rBqA1YW8N"
      },
      "source": [
        "### **4.2.** Wnioski"
      ]
    },
    {
      "cell_type": "markdown",
      "metadata": {
        "id": "ChfgGnHzY1rX"
      },
      "source": [
        "Można zauważyć, że dla klasyfikatora losowego uzyskujemy wynik precyzji: **0.48** dla *Macro Average* oraz **0.57** dla *Weighted Average*. A Dokładność **0.48**\n",
        "\n",
        "A dla modelu regresji logistycznej uzyskujemy wynik precyzji: **0.69** dla *Macro Average* oraz **0.70** dla *Weighted Average*. A Dokładność **0.72**"
      ]
    },
    {
      "cell_type": "markdown",
      "metadata": {
        "id": "YnHYHkZTctI9"
      },
      "source": [
        "![how_avg_works.png](data:image/png;base64,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)\n",
        "\n",
        "\n",
        "źródło - https://datascience.stackexchange.com/questions/65839/macro-average-and-weighted-average-meaning-in-classification-report, dostęp 08.04.2021"
      ]
    },
    {
      "cell_type": "markdown",
      "metadata": {
        "id": "XtyuKvgOx4-U"
      },
      "source": [
        "# 5. Bonus (badanie TP, TN, FP i FN dla reg logistycznej) "
      ]
    },
    {
      "cell_type": "code",
      "metadata": {
        "id": "Hvxw3bDKyJ-_"
      },
      "source": [
        "from matplotlib import pyplot as plt\n",
        "from sklearn.metrics import confusion_matrix , classification_report\n",
        "import pandas as pd"
      ],
      "execution_count": null,
      "outputs": []
    },
    {
      "cell_type": "code",
      "metadata": {
        "id": "zLNnwq84cumt"
      },
      "source": [
        "def print_confusion_matrix(confusion_matrix, class_names, figsize = (10,7), fontsize=14):\n",
        "    \"\"\"Prints a confusion matrix, as returned by sklearn.metrics.confusion_matrix, as a heatmap.\n",
        "    \n",
        "    Arguments\n",
        "    ---------\n",
        "    confusion_matrix: numpy.ndarray\n",
        "        The numpy.ndarray object returned from a call to sklearn.metrics.confusion_matrix. \n",
        "        Similarly constructed ndarrays can also be used.\n",
        "    class_names: list\n",
        "        An ordered list of class names, in the order they index the given confusion matrix.\n",
        "    figsize: tuple\n",
        "        A 2-long tuple, the first value determining the horizontal size of the ouputted figure,\n",
        "        the second determining the vertical size. Defaults to (10,7).\n",
        "    fontsize: int\n",
        "        Font size for axes labels. Defaults to 14.\n",
        "        \n",
        "    Returns\n",
        "    -------\n",
        "    matplotlib.figure.Figure\n",
        "        The resulting confusion matrix figure\n",
        "    \"\"\"\n",
        "    df_cm = pd.DataFrame(\n",
        "        confusion_matrix, index=class_names, columns=class_names, \n",
        "    )\n",
        "    fig = plt.figure(figsize=figsize)\n",
        "    try:\n",
        "        heatmap = sns.heatmap(df_cm, annot=True, fmt=\"d\")\n",
        "    except ValueError:\n",
        "        raise ValueError(\"Confusion matrix values must be integers.\")\n",
        "    heatmap.yaxis.set_ticklabels(heatmap.yaxis.get_ticklabels(), rotation=0, ha='right', fontsize=fontsize)\n",
        "    heatmap.xaxis.set_ticklabels(heatmap.xaxis.get_ticklabels(), rotation=45, ha='right', fontsize=fontsize)\n",
        "    plt.ylabel('Truth')\n",
        "    plt.xlabel('Prediction')"
      ],
      "execution_count": null,
      "outputs": []
    },
    {
      "cell_type": "code",
      "metadata": {
        "colab": {
          "base_uri": "https://localhost:8080/",
          "height": 449
        },
        "id": "UD5wmSAsx7pH",
        "outputId": "7412c1ff-af7b-453e-d227-82a798199299"
      },
      "source": [
        "cm = confusion_matrix(y_test,predictions)\n",
        "print_confusion_matrix(cm,[\"1\",\"0\"])"
      ],
      "execution_count": null,
      "outputs": [
        {
          "output_type": "display_data",
          "data": {
            "image/png": "[encoded data removed]",
            "text/plain": [
              "<Figure size 720x504 with 2 Axes>"
            ]
          },
          "metadata": {
            "tags": [],
            "needs_background": "light"
          }
        }
      ]
    },
    {
      "cell_type": "code",
      "metadata": {
        "id": "KiiMvEM_yELf"
      },
      "source": [
        ""
      ],
      "execution_count": null,
      "outputs": []
    }
  ]
}
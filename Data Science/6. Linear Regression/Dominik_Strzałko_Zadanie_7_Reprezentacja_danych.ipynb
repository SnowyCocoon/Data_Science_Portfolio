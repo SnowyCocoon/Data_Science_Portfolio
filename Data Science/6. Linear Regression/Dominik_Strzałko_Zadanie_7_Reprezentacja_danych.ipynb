{
  "nbformat": 4,
  "nbformat_minor": 0,
  "metadata": {
    "colab": {
      "name": "Dominik_Strzałko_Zadanie 7_Reprezentacja_danych.ipynb",
      "provenance": [],
      "collapsed_sections": [],
      "toc_visible": true
    },
    "kernelspec": {
      "name": "python3",
      "display_name": "Python 3"
    },
    "language_info": {
      "name": "python"
    }
  },
  "cells": [
    {
      "cell_type": "markdown",
      "metadata": {
        "id": "er2LnYaRUggR"
      },
      "source": [
        "# Dominik Strzałko - Zadanie 7 - Reprezentacja danych"
      ]
    },
    {
      "cell_type": "markdown",
      "metadata": {
        "id": "uD5K4WvdUosX"
      },
      "source": [
        "# **0.** Pobranie zbioru i import bibliotek\n",
        "\n",
        "---\n",
        "\n"
      ]
    },
    {
      "cell_type": "code",
      "metadata": {
        "id": "fVjkw47cUYc4"
      },
      "source": [
        "import pandas as pd\n",
        "import numpy as np\n",
        "from sklearn.model_selection import train_test_split\n",
        "import seaborn as sns\n",
        "import matplotlib.pyplot as plt\n",
        "from sklearn.metrics import mean_squared_error\n",
        "from sklearn.linear_model import LinearRegression"
      ],
      "execution_count": 1,
      "outputs": []
    },
    {
      "cell_type": "code",
      "metadata": {
        "id": "6WRc1nsyVlp9"
      },
      "source": [
        "df =pd.read_csv('flats.tsv', sep='\\t')"
      ],
      "execution_count": 2,
      "outputs": []
    },
    {
      "cell_type": "code",
      "metadata": {
        "colab": {
          "base_uri": "https://localhost:8080/",
          "height": 547
        },
        "id": "b6STf02cV4T-",
        "outputId": "f85a30ee-696d-43cb-d6b2-f1cd7dadb37d"
      },
      "source": [
        "df.head()"
      ],
      "execution_count": 3,
      "outputs": [
        {
          "output_type": "execute_result",
          "data": {
            "text/html": [
              "<div>\n",
              "<style scoped>\n",
              "    .dataframe tbody tr th:only-of-type {\n",
              "        vertical-align: middle;\n",
              "    }\n",
              "\n",
              "    .dataframe tbody tr th {\n",
              "        vertical-align: top;\n",
              "    }\n",
              "\n",
              "    .dataframe thead th {\n",
              "        text-align: right;\n",
              "    }\n",
              "</style>\n",
              "<table border=\"1\" class=\"dataframe\">\n",
              "  <thead>\n",
              "    <tr style=\"text-align: right;\">\n",
              "      <th></th>\n",
              "      <th>cena</th>\n",
              "      <th>Powierzchnia w m2</th>\n",
              "      <th>Liczba pokoi</th>\n",
              "      <th>Miejsce parkingowe</th>\n",
              "      <th>Liczba pięter w budynku</th>\n",
              "      <th>Piętro</th>\n",
              "      <th>Typ zabudowy</th>\n",
              "      <th>Okna</th>\n",
              "      <th>Materiał budynku</th>\n",
              "      <th>Rok budowy</th>\n",
              "      <th>Forma własności</th>\n",
              "      <th>Forma kuchni</th>\n",
              "      <th>Stan</th>\n",
              "      <th>Stan instalacji</th>\n",
              "      <th>Głośność</th>\n",
              "      <th>Droga dojazdowa</th>\n",
              "      <th>Stan łazienki</th>\n",
              "      <th>Powierzchnia działki w m2</th>\n",
              "      <th>opis</th>\n",
              "    </tr>\n",
              "  </thead>\n",
              "  <tbody>\n",
              "    <tr>\n",
              "      <th>0</th>\n",
              "      <td>290386</td>\n",
              "      <td>46</td>\n",
              "      <td>2</td>\n",
              "      <td>brak miejsca parkingowego</td>\n",
              "      <td>5.0</td>\n",
              "      <td>parter</td>\n",
              "      <td>apartamentowiec</td>\n",
              "      <td>plastikowe/PCV</td>\n",
              "      <td>cegła</td>\n",
              "      <td>2017.0</td>\n",
              "      <td>własność</td>\n",
              "      <td>w aneksie</td>\n",
              "      <td>stan deweloperski</td>\n",
              "      <td>nowa</td>\n",
              "      <td>NaN</td>\n",
              "      <td>NaN</td>\n",
              "      <td>NaN</td>\n",
              "      <td>NaN</td>\n",
              "      <td>Polecam mieszkanie 2 pokojowe o metrażu 46,68...</td>\n",
              "    </tr>\n",
              "    <tr>\n",
              "      <th>1</th>\n",
              "      <td>450000</td>\n",
              "      <td>59</td>\n",
              "      <td>2</td>\n",
              "      <td>brak miejsca parkingowego</td>\n",
              "      <td>3.0</td>\n",
              "      <td>2</td>\n",
              "      <td>kamienica</td>\n",
              "      <td>plastikowe/PCV</td>\n",
              "      <td>cegła</td>\n",
              "      <td>1902.0</td>\n",
              "      <td>własność</td>\n",
              "      <td>w aneksie</td>\n",
              "      <td>NaN</td>\n",
              "      <td>NaN</td>\n",
              "      <td>NaN</td>\n",
              "      <td>NaN</td>\n",
              "      <td>NaN</td>\n",
              "      <td>NaN</td>\n",
              "      <td>Ekskluzywna oferta - tylko u nas! Projekt arc...</td>\n",
              "    </tr>\n",
              "    <tr>\n",
              "      <th>2</th>\n",
              "      <td>375000</td>\n",
              "      <td>79</td>\n",
              "      <td>3</td>\n",
              "      <td>brak miejsca parkingowego</td>\n",
              "      <td>16.0</td>\n",
              "      <td>5</td>\n",
              "      <td>blok</td>\n",
              "      <td>NaN</td>\n",
              "      <td>płyta</td>\n",
              "      <td>1990.0</td>\n",
              "      <td>NaN</td>\n",
              "      <td>NaN</td>\n",
              "      <td>NaN</td>\n",
              "      <td>NaN</td>\n",
              "      <td>NaN</td>\n",
              "      <td>NaN</td>\n",
              "      <td>NaN</td>\n",
              "      <td>NaN</td>\n",
              "      <td>Polecam do kupna przestronne mieszkanie trzyp...</td>\n",
              "    </tr>\n",
              "    <tr>\n",
              "      <th>3</th>\n",
              "      <td>400000</td>\n",
              "      <td>63</td>\n",
              "      <td>3</td>\n",
              "      <td>w garażu</td>\n",
              "      <td>2.0</td>\n",
              "      <td>2</td>\n",
              "      <td>blok</td>\n",
              "      <td>plastikowe/PCV</td>\n",
              "      <td>cegła</td>\n",
              "      <td>2009.0</td>\n",
              "      <td>własność</td>\n",
              "      <td>odzielna</td>\n",
              "      <td>NaN</td>\n",
              "      <td>NaN</td>\n",
              "      <td>ciche</td>\n",
              "      <td>NaN</td>\n",
              "      <td>bardzo dobry</td>\n",
              "      <td>NaN</td>\n",
              "      <td>Dla rodziny albo pod wynajem. Świetna lokaliz...</td>\n",
              "    </tr>\n",
              "    <tr>\n",
              "      <th>4</th>\n",
              "      <td>389285</td>\n",
              "      <td>59</td>\n",
              "      <td>3</td>\n",
              "      <td>brak miejsca parkingowego</td>\n",
              "      <td>13.0</td>\n",
              "      <td>12</td>\n",
              "      <td>blok</td>\n",
              "      <td>NaN</td>\n",
              "      <td>NaN</td>\n",
              "      <td>NaN</td>\n",
              "      <td>NaN</td>\n",
              "      <td>w aneksie</td>\n",
              "      <td>NaN</td>\n",
              "      <td>NaN</td>\n",
              "      <td>NaN</td>\n",
              "      <td>NaN</td>\n",
              "      <td>NaN</td>\n",
              "      <td>NaN</td>\n",
              "      <td>NaN</td>\n",
              "    </tr>\n",
              "  </tbody>\n",
              "</table>\n",
              "</div>"
            ],
            "text/plain": [
              "     cena  ...                                               opis\n",
              "0  290386  ...   Polecam mieszkanie 2 pokojowe o metrażu 46,68...\n",
              "1  450000  ...   Ekskluzywna oferta - tylko u nas! Projekt arc...\n",
              "2  375000  ...   Polecam do kupna przestronne mieszkanie trzyp...\n",
              "3  400000  ...   Dla rodziny albo pod wynajem. Świetna lokaliz...\n",
              "4  389285  ...                                                NaN\n",
              "\n",
              "[5 rows x 19 columns]"
            ]
          },
          "metadata": {
            "tags": []
          },
          "execution_count": 3
        }
      ]
    },
    {
      "cell_type": "markdown",
      "metadata": {
        "id": "U-AEUaCizSwR"
      },
      "source": [
        "# **1.** Badanie zbioru i zamiana danych na numeryczne\n",
        "\n",
        "---"
      ]
    },
    {
      "cell_type": "markdown",
      "metadata": {
        "id": "3qPIfSRV0F40"
      },
      "source": [
        "### **1.1.** Miejsca parkingowe (Kategoryczne na numeryczne)"
      ]
    },
    {
      "cell_type": "code",
      "metadata": {
        "colab": {
          "base_uri": "https://localhost:8080/"
        },
        "id": "fpixYUMVyFvJ",
        "outputId": "0085de64-fc3d-4efa-e918-327fa33a6fc7"
      },
      "source": [
        "df['Miejsce parkingowe'].unique()"
      ],
      "execution_count": 4,
      "outputs": [
        {
          "output_type": "execute_result",
          "data": {
            "text/plain": [
              "array([' brak miejsca parkingowego', ' w garażu', ' przynależne na ulicy',\n",
              "       ' parking strzeżony', ' pod wiatą'], dtype=object)"
            ]
          },
          "metadata": {
            "tags": []
          },
          "execution_count": 4
        }
      ]
    },
    {
      "cell_type": "code",
      "metadata": {
        "id": "IHvAmFHQyFs1"
      },
      "source": [
        "parking_dic = {\n",
        "    \" brak miejsca parkingowego\":0,\n",
        "    \" przynależne na ulicy\":1,\n",
        "    \" parking strzeżony\":2,\n",
        "    \" pod wiatą\":3,\n",
        "    \" w garażu\":4,\n",
        "}"
      ],
      "execution_count": 5,
      "outputs": []
    },
    {
      "cell_type": "code",
      "metadata": {
        "id": "MmxwUIhAyFqo"
      },
      "source": [
        "df['Miejsce parkingowe'] = df['Miejsce parkingowe'].map(parking_dic)  "
      ],
      "execution_count": 6,
      "outputs": []
    },
    {
      "cell_type": "code",
      "metadata": {
        "colab": {
          "base_uri": "https://localhost:8080/"
        },
        "id": "skFdONIl3NKS",
        "outputId": "9471cb8c-c458-427e-f346-0cee7f8a7d0c"
      },
      "source": [
        "df['Miejsce parkingowe'].unique()"
      ],
      "execution_count": 7,
      "outputs": [
        {
          "output_type": "execute_result",
          "data": {
            "text/plain": [
              "array([0, 4, 1, 2, 3])"
            ]
          },
          "metadata": {
            "tags": []
          },
          "execution_count": 7
        }
      ]
    },
    {
      "cell_type": "code",
      "metadata": {
        "colab": {
          "base_uri": "https://localhost:8080/"
        },
        "id": "iHxGtFnGyFoY",
        "outputId": "5a9c248e-f5b3-427f-968b-918f7452008b"
      },
      "source": [
        "df['Miejsce parkingowe'].head()"
      ],
      "execution_count": 8,
      "outputs": [
        {
          "output_type": "execute_result",
          "data": {
            "text/plain": [
              "0    0\n",
              "1    0\n",
              "2    0\n",
              "3    4\n",
              "4    0\n",
              "Name: Miejsce parkingowe, dtype: int64"
            ]
          },
          "metadata": {
            "tags": []
          },
          "execution_count": 8
        }
      ]
    },
    {
      "cell_type": "code",
      "metadata": {
        "colab": {
          "base_uri": "https://localhost:8080/",
          "height": 400
        },
        "id": "5K86G0ffyFly",
        "outputId": "7c4e9e53-d6fe-4286-9e83-ad511380158e"
      },
      "source": [
        "plt.figure(figsize=(20,6))\n",
        "sns.catplot(x='Miejsce parkingowe',y='cena', data=df)\n",
        "plt.show()"
      ],
      "execution_count": 9,
      "outputs": [
        {
          "output_type": "display_data",
          "data": {
            "text/plain": [
              "<Figure size 1440x432 with 0 Axes>"
            ]
          },
          "metadata": {
            "tags": []
          }
        },
        {
          "output_type": "display_data",
          "data": {
            "image/png": "[encoded data removed]",
            "text/plain": [
              "<Figure size 360x360 with 1 Axes>"
            ]
          },
          "metadata": {
            "tags": [],
            "needs_background": "light"
          }
        }
      ]
    },
    {
      "cell_type": "markdown",
      "metadata": {
        "id": "sLZJpCQA2Nem"
      },
      "source": [
        "### **1.2.** Piętro (częściowo numeryczne na numeryczne)"
      ]
    },
    {
      "cell_type": "code",
      "metadata": {
        "colab": {
          "base_uri": "https://localhost:8080/"
        },
        "id": "uRLRe98H2xC6",
        "outputId": "73459a25-6680-44a5-a646-e5651b31664f"
      },
      "source": [
        "df['Piętro'].unique()"
      ],
      "execution_count": 10,
      "outputs": [
        {
          "output_type": "execute_result",
          "data": {
            "text/plain": [
              "array([' parter', ' 2', ' 5', ' 12', ' 1', ' 3', nan, ' 8', ' 4', ' 16',\n",
              "       ' 7', ' 6', ' poddasze', ' 9', ' 11', ' 13', ' 14', ' 10', ' 15',\n",
              "       ' niski parter'], dtype=object)"
            ]
          },
          "metadata": {
            "tags": []
          },
          "execution_count": 10
        }
      ]
    },
    {
      "cell_type": "code",
      "metadata": {
        "id": "qYy0qiY0yFgj"
      },
      "source": [
        "df['Piętro'] = df['Piętro'].apply(lambda x: 0 if x in [' parter', ' niski parter'] else x)"
      ],
      "execution_count": 11,
      "outputs": []
    },
    {
      "cell_type": "code",
      "metadata": {
        "id": "kjMMTySRnMYw"
      },
      "source": [
        "df.drop(df[df['Piętro'] == ' poddasze'].index, inplace=True)"
      ],
      "execution_count": 12,
      "outputs": []
    },
    {
      "cell_type": "code",
      "metadata": {
        "id": "0nfp_aZHyFd_"
      },
      "source": [
        "df['Piętro'] = df['Piętro'].apply(pd.to_numeric, errors='coerce')"
      ],
      "execution_count": 13,
      "outputs": []
    },
    {
      "cell_type": "code",
      "metadata": {
        "colab": {
          "base_uri": "https://localhost:8080/"
        },
        "id": "9b6Tlmw_3J6Y",
        "outputId": "3ef3155b-bb9c-4801-83f4-411f6628eef1"
      },
      "source": [
        "df['Piętro'].unique()"
      ],
      "execution_count": 14,
      "outputs": [
        {
          "output_type": "execute_result",
          "data": {
            "text/plain": [
              "array([ 0.,  2.,  5., 12.,  1.,  3., nan,  8.,  4., 16.,  7.,  6.,  9.,\n",
              "       11., 13., 14., 10., 15.])"
            ]
          },
          "metadata": {
            "tags": []
          },
          "execution_count": 14
        }
      ]
    },
    {
      "cell_type": "code",
      "metadata": {
        "colab": {
          "base_uri": "https://localhost:8080/"
        },
        "id": "4ut-8Hk1nCMP",
        "outputId": "f623ee52-504b-4bfd-c099-83cd0f16178b"
      },
      "source": [
        "df['Piętro'].value_counts()"
      ],
      "execution_count": 15,
      "outputs": [
        {
          "output_type": "execute_result",
          "data": {
            "text/plain": [
              "1.0     897\n",
              "0.0     834\n",
              "2.0     719\n",
              "3.0     669\n",
              "4.0     549\n",
              "5.0     260\n",
              "7.0      78\n",
              "8.0      63\n",
              "9.0      59\n",
              "6.0      55\n",
              "11.0     39\n",
              "12.0     35\n",
              "10.0     32\n",
              "14.0     25\n",
              "13.0     25\n",
              "16.0     11\n",
              "15.0      4\n",
              "Name: Piętro, dtype: int64"
            ]
          },
          "metadata": {
            "tags": []
          },
          "execution_count": 15
        }
      ]
    },
    {
      "cell_type": "code",
      "metadata": {
        "colab": {
          "base_uri": "https://localhost:8080/",
          "height": 400
        },
        "id": "62ZLSZ5tyFca",
        "outputId": "1358f613-8916-4841-c3af-ee855d57a91b"
      },
      "source": [
        "plt.figure(figsize=(50,50))\n",
        "sns.catplot(x='Piętro',y='cena', data=df)\n",
        "plt.show()"
      ],
      "execution_count": 16,
      "outputs": [
        {
          "output_type": "display_data",
          "data": {
            "text/plain": [
              "<Figure size 3600x3600 with 0 Axes>"
            ]
          },
          "metadata": {
            "tags": []
          }
        },
        {
          "output_type": "display_data",
          "data": {
            "image/png": "[encoded data removed]",
            "text/plain": [
              "<Figure size 360x360 with 1 Axes>"
            ]
          },
          "metadata": {
            "tags": [],
            "needs_background": "light"
          }
        }
      ]
    },
    {
      "cell_type": "markdown",
      "metadata": {
        "id": "1B-xMlcF32kQ"
      },
      "source": [
        "### **1.3.** Materiał budynku (Kategotyczny na numeryczne)"
      ]
    },
    {
      "cell_type": "code",
      "metadata": {
        "colab": {
          "base_uri": "https://localhost:8080/"
        },
        "id": "jUe_70FqyFYy",
        "outputId": "f1e8a4ed-70b6-406f-b2c4-dcc62b1960f8"
      },
      "source": [
        "df['Materiał budynku'].unique()"
      ],
      "execution_count": 17,
      "outputs": [
        {
          "output_type": "execute_result",
          "data": {
            "text/plain": [
              "array([' cegła', ' płyta', nan, ' silikat', ' pustak', ' inne', ' beton',\n",
              "       ' drewno', ' kamień'], dtype=object)"
            ]
          },
          "metadata": {
            "tags": []
          },
          "execution_count": 17
        }
      ]
    },
    {
      "cell_type": "code",
      "metadata": {
        "id": "7vkUdsHcyFWG"
      },
      "source": [
        "material_dic = {\n",
        "    \" cegła\":0,\n",
        "    \" płyta\":1,\n",
        "    \" silikat\":2,\n",
        "    \" pustak\":3,\n",
        "    \" inne\":4,\n",
        "    \" beton\":5,\n",
        "    \" drewno\":6,\n",
        "    \" kamień\":7\n",
        "    #8 to nan\n",
        "}"
      ],
      "execution_count": 18,
      "outputs": []
    },
    {
      "cell_type": "code",
      "metadata": {
        "id": "2hrhHXQV4Q7R"
      },
      "source": [
        "df['Materiał budynku'] = df['Materiał budynku'].map(material_dic)  "
      ],
      "execution_count": 19,
      "outputs": []
    },
    {
      "cell_type": "code",
      "metadata": {
        "id": "7shZL4RgEvpy"
      },
      "source": [
        "df['Materiał budynku'] = df['Materiał budynku'].apply(lambda x: 8 if pd.isnull(x) else x)"
      ],
      "execution_count": 20,
      "outputs": []
    },
    {
      "cell_type": "code",
      "metadata": {
        "colab": {
          "base_uri": "https://localhost:8080/",
          "height": 400
        },
        "id": "Sm7PFeIY4Q4t",
        "outputId": "78b2a005-87f4-4795-bfbc-1572fe931314"
      },
      "source": [
        "plt.figure(figsize=(20,6))\n",
        "sns.catplot(x='Materiał budynku',y='cena', data=df )\n",
        "plt.show()"
      ],
      "execution_count": 21,
      "outputs": [
        {
          "output_type": "display_data",
          "data": {
            "text/plain": [
              "<Figure size 1440x432 with 0 Axes>"
            ]
          },
          "metadata": {
            "tags": []
          }
        },
        {
          "output_type": "display_data",
          "data": {
            "image/png": "[encoded data removed]",
            "text/plain": [
              "<Figure size 360x360 with 1 Axes>"
            ]
          },
          "metadata": {
            "tags": [],
            "needs_background": "light"
          }
        }
      ]
    },
    {
      "cell_type": "markdown",
      "metadata": {
        "id": "R-s5e5BB5CYs"
      },
      "source": [
        "### **1.4.** Heatmap"
      ]
    },
    {
      "cell_type": "code",
      "metadata": {
        "colab": {
          "base_uri": "https://localhost:8080/",
          "height": 499
        },
        "id": "lZCoiZ7j4Qzi",
        "outputId": "e5b7bf0d-1a8b-4565-9e80-35bcac726727"
      },
      "source": [
        "plt.figure(figsize=(10,6))\n",
        "sns.heatmap(df.corr(),annot=True)\n",
        "plt.show()"
      ],
      "execution_count": 22,
      "outputs": [
        {
          "output_type": "display_data",
          "data": {
            "image/png": "[encoded data removed]",
            "text/plain": [
              "<Figure size 720x432 with 2 Axes>"
            ]
          },
          "metadata": {
            "tags": [],
            "needs_background": "light"
          }
        }
      ]
    },
    {
      "cell_type": "markdown",
      "metadata": {
        "id": "rpW_iJQn5Y0e"
      },
      "source": [
        "# **2.** Model v.1 (Przed poprawą)\n",
        "\n",
        "---"
      ]
    },
    {
      "cell_type": "markdown",
      "metadata": {
        "id": "QC_DHDOtvVMa"
      },
      "source": [
        "### **2.1** Train/Test"
      ]
    },
    {
      "cell_type": "code",
      "metadata": {
        "id": "6epdC8hvoCK6"
      },
      "source": [
        "model_df = df.loc[:, ['cena', 'Powierzchnia w m2', 'Liczba pokoi', 'Miejsce parkingowe', 'Liczba pięter w budynku', 'Piętro', 'Materiał budynku']]\n",
        "model_df = model_df.dropna()\n",
        "\n",
        "model_df[\"cena\"]=((model_df[\"cena\"]-model_df[\"cena\"].min())/(model_df[\"cena\"].max()-model_df[\"cena\"].min()))*100\n",
        "\n",
        "y = model_df.cena\n",
        "x = model_df.loc[:, ['Powierzchnia w m2', 'Liczba pokoi', 'Miejsce parkingowe', 'Liczba pięter w budynku', 'Piętro', 'Materiał budynku']]\n",
        "\n",
        "x_train, x_test, y_train, y_test = train_test_split(x,y , test_size=0.2,train_size=0.8, random_state=5)"
      ],
      "execution_count": 23,
      "outputs": []
    },
    {
      "cell_type": "code",
      "metadata": {
        "colab": {
          "base_uri": "https://localhost:8080/",
          "height": 419
        },
        "id": "ea0K0xT7EM16",
        "outputId": "bf5db748-e678-4c2f-81ba-62469d9cb5da"
      },
      "source": [
        "x"
      ],
      "execution_count": 24,
      "outputs": [
        {
          "output_type": "execute_result",
          "data": {
            "text/html": [
              "<div>\n",
              "<style scoped>\n",
              "    .dataframe tbody tr th:only-of-type {\n",
              "        vertical-align: middle;\n",
              "    }\n",
              "\n",
              "    .dataframe tbody tr th {\n",
              "        vertical-align: top;\n",
              "    }\n",
              "\n",
              "    .dataframe thead th {\n",
              "        text-align: right;\n",
              "    }\n",
              "</style>\n",
              "<table border=\"1\" class=\"dataframe\">\n",
              "  <thead>\n",
              "    <tr style=\"text-align: right;\">\n",
              "      <th></th>\n",
              "      <th>Powierzchnia w m2</th>\n",
              "      <th>Liczba pokoi</th>\n",
              "      <th>Miejsce parkingowe</th>\n",
              "      <th>Liczba pięter w budynku</th>\n",
              "      <th>Piętro</th>\n",
              "      <th>Materiał budynku</th>\n",
              "    </tr>\n",
              "  </thead>\n",
              "  <tbody>\n",
              "    <tr>\n",
              "      <th>0</th>\n",
              "      <td>46</td>\n",
              "      <td>2</td>\n",
              "      <td>0</td>\n",
              "      <td>5.0</td>\n",
              "      <td>0.0</td>\n",
              "      <td>0.0</td>\n",
              "    </tr>\n",
              "    <tr>\n",
              "      <th>1</th>\n",
              "      <td>59</td>\n",
              "      <td>2</td>\n",
              "      <td>0</td>\n",
              "      <td>3.0</td>\n",
              "      <td>2.0</td>\n",
              "      <td>0.0</td>\n",
              "    </tr>\n",
              "    <tr>\n",
              "      <th>2</th>\n",
              "      <td>79</td>\n",
              "      <td>3</td>\n",
              "      <td>0</td>\n",
              "      <td>16.0</td>\n",
              "      <td>5.0</td>\n",
              "      <td>1.0</td>\n",
              "    </tr>\n",
              "    <tr>\n",
              "      <th>3</th>\n",
              "      <td>63</td>\n",
              "      <td>3</td>\n",
              "      <td>4</td>\n",
              "      <td>2.0</td>\n",
              "      <td>2.0</td>\n",
              "      <td>0.0</td>\n",
              "    </tr>\n",
              "    <tr>\n",
              "      <th>4</th>\n",
              "      <td>59</td>\n",
              "      <td>3</td>\n",
              "      <td>0</td>\n",
              "      <td>13.0</td>\n",
              "      <td>12.0</td>\n",
              "      <td>8.0</td>\n",
              "    </tr>\n",
              "    <tr>\n",
              "      <th>...</th>\n",
              "      <td>...</td>\n",
              "      <td>...</td>\n",
              "      <td>...</td>\n",
              "      <td>...</td>\n",
              "      <td>...</td>\n",
              "      <td>...</td>\n",
              "    </tr>\n",
              "    <tr>\n",
              "      <th>4932</th>\n",
              "      <td>73</td>\n",
              "      <td>3</td>\n",
              "      <td>4</td>\n",
              "      <td>3.0</td>\n",
              "      <td>2.0</td>\n",
              "      <td>0.0</td>\n",
              "    </tr>\n",
              "    <tr>\n",
              "      <th>4933</th>\n",
              "      <td>97</td>\n",
              "      <td>4</td>\n",
              "      <td>0</td>\n",
              "      <td>4.0</td>\n",
              "      <td>4.0</td>\n",
              "      <td>8.0</td>\n",
              "    </tr>\n",
              "    <tr>\n",
              "      <th>4934</th>\n",
              "      <td>48</td>\n",
              "      <td>2</td>\n",
              "      <td>4</td>\n",
              "      <td>4.0</td>\n",
              "      <td>3.0</td>\n",
              "      <td>8.0</td>\n",
              "    </tr>\n",
              "    <tr>\n",
              "      <th>4935</th>\n",
              "      <td>67</td>\n",
              "      <td>3</td>\n",
              "      <td>4</td>\n",
              "      <td>2.0</td>\n",
              "      <td>0.0</td>\n",
              "      <td>8.0</td>\n",
              "    </tr>\n",
              "    <tr>\n",
              "      <th>4937</th>\n",
              "      <td>36</td>\n",
              "      <td>2</td>\n",
              "      <td>0</td>\n",
              "      <td>2.0</td>\n",
              "      <td>2.0</td>\n",
              "      <td>0.0</td>\n",
              "    </tr>\n",
              "  </tbody>\n",
              "</table>\n",
              "<p>4243 rows × 6 columns</p>\n",
              "</div>"
            ],
            "text/plain": [
              "      Powierzchnia w m2  Liczba pokoi  ...  Piętro  Materiał budynku\n",
              "0                    46             2  ...     0.0               0.0\n",
              "1                    59             2  ...     2.0               0.0\n",
              "2                    79             3  ...     5.0               1.0\n",
              "3                    63             3  ...     2.0               0.0\n",
              "4                    59             3  ...    12.0               8.0\n",
              "...                 ...           ...  ...     ...               ...\n",
              "4932                 73             3  ...     2.0               0.0\n",
              "4933                 97             4  ...     4.0               8.0\n",
              "4934                 48             2  ...     3.0               8.0\n",
              "4935                 67             3  ...     0.0               8.0\n",
              "4937                 36             2  ...     2.0               0.0\n",
              "\n",
              "[4243 rows x 6 columns]"
            ]
          },
          "metadata": {
            "tags": []
          },
          "execution_count": 24
        }
      ]
    },
    {
      "cell_type": "markdown",
      "metadata": {
        "id": "6bGaw208CKqB"
      },
      "source": [
        "### **2.2** Trening i Score"
      ]
    },
    {
      "cell_type": "code",
      "metadata": {
        "id": "rbUxd0-9COHQ",
        "colab": {
          "base_uri": "https://localhost:8080/"
        },
        "outputId": "b56beef2-6a71-4980-8fb8-44e830a87cd4"
      },
      "source": [
        "linReg = LinearRegression()\n",
        "linReg.fit(x_train, y_train)\n",
        "\n",
        "score = linReg.score(x_test, y_test)\n",
        "print(score)"
      ],
      "execution_count": 25,
      "outputs": [
        {
          "output_type": "stream",
          "text": [
            "0.6086811135557098\n"
          ],
          "name": "stdout"
        }
      ]
    },
    {
      "cell_type": "markdown",
      "metadata": {
        "id": "kJ2REJEIpZ-4"
      },
      "source": [
        "### **2.3.** Predykcje a realne wyniki"
      ]
    },
    {
      "cell_type": "code",
      "metadata": {
        "id": "fbAAkbrNooDa"
      },
      "source": [
        "y_pred = linReg.predict(x_test)"
      ],
      "execution_count": 26,
      "outputs": []
    },
    {
      "cell_type": "code",
      "metadata": {
        "colab": {
          "base_uri": "https://localhost:8080/",
          "height": 419
        },
        "id": "KiyFxIhXpdNK",
        "outputId": "7679de65-a419-4769-a909-355591b11f45"
      },
      "source": [
        "test_df = pd.DataFrame({'Actual': y_test, 'Predicted': y_pred}) #Porównanie wartości prawidłowych z przewidzianymi\n",
        "test_df"
      ],
      "execution_count": 27,
      "outputs": [
        {
          "output_type": "execute_result",
          "data": {
            "text/html": [
              "<div>\n",
              "<style scoped>\n",
              "    .dataframe tbody tr th:only-of-type {\n",
              "        vertical-align: middle;\n",
              "    }\n",
              "\n",
              "    .dataframe tbody tr th {\n",
              "        vertical-align: top;\n",
              "    }\n",
              "\n",
              "    .dataframe thead th {\n",
              "        text-align: right;\n",
              "    }\n",
              "</style>\n",
              "<table border=\"1\" class=\"dataframe\">\n",
              "  <thead>\n",
              "    <tr style=\"text-align: right;\">\n",
              "      <th></th>\n",
              "      <th>Actual</th>\n",
              "      <th>Predicted</th>\n",
              "    </tr>\n",
              "  </thead>\n",
              "  <tbody>\n",
              "    <tr>\n",
              "      <th>171</th>\n",
              "      <td>11.798664</td>\n",
              "      <td>14.644920</td>\n",
              "    </tr>\n",
              "    <tr>\n",
              "      <th>3654</th>\n",
              "      <td>9.410839</td>\n",
              "      <td>7.178426</td>\n",
              "    </tr>\n",
              "    <tr>\n",
              "      <th>2560</th>\n",
              "      <td>12.167625</td>\n",
              "      <td>13.056079</td>\n",
              "    </tr>\n",
              "    <tr>\n",
              "      <th>691</th>\n",
              "      <td>6.996271</td>\n",
              "      <td>6.584548</td>\n",
              "    </tr>\n",
              "    <tr>\n",
              "      <th>4866</th>\n",
              "      <td>9.804128</td>\n",
              "      <td>9.451019</td>\n",
              "    </tr>\n",
              "    <tr>\n",
              "      <th>...</th>\n",
              "      <td>...</td>\n",
              "      <td>...</td>\n",
              "    </tr>\n",
              "    <tr>\n",
              "      <th>424</th>\n",
              "      <td>8.422336</td>\n",
              "      <td>10.414732</td>\n",
              "    </tr>\n",
              "    <tr>\n",
              "      <th>557</th>\n",
              "      <td>24.292972</td>\n",
              "      <td>14.473285</td>\n",
              "    </tr>\n",
              "    <tr>\n",
              "      <th>4552</th>\n",
              "      <td>7.706887</td>\n",
              "      <td>9.492327</td>\n",
              "    </tr>\n",
              "    <tr>\n",
              "      <th>3730</th>\n",
              "      <td>20.563386</td>\n",
              "      <td>12.782577</td>\n",
              "    </tr>\n",
              "    <tr>\n",
              "      <th>4114</th>\n",
              "      <td>7.697224</td>\n",
              "      <td>10.381681</td>\n",
              "    </tr>\n",
              "  </tbody>\n",
              "</table>\n",
              "<p>849 rows × 2 columns</p>\n",
              "</div>"
            ],
            "text/plain": [
              "         Actual  Predicted\n",
              "171   11.798664  14.644920\n",
              "3654   9.410839   7.178426\n",
              "2560  12.167625  13.056079\n",
              "691    6.996271   6.584548\n",
              "4866   9.804128   9.451019\n",
              "...         ...        ...\n",
              "424    8.422336  10.414732\n",
              "557   24.292972  14.473285\n",
              "4552   7.706887   9.492327\n",
              "3730  20.563386  12.782577\n",
              "4114   7.697224  10.381681\n",
              "\n",
              "[849 rows x 2 columns]"
            ]
          },
          "metadata": {
            "tags": []
          },
          "execution_count": 27
        }
      ]
    },
    {
      "cell_type": "markdown",
      "metadata": {
        "id": "tFiSNtnu3WPD"
      },
      "source": [
        "### **2.4.** MSE"
      ]
    },
    {
      "cell_type": "code",
      "metadata": {
        "colab": {
          "base_uri": "https://localhost:8080/"
        },
        "id": "XuLLVg2GpkOa",
        "outputId": "9793e459-c626-4ca7-edc9-febbaa49adc9"
      },
      "source": [
        "mn = mean_squared_error(y_test, y_pred)\n",
        "print(mn)"
      ],
      "execution_count": 28,
      "outputs": [
        {
          "output_type": "stream",
          "text": [
            "8.650050250399445\n"
          ],
          "name": "stdout"
        }
      ]
    },
    {
      "cell_type": "markdown",
      "metadata": {
        "id": "-xjbfD2OqopF"
      },
      "source": [
        "# **3.** Model v.2 (Usunięcie odstających danych)\n",
        "\n",
        "---"
      ]
    },
    {
      "cell_type": "markdown",
      "metadata": {
        "id": "Id8-D6DR3i_w"
      },
      "source": [
        "### **3.1.** Usunięcie danych odstających"
      ]
    },
    {
      "cell_type": "code",
      "metadata": {
        "id": "elmsEaycrVdS"
      },
      "source": [
        "df.drop(df[df['Materiał budynku'] == 4].index, inplace=True)\n",
        "df.drop(df[df['Materiał budynku'] == 6].index, inplace=True)\n",
        "df.drop(df[df['Materiał budynku'] == 7].index, inplace=True)\n",
        "df.drop(df[df['Miejsce parkingowe'] == 3].index, inplace=True)"
      ],
      "execution_count": 29,
      "outputs": []
    },
    {
      "cell_type": "markdown",
      "metadata": {
        "id": "eqlfGS2Pshre"
      },
      "source": [
        "### **3.2.** Badanie powierzchni i ceny "
      ]
    },
    {
      "cell_type": "code",
      "metadata": {
        "colab": {
          "base_uri": "https://localhost:8080/",
          "height": 290
        },
        "id": "n4HbB4_irgkC",
        "outputId": "eed36ae5-1162-4f41-a491-c00a052e22f7"
      },
      "source": [
        "plt.figure(figsize=(14,4))\n",
        "sns.scatterplot(x=df['Powierzchnia w m2'], y=df['cena']);"
      ],
      "execution_count": 30,
      "outputs": [
        {
          "output_type": "display_data",
          "data": {
            "image/png": "[encoded data removed]",
            "text/plain": [
              "<Figure size 1008x288 with 1 Axes>"
            ]
          },
          "metadata": {
            "tags": [],
            "needs_background": "light"
          }
        }
      ]
    },
    {
      "cell_type": "code",
      "metadata": {
        "colab": {
          "base_uri": "https://localhost:8080/",
          "height": 612
        },
        "id": "hmz_tmIlrlRS",
        "outputId": "aa1ce75c-c791-45fe-87e5-84a72a95937a"
      },
      "source": [
        "df[df['Powierzchnia w m2']>=750]"
      ],
      "execution_count": 33,
      "outputs": [
        {
          "output_type": "execute_result",
          "data": {
            "text/html": [
              "<div>\n",
              "<style scoped>\n",
              "    .dataframe tbody tr th:only-of-type {\n",
              "        vertical-align: middle;\n",
              "    }\n",
              "\n",
              "    .dataframe tbody tr th {\n",
              "        vertical-align: top;\n",
              "    }\n",
              "\n",
              "    .dataframe thead th {\n",
              "        text-align: right;\n",
              "    }\n",
              "</style>\n",
              "<table border=\"1\" class=\"dataframe\">\n",
              "  <thead>\n",
              "    <tr style=\"text-align: right;\">\n",
              "      <th></th>\n",
              "      <th>cena</th>\n",
              "      <th>Powierzchnia w m2</th>\n",
              "      <th>Liczba pokoi</th>\n",
              "      <th>Miejsce parkingowe</th>\n",
              "      <th>Liczba pięter w budynku</th>\n",
              "      <th>Piętro</th>\n",
              "      <th>Typ zabudowy</th>\n",
              "      <th>Okna</th>\n",
              "      <th>Materiał budynku</th>\n",
              "      <th>Rok budowy</th>\n",
              "      <th>Forma własności</th>\n",
              "      <th>Forma kuchni</th>\n",
              "      <th>Stan</th>\n",
              "      <th>Stan instalacji</th>\n",
              "      <th>Głośność</th>\n",
              "      <th>Droga dojazdowa</th>\n",
              "      <th>Stan łazienki</th>\n",
              "      <th>Powierzchnia działki w m2</th>\n",
              "      <th>opis</th>\n",
              "    </tr>\n",
              "  </thead>\n",
              "  <tbody>\n",
              "    <tr>\n",
              "      <th>840</th>\n",
              "      <td>1600000</td>\n",
              "      <td>1200</td>\n",
              "      <td>6</td>\n",
              "      <td>0</td>\n",
              "      <td>3.0</td>\n",
              "      <td>NaN</td>\n",
              "      <td>NaN</td>\n",
              "      <td>NaN</td>\n",
              "      <td>0.0</td>\n",
              "      <td>2003.0</td>\n",
              "      <td>NaN</td>\n",
              "      <td>NaN</td>\n",
              "      <td>NaN</td>\n",
              "      <td>NaN</td>\n",
              "      <td>NaN</td>\n",
              "      <td>NaN</td>\n",
              "      <td>NaN</td>\n",
              "      <td>1200.0</td>\n",
              "      <td>Do sprzedaży luksusowy dom położony w Szczepa...</td>\n",
              "    </tr>\n",
              "    <tr>\n",
              "      <th>1123</th>\n",
              "      <td>4600000</td>\n",
              "      <td>855</td>\n",
              "      <td>5</td>\n",
              "      <td>0</td>\n",
              "      <td>2.0</td>\n",
              "      <td>NaN</td>\n",
              "      <td>NaN</td>\n",
              "      <td>NaN</td>\n",
              "      <td>8.0</td>\n",
              "      <td>1950.0</td>\n",
              "      <td>NaN</td>\n",
              "      <td>NaN</td>\n",
              "      <td>NaN</td>\n",
              "      <td>NaN</td>\n",
              "      <td>NaN</td>\n",
              "      <td>asfaltowa</td>\n",
              "      <td>NaN</td>\n",
              "      <td>855.0</td>\n",
              "      <td>Do sprzedaży dom wolnostojacy o pow. całkowit...</td>\n",
              "    </tr>\n",
              "    <tr>\n",
              "      <th>2192</th>\n",
              "      <td>4500000</td>\n",
              "      <td>1100</td>\n",
              "      <td>6</td>\n",
              "      <td>4</td>\n",
              "      <td>1.0</td>\n",
              "      <td>NaN</td>\n",
              "      <td>NaN</td>\n",
              "      <td>NaN</td>\n",
              "      <td>0.0</td>\n",
              "      <td>2002.0</td>\n",
              "      <td>NaN</td>\n",
              "      <td>NaN</td>\n",
              "      <td>NaN</td>\n",
              "      <td>NaN</td>\n",
              "      <td>NaN</td>\n",
              "      <td>asfaltowa</td>\n",
              "      <td>NaN</td>\n",
              "      <td>6325.0</td>\n",
              "      <td>|  Reprezentacyjna rezydencja o pow. blisko 1...</td>\n",
              "    </tr>\n",
              "    <tr>\n",
              "      <th>2680</th>\n",
              "      <td>4499999</td>\n",
              "      <td>1100</td>\n",
              "      <td>6</td>\n",
              "      <td>4</td>\n",
              "      <td>1.0</td>\n",
              "      <td>NaN</td>\n",
              "      <td>NaN</td>\n",
              "      <td>NaN</td>\n",
              "      <td>0.0</td>\n",
              "      <td>2002.0</td>\n",
              "      <td>NaN</td>\n",
              "      <td>NaN</td>\n",
              "      <td>NaN</td>\n",
              "      <td>NaN</td>\n",
              "      <td>NaN</td>\n",
              "      <td>utwardzana</td>\n",
              "      <td>NaN</td>\n",
              "      <td>6300.0</td>\n",
              "      <td>Oferujemy do sprzedaży reprezentacyjną rezyde...</td>\n",
              "    </tr>\n",
              "    <tr>\n",
              "      <th>3113</th>\n",
              "      <td>3000000</td>\n",
              "      <td>11930</td>\n",
              "      <td>4</td>\n",
              "      <td>0</td>\n",
              "      <td>3.0</td>\n",
              "      <td>NaN</td>\n",
              "      <td>NaN</td>\n",
              "      <td>NaN</td>\n",
              "      <td>0.0</td>\n",
              "      <td>2001.0</td>\n",
              "      <td>NaN</td>\n",
              "      <td>NaN</td>\n",
              "      <td>NaN</td>\n",
              "      <td>NaN</td>\n",
              "      <td>NaN</td>\n",
              "      <td>utwardzana</td>\n",
              "      <td>NaN</td>\n",
              "      <td>11930.0</td>\n",
              "      <td>W naszej ofercie nietypowa nieruchomość na sk...</td>\n",
              "    </tr>\n",
              "    <tr>\n",
              "      <th>4085</th>\n",
              "      <td>798000</td>\n",
              "      <td>800</td>\n",
              "      <td>7</td>\n",
              "      <td>0</td>\n",
              "      <td>2.0</td>\n",
              "      <td>NaN</td>\n",
              "      <td>NaN</td>\n",
              "      <td>NaN</td>\n",
              "      <td>8.0</td>\n",
              "      <td>NaN</td>\n",
              "      <td>NaN</td>\n",
              "      <td>NaN</td>\n",
              "      <td>NaN</td>\n",
              "      <td>NaN</td>\n",
              "      <td>NaN</td>\n",
              "      <td>NaN</td>\n",
              "      <td>NaN</td>\n",
              "      <td>300000.0</td>\n",
              "      <td>W ofercie sprzedaży dworek/pałacyk w Wielkopo...</td>\n",
              "    </tr>\n",
              "  </tbody>\n",
              "</table>\n",
              "</div>"
            ],
            "text/plain": [
              "         cena  ...                                               opis\n",
              "840   1600000  ...   Do sprzedaży luksusowy dom położony w Szczepa...\n",
              "1123  4600000  ...   Do sprzedaży dom wolnostojacy o pow. całkowit...\n",
              "2192  4500000  ...   |  Reprezentacyjna rezydencja o pow. blisko 1...\n",
              "2680  4499999  ...   Oferujemy do sprzedaży reprezentacyjną rezyde...\n",
              "3113  3000000  ...   W naszej ofercie nietypowa nieruchomość na sk...\n",
              "4085   798000  ...   W ofercie sprzedaży dworek/pałacyk w Wielkopo...\n",
              "\n",
              "[6 rows x 19 columns]"
            ]
          },
          "metadata": {
            "tags": []
          },
          "execution_count": 33
        }
      ]
    },
    {
      "cell_type": "code",
      "metadata": {
        "id": "Z1SjDhuRsooX"
      },
      "source": [
        "df.drop(df[df['Powierzchnia w m2'] >=750].index, inplace=True)"
      ],
      "execution_count": 34,
      "outputs": []
    },
    {
      "cell_type": "code",
      "metadata": {
        "colab": {
          "base_uri": "https://localhost:8080/",
          "height": 581
        },
        "id": "7PmszFWlsM1b",
        "outputId": "3fd3c5a4-03c3-4143-fb7f-f80cbac68c53"
      },
      "source": [
        "df[df['cena']>=2500000]"
      ],
      "execution_count": 35,
      "outputs": [
        {
          "output_type": "execute_result",
          "data": {
            "text/html": [
              "<div>\n",
              "<style scoped>\n",
              "    .dataframe tbody tr th:only-of-type {\n",
              "        vertical-align: middle;\n",
              "    }\n",
              "\n",
              "    .dataframe tbody tr th {\n",
              "        vertical-align: top;\n",
              "    }\n",
              "\n",
              "    .dataframe thead th {\n",
              "        text-align: right;\n",
              "    }\n",
              "</style>\n",
              "<table border=\"1\" class=\"dataframe\">\n",
              "  <thead>\n",
              "    <tr style=\"text-align: right;\">\n",
              "      <th></th>\n",
              "      <th>cena</th>\n",
              "      <th>Powierzchnia w m2</th>\n",
              "      <th>Liczba pokoi</th>\n",
              "      <th>Miejsce parkingowe</th>\n",
              "      <th>Liczba pięter w budynku</th>\n",
              "      <th>Piętro</th>\n",
              "      <th>Typ zabudowy</th>\n",
              "      <th>Okna</th>\n",
              "      <th>Materiał budynku</th>\n",
              "      <th>Rok budowy</th>\n",
              "      <th>Forma własności</th>\n",
              "      <th>Forma kuchni</th>\n",
              "      <th>Stan</th>\n",
              "      <th>Stan instalacji</th>\n",
              "      <th>Głośność</th>\n",
              "      <th>Droga dojazdowa</th>\n",
              "      <th>Stan łazienki</th>\n",
              "      <th>Powierzchnia działki w m2</th>\n",
              "      <th>opis</th>\n",
              "    </tr>\n",
              "  </thead>\n",
              "  <tbody>\n",
              "    <tr>\n",
              "      <th>650</th>\n",
              "      <td>3700000</td>\n",
              "      <td>240</td>\n",
              "      <td>7</td>\n",
              "      <td>0</td>\n",
              "      <td>2.0</td>\n",
              "      <td>NaN</td>\n",
              "      <td>NaN</td>\n",
              "      <td>NaN</td>\n",
              "      <td>8.0</td>\n",
              "      <td>NaN</td>\n",
              "      <td>NaN</td>\n",
              "      <td>NaN</td>\n",
              "      <td>do remontu</td>\n",
              "      <td>NaN</td>\n",
              "      <td>NaN</td>\n",
              "      <td>NaN</td>\n",
              "      <td>NaN</td>\n",
              "      <td>740.0</td>\n",
              "      <td>|  Na sprzedaż dom z cegły z 1933 r. wraz z d...</td>\n",
              "    </tr>\n",
              "    <tr>\n",
              "      <th>813</th>\n",
              "      <td>2700000</td>\n",
              "      <td>510</td>\n",
              "      <td>1</td>\n",
              "      <td>0</td>\n",
              "      <td>4.0</td>\n",
              "      <td>NaN</td>\n",
              "      <td>NaN</td>\n",
              "      <td>NaN</td>\n",
              "      <td>0.0</td>\n",
              "      <td>1900.0</td>\n",
              "      <td>NaN</td>\n",
              "      <td>NaN</td>\n",
              "      <td>NaN</td>\n",
              "      <td>NaN</td>\n",
              "      <td>NaN</td>\n",
              "      <td>utwardzana</td>\n",
              "      <td>NaN</td>\n",
              "      <td>510.0</td>\n",
              "      <td>Historyczna kamienica przy Starym Rynku z wid...</td>\n",
              "    </tr>\n",
              "    <tr>\n",
              "      <th>1416</th>\n",
              "      <td>3559725</td>\n",
              "      <td>60</td>\n",
              "      <td>3</td>\n",
              "      <td>4</td>\n",
              "      <td>4.0</td>\n",
              "      <td>4.0</td>\n",
              "      <td>blok</td>\n",
              "      <td>plastikowe/PCV</td>\n",
              "      <td>2.0</td>\n",
              "      <td>NaN</td>\n",
              "      <td>własność</td>\n",
              "      <td>w aneksie</td>\n",
              "      <td>NaN</td>\n",
              "      <td>NaN</td>\n",
              "      <td>NaN</td>\n",
              "      <td>NaN</td>\n",
              "      <td>NaN</td>\n",
              "      <td>NaN</td>\n",
              "      <td>Kontynuacja rozbudowy poznańskiego osiedla Re...</td>\n",
              "    </tr>\n",
              "    <tr>\n",
              "      <th>1940</th>\n",
              "      <td>3500000</td>\n",
              "      <td>346</td>\n",
              "      <td>4</td>\n",
              "      <td>0</td>\n",
              "      <td>2.0</td>\n",
              "      <td>NaN</td>\n",
              "      <td>NaN</td>\n",
              "      <td>NaN</td>\n",
              "      <td>0.0</td>\n",
              "      <td>2002.0</td>\n",
              "      <td>NaN</td>\n",
              "      <td>NaN</td>\n",
              "      <td>NaN</td>\n",
              "      <td>NaN</td>\n",
              "      <td>NaN</td>\n",
              "      <td>asfaltowa</td>\n",
              "      <td>NaN</td>\n",
              "      <td>1660.0</td>\n",
              "      <td>OBIEKT HANDLOWY + DOMLUB DZIAŁKA POD BIUROWIE...</td>\n",
              "    </tr>\n",
              "    <tr>\n",
              "      <th>4231</th>\n",
              "      <td>2650000</td>\n",
              "      <td>650</td>\n",
              "      <td>8</td>\n",
              "      <td>0</td>\n",
              "      <td>2.0</td>\n",
              "      <td>NaN</td>\n",
              "      <td>NaN</td>\n",
              "      <td>NaN</td>\n",
              "      <td>0.0</td>\n",
              "      <td>2010.0</td>\n",
              "      <td>NaN</td>\n",
              "      <td>NaN</td>\n",
              "      <td>NaN</td>\n",
              "      <td>NaN</td>\n",
              "      <td>NaN</td>\n",
              "      <td>asfaltowa</td>\n",
              "      <td>NaN</td>\n",
              "      <td>2600.0</td>\n",
              "      <td>Polecam na sprzedaż wyjątkową nieruchomość po...</td>\n",
              "    </tr>\n",
              "  </tbody>\n",
              "</table>\n",
              "</div>"
            ],
            "text/plain": [
              "         cena  ...                                               opis\n",
              "650   3700000  ...   |  Na sprzedaż dom z cegły z 1933 r. wraz z d...\n",
              "813   2700000  ...   Historyczna kamienica przy Starym Rynku z wid...\n",
              "1416  3559725  ...   Kontynuacja rozbudowy poznańskiego osiedla Re...\n",
              "1940  3500000  ...   OBIEKT HANDLOWY + DOMLUB DZIAŁKA POD BIUROWIE...\n",
              "4231  2650000  ...   Polecam na sprzedaż wyjątkową nieruchomość po...\n",
              "\n",
              "[5 rows x 19 columns]"
            ]
          },
          "metadata": {
            "tags": []
          },
          "execution_count": 35
        }
      ]
    },
    {
      "cell_type": "code",
      "metadata": {
        "id": "DYKvUl8OsUga"
      },
      "source": [
        "df.drop(df[df['cena']>=2500000].index, inplace=True)"
      ],
      "execution_count": 36,
      "outputs": []
    },
    {
      "cell_type": "code",
      "metadata": {
        "colab": {
          "base_uri": "https://localhost:8080/",
          "height": 453
        },
        "id": "3IGFLyPjp7XB",
        "outputId": "7b89a2f8-e4a6-4093-9652-54ee856a7a59"
      },
      "source": [
        "df[df['cena']<=10000]"
      ],
      "execution_count": 37,
      "outputs": [
        {
          "output_type": "execute_result",
          "data": {
            "text/html": [
              "<div>\n",
              "<style scoped>\n",
              "    .dataframe tbody tr th:only-of-type {\n",
              "        vertical-align: middle;\n",
              "    }\n",
              "\n",
              "    .dataframe tbody tr th {\n",
              "        vertical-align: top;\n",
              "    }\n",
              "\n",
              "    .dataframe thead th {\n",
              "        text-align: right;\n",
              "    }\n",
              "</style>\n",
              "<table border=\"1\" class=\"dataframe\">\n",
              "  <thead>\n",
              "    <tr style=\"text-align: right;\">\n",
              "      <th></th>\n",
              "      <th>cena</th>\n",
              "      <th>Powierzchnia w m2</th>\n",
              "      <th>Liczba pokoi</th>\n",
              "      <th>Miejsce parkingowe</th>\n",
              "      <th>Liczba pięter w budynku</th>\n",
              "      <th>Piętro</th>\n",
              "      <th>Typ zabudowy</th>\n",
              "      <th>Okna</th>\n",
              "      <th>Materiał budynku</th>\n",
              "      <th>Rok budowy</th>\n",
              "      <th>Forma własności</th>\n",
              "      <th>Forma kuchni</th>\n",
              "      <th>Stan</th>\n",
              "      <th>Stan instalacji</th>\n",
              "      <th>Głośność</th>\n",
              "      <th>Droga dojazdowa</th>\n",
              "      <th>Stan łazienki</th>\n",
              "      <th>Powierzchnia działki w m2</th>\n",
              "      <th>opis</th>\n",
              "    </tr>\n",
              "  </thead>\n",
              "  <tbody>\n",
              "    <tr>\n",
              "      <th>21</th>\n",
              "      <td>0</td>\n",
              "      <td>33</td>\n",
              "      <td>2</td>\n",
              "      <td>0</td>\n",
              "      <td>5.0</td>\n",
              "      <td>5.0</td>\n",
              "      <td>blok</td>\n",
              "      <td>NaN</td>\n",
              "      <td>8.0</td>\n",
              "      <td>NaN</td>\n",
              "      <td>NaN</td>\n",
              "      <td>NaN</td>\n",
              "      <td>NaN</td>\n",
              "      <td>NaN</td>\n",
              "      <td>NaN</td>\n",
              "      <td>NaN</td>\n",
              "      <td>NaN</td>\n",
              "      <td>NaN</td>\n",
              "      <td>NaN</td>\n",
              "    </tr>\n",
              "    <tr>\n",
              "      <th>60</th>\n",
              "      <td>0</td>\n",
              "      <td>36</td>\n",
              "      <td>2</td>\n",
              "      <td>0</td>\n",
              "      <td>5.0</td>\n",
              "      <td>0.0</td>\n",
              "      <td>blok</td>\n",
              "      <td>NaN</td>\n",
              "      <td>8.0</td>\n",
              "      <td>NaN</td>\n",
              "      <td>NaN</td>\n",
              "      <td>NaN</td>\n",
              "      <td>NaN</td>\n",
              "      <td>NaN</td>\n",
              "      <td>NaN</td>\n",
              "      <td>NaN</td>\n",
              "      <td>NaN</td>\n",
              "      <td>NaN</td>\n",
              "      <td>NaN</td>\n",
              "    </tr>\n",
              "    <tr>\n",
              "      <th>122</th>\n",
              "      <td>0</td>\n",
              "      <td>55</td>\n",
              "      <td>2</td>\n",
              "      <td>0</td>\n",
              "      <td>7.0</td>\n",
              "      <td>1.0</td>\n",
              "      <td>apartamentowiec</td>\n",
              "      <td>NaN</td>\n",
              "      <td>8.0</td>\n",
              "      <td>NaN</td>\n",
              "      <td>NaN</td>\n",
              "      <td>NaN</td>\n",
              "      <td>NaN</td>\n",
              "      <td>NaN</td>\n",
              "      <td>NaN</td>\n",
              "      <td>NaN</td>\n",
              "      <td>NaN</td>\n",
              "      <td>NaN</td>\n",
              "      <td>NaN</td>\n",
              "    </tr>\n",
              "    <tr>\n",
              "      <th>153</th>\n",
              "      <td>0</td>\n",
              "      <td>53</td>\n",
              "      <td>2</td>\n",
              "      <td>0</td>\n",
              "      <td>7.0</td>\n",
              "      <td>5.0</td>\n",
              "      <td>apartamentowiec</td>\n",
              "      <td>NaN</td>\n",
              "      <td>8.0</td>\n",
              "      <td>NaN</td>\n",
              "      <td>NaN</td>\n",
              "      <td>NaN</td>\n",
              "      <td>NaN</td>\n",
              "      <td>NaN</td>\n",
              "      <td>NaN</td>\n",
              "      <td>NaN</td>\n",
              "      <td>NaN</td>\n",
              "      <td>NaN</td>\n",
              "      <td>NaN</td>\n",
              "    </tr>\n",
              "    <tr>\n",
              "      <th>175</th>\n",
              "      <td>0</td>\n",
              "      <td>54</td>\n",
              "      <td>3</td>\n",
              "      <td>0</td>\n",
              "      <td>7.0</td>\n",
              "      <td>6.0</td>\n",
              "      <td>blok</td>\n",
              "      <td>NaN</td>\n",
              "      <td>8.0</td>\n",
              "      <td>NaN</td>\n",
              "      <td>NaN</td>\n",
              "      <td>NaN</td>\n",
              "      <td>NaN</td>\n",
              "      <td>NaN</td>\n",
              "      <td>NaN</td>\n",
              "      <td>NaN</td>\n",
              "      <td>NaN</td>\n",
              "      <td>NaN</td>\n",
              "      <td>NaN</td>\n",
              "    </tr>\n",
              "    <tr>\n",
              "      <th>...</th>\n",
              "      <td>...</td>\n",
              "      <td>...</td>\n",
              "      <td>...</td>\n",
              "      <td>...</td>\n",
              "      <td>...</td>\n",
              "      <td>...</td>\n",
              "      <td>...</td>\n",
              "      <td>...</td>\n",
              "      <td>...</td>\n",
              "      <td>...</td>\n",
              "      <td>...</td>\n",
              "      <td>...</td>\n",
              "      <td>...</td>\n",
              "      <td>...</td>\n",
              "      <td>...</td>\n",
              "      <td>...</td>\n",
              "      <td>...</td>\n",
              "      <td>...</td>\n",
              "      <td>...</td>\n",
              "    </tr>\n",
              "    <tr>\n",
              "      <th>4696</th>\n",
              "      <td>0</td>\n",
              "      <td>33</td>\n",
              "      <td>2</td>\n",
              "      <td>0</td>\n",
              "      <td>5.0</td>\n",
              "      <td>2.0</td>\n",
              "      <td>blok</td>\n",
              "      <td>NaN</td>\n",
              "      <td>8.0</td>\n",
              "      <td>NaN</td>\n",
              "      <td>NaN</td>\n",
              "      <td>NaN</td>\n",
              "      <td>NaN</td>\n",
              "      <td>NaN</td>\n",
              "      <td>NaN</td>\n",
              "      <td>NaN</td>\n",
              "      <td>NaN</td>\n",
              "      <td>NaN</td>\n",
              "      <td>NaN</td>\n",
              "    </tr>\n",
              "    <tr>\n",
              "      <th>4718</th>\n",
              "      <td>0</td>\n",
              "      <td>63</td>\n",
              "      <td>3</td>\n",
              "      <td>0</td>\n",
              "      <td>5.0</td>\n",
              "      <td>3.0</td>\n",
              "      <td>blok</td>\n",
              "      <td>NaN</td>\n",
              "      <td>8.0</td>\n",
              "      <td>NaN</td>\n",
              "      <td>NaN</td>\n",
              "      <td>NaN</td>\n",
              "      <td>NaN</td>\n",
              "      <td>NaN</td>\n",
              "      <td>NaN</td>\n",
              "      <td>NaN</td>\n",
              "      <td>NaN</td>\n",
              "      <td>NaN</td>\n",
              "      <td>NaN</td>\n",
              "    </tr>\n",
              "    <tr>\n",
              "      <th>4728</th>\n",
              "      <td>0</td>\n",
              "      <td>69</td>\n",
              "      <td>3</td>\n",
              "      <td>0</td>\n",
              "      <td>5.0</td>\n",
              "      <td>5.0</td>\n",
              "      <td>blok</td>\n",
              "      <td>NaN</td>\n",
              "      <td>8.0</td>\n",
              "      <td>NaN</td>\n",
              "      <td>NaN</td>\n",
              "      <td>NaN</td>\n",
              "      <td>NaN</td>\n",
              "      <td>NaN</td>\n",
              "      <td>NaN</td>\n",
              "      <td>NaN</td>\n",
              "      <td>NaN</td>\n",
              "      <td>NaN</td>\n",
              "      <td>NaN</td>\n",
              "    </tr>\n",
              "    <tr>\n",
              "      <th>4796</th>\n",
              "      <td>0</td>\n",
              "      <td>35</td>\n",
              "      <td>2</td>\n",
              "      <td>0</td>\n",
              "      <td>5.0</td>\n",
              "      <td>4.0</td>\n",
              "      <td>blok</td>\n",
              "      <td>NaN</td>\n",
              "      <td>8.0</td>\n",
              "      <td>NaN</td>\n",
              "      <td>NaN</td>\n",
              "      <td>NaN</td>\n",
              "      <td>NaN</td>\n",
              "      <td>NaN</td>\n",
              "      <td>NaN</td>\n",
              "      <td>NaN</td>\n",
              "      <td>NaN</td>\n",
              "      <td>NaN</td>\n",
              "      <td>NaN</td>\n",
              "    </tr>\n",
              "    <tr>\n",
              "      <th>4815</th>\n",
              "      <td>0</td>\n",
              "      <td>33</td>\n",
              "      <td>2</td>\n",
              "      <td>0</td>\n",
              "      <td>5.0</td>\n",
              "      <td>4.0</td>\n",
              "      <td>blok</td>\n",
              "      <td>NaN</td>\n",
              "      <td>8.0</td>\n",
              "      <td>NaN</td>\n",
              "      <td>NaN</td>\n",
              "      <td>NaN</td>\n",
              "      <td>NaN</td>\n",
              "      <td>NaN</td>\n",
              "      <td>NaN</td>\n",
              "      <td>NaN</td>\n",
              "      <td>NaN</td>\n",
              "      <td>NaN</td>\n",
              "      <td>NaN</td>\n",
              "    </tr>\n",
              "  </tbody>\n",
              "</table>\n",
              "<p>106 rows × 19 columns</p>\n",
              "</div>"
            ],
            "text/plain": [
              "      cena  Powierzchnia w m2  ...  Powierzchnia działki w m2  opis\n",
              "21       0                 33  ...                        NaN   NaN\n",
              "60       0                 36  ...                        NaN   NaN\n",
              "122      0                 55  ...                        NaN   NaN\n",
              "153      0                 53  ...                        NaN   NaN\n",
              "175      0                 54  ...                        NaN   NaN\n",
              "...    ...                ...  ...                        ...   ...\n",
              "4696     0                 33  ...                        NaN   NaN\n",
              "4718     0                 63  ...                        NaN   NaN\n",
              "4728     0                 69  ...                        NaN   NaN\n",
              "4796     0                 35  ...                        NaN   NaN\n",
              "4815     0                 33  ...                        NaN   NaN\n",
              "\n",
              "[106 rows x 19 columns]"
            ]
          },
          "metadata": {
            "tags": []
          },
          "execution_count": 37
        }
      ]
    },
    {
      "cell_type": "code",
      "metadata": {
        "id": "PSHhQBEXpsbg"
      },
      "source": [
        "df.drop(df[df['cena']<=10000].index, inplace=True)"
      ],
      "execution_count": 38,
      "outputs": []
    },
    {
      "cell_type": "code",
      "metadata": {
        "colab": {
          "base_uri": "https://localhost:8080/",
          "height": 290
        },
        "id": "eeRYqdk7syh6",
        "outputId": "a195f931-9f8b-42d0-ffe6-09601fd5c788"
      },
      "source": [
        "plt.figure(figsize=(14,4))\n",
        "sns.scatterplot(x=df['Powierzchnia w m2'], y=df['cena']);"
      ],
      "execution_count": 39,
      "outputs": [
        {
          "output_type": "display_data",
          "data": {
            "image/png": "[encoded data removed]",
            "text/plain": [
              "<Figure size 1008x288 with 1 Axes>"
            ]
          },
          "metadata": {
            "tags": [],
            "needs_background": "light"
          }
        }
      ]
    },
    {
      "cell_type": "markdown",
      "metadata": {
        "id": "QJyJMcyLs7qH"
      },
      "source": [
        "### **3.3.**  Nowy model"
      ]
    },
    {
      "cell_type": "code",
      "metadata": {
        "id": "RtKY50aXs1QK"
      },
      "source": [
        "model_df = df.loc[:, ['cena', 'Powierzchnia w m2', 'Liczba pokoi', 'Miejsce parkingowe', 'Liczba pięter w budynku', 'Piętro', 'Materiał budynku']]\n",
        "model_df = model_df.dropna()\n",
        "\n",
        "model_df[\"cena\"]=((model_df[\"cena\"]-model_df[\"cena\"].min())/(model_df[\"cena\"].max()-model_df[\"cena\"].min()))*100\n",
        "\n",
        "y = model_df.cena\n",
        "x = model_df.loc[:, ['Powierzchnia w m2', 'Liczba pokoi', 'Miejsce parkingowe', 'Liczba pięter w budynku', 'Piętro', 'Materiał budynku']]\n",
        "\n",
        "x_train, x_test, y_train, y_test = train_test_split(x,y , test_size=0.2,train_size=0.8, random_state=5)"
      ],
      "execution_count": 99,
      "outputs": []
    },
    {
      "cell_type": "code",
      "metadata": {
        "colab": {
          "base_uri": "https://localhost:8080/"
        },
        "id": "jgtd4qZ7tTqa",
        "outputId": "1df6e2aa-a8aa-446b-cf40-efd71d5cbcfc"
      },
      "source": [
        "linReg_v2 = LinearRegression()\n",
        "linReg_v2.fit(x_train, y_train)\n",
        "\n",
        "score = linReg_v2.score(x_test, y_test)\n",
        "print(score)"
      ],
      "execution_count": 100,
      "outputs": [
        {
          "output_type": "stream",
          "text": [
            "0.6908405153871318\n"
          ],
          "name": "stdout"
        }
      ]
    },
    {
      "cell_type": "code",
      "metadata": {
        "colab": {
          "base_uri": "https://localhost:8080/"
        },
        "id": "-wZTbI_XvYLB",
        "outputId": "ce681f3f-4bcf-45f2-dcbc-ffea3a7826f7"
      },
      "source": [
        "y_pred = linReg_v2.predict(x_test)\n",
        "mn = mean_squared_error(y_test, y_pred)\n",
        "print(mn)"
      ],
      "execution_count": 101,
      "outputs": [
        {
          "output_type": "stream",
          "text": [
            "19.74259939174266\n"
          ],
          "name": "stdout"
        }
      ]
    },
    {
      "cell_type": "code",
      "metadata": {
        "colab": {
          "base_uri": "https://localhost:8080/",
          "height": 606
        },
        "id": "OjmcG3tgksQg",
        "outputId": "4262d652-355f-442f-8b10-fc3390ffe9c0"
      },
      "source": [
        "plt.figure(figsize=(10,10))\n",
        "sns.scatterplot(x=y_test, y=y_pred);"
      ],
      "execution_count": 102,
      "outputs": [
        {
          "output_type": "display_data",
          "data": {
            "image/png": "[encoded data removed]",
            "text/plain": [
              "<Figure size 720x720 with 1 Axes>"
            ]
          },
          "metadata": {
            "tags": [],
            "needs_background": "light"
          }
        }
      ]
    },
    {
      "cell_type": "markdown",
      "metadata": {
        "id": "dYF09coIuLln"
      },
      "source": [
        "# **4.** Model v.3 (podział Typu zabudowy)\n",
        "\n",
        "---"
      ]
    },
    {
      "cell_type": "code",
      "metadata": {
        "id": "reOdQclcu5uf"
      },
      "source": [
        "model_df = df.loc[:, ['cena', 'Powierzchnia w m2', 'Liczba pokoi', 'Miejsce parkingowe', 'Liczba pięter w budynku', 'Piętro', 'Materiał budynku', 'Typ zabudowy']]\n",
        "model_df = model_df.dropna()\n",
        "\n",
        "model_df[\"cena\"]=((model_df[\"cena\"]-model_df[\"cena\"].min())/(model_df[\"cena\"].max()-model_df[\"cena\"].min()))*100\n",
        "model_df = pd.get_dummies(model_df, columns=['Typ zabudowy']) #Podział typu zabudowy na osobne kolumny\n",
        "\n",
        "y = model_df.cena\n",
        "x = model_df.drop('cena', axis=1)\n",
        "\n",
        "x_train, x_test, y_train, y_test = train_test_split(x,y , test_size=0.2,train_size=0.8, random_state=5)"
      ],
      "execution_count": 103,
      "outputs": []
    },
    {
      "cell_type": "code",
      "metadata": {
        "colab": {
          "base_uri": "https://localhost:8080/",
          "height": 605
        },
        "id": "7PKFJIoqtiqa",
        "outputId": "5513e5c7-dc38-4def-90ed-20dbbe9e82c0"
      },
      "source": [
        "plt.figure(figsize=(10,6))\n",
        "sns.heatmap(model_df.corr(),annot=True)\n",
        "plt.show()"
      ],
      "execution_count": 104,
      "outputs": [
        {
          "output_type": "display_data",
          "data": {
            "image/png": "[encoded data removed]",
            "text/plain": [
              "<Figure size 720x432 with 2 Axes>"
            ]
          },
          "metadata": {
            "tags": [],
            "needs_background": "light"
          }
        }
      ]
    },
    {
      "cell_type": "code",
      "metadata": {
        "colab": {
          "base_uri": "https://localhost:8080/"
        },
        "id": "6JA0FHVjtjHy",
        "outputId": "b19387b7-6f5b-4343-9cd2-0ddd398a800b"
      },
      "source": [
        "linReg_v3 = LinearRegression()\n",
        "linReg_v3.fit(x_train, y_train)\n",
        "\n",
        "score = linReg_v3.score(x_test, y_test)\n",
        "print(score)"
      ],
      "execution_count": 105,
      "outputs": [
        {
          "output_type": "stream",
          "text": [
            "0.6638364485184243\n"
          ],
          "name": "stdout"
        }
      ]
    },
    {
      "cell_type": "code",
      "metadata": {
        "colab": {
          "base_uri": "https://localhost:8080/"
        },
        "id": "riE62wIuumTD",
        "outputId": "73a18634-efe6-4a7d-8e7c-e549e5efdd2d"
      },
      "source": [
        "y_pred = linReg_v3.predict(x_test)\n",
        "mn = mean_squared_error(y_test, y_pred)\n",
        "print(mn)"
      ],
      "execution_count": 106,
      "outputs": [
        {
          "output_type": "stream",
          "text": [
            "16.052354723915634\n"
          ],
          "name": "stdout"
        }
      ]
    },
    {
      "cell_type": "code",
      "metadata": {
        "id": "J_ZVl1NDv4Bk",
        "colab": {
          "base_uri": "https://localhost:8080/",
          "height": 606
        },
        "outputId": "4dbddd9e-ac1b-4d98-e2b1-630800968d61"
      },
      "source": [
        "plt.figure(figsize=(10,10))\n",
        "sns.scatterplot(x=y_test, y=y_pred);"
      ],
      "execution_count": 107,
      "outputs": [
        {
          "output_type": "display_data",
          "data": {
            "image/png": "[encoded data removed]",
            "text/plain": [
              "<Figure size 720x720 with 1 Axes>"
            ]
          },
          "metadata": {
            "tags": [],
            "needs_background": "light"
          }
        }
      ]
    },
    {
      "cell_type": "markdown",
      "metadata": {
        "id": "2m9fUmQJmecX"
      },
      "source": [
        "# **5.** Wnioski i porównanie wyników z 3 klasyfikatorów\n",
        "\n",
        "---\n"
      ]
    },
    {
      "cell_type": "markdown",
      "metadata": {
        "id": "-N6eABf1nUya"
      },
      "source": [
        "We Wszystkich 3 modelach została wykorzystana regresja liniowa wielu zmiennych\n",
        "\n",
        "---\n",
        "\n",
        "W **Pierwszym** modelu uzyskaliśmy: \n",
        "\n",
        "**Score: 0.6086811135557096** \n",
        "\n",
        "**MSE: 8.650050250399445**. \n",
        "\n",
        "Był to model, w którym przeprowadziliśmy normalizację ceny do wartości z przedziału 0-100 oraz zamieniliśmy na wartości numeryczne kolumny odpowiadające za *'Miejsce Parkingowe'*, *'Materiał budynku'* oraz *'Piętro'*.\n",
        "\n",
        "---\n",
        "\n",
        "W **Drugim** modelu uzyskaliśmy: \n",
        "\n",
        "**Score: 0.6908405153871318**\n",
        "\n",
        "**MSE: 19.74259939174266**. \n",
        "\n",
        "Był to model, w którym zostały zastosowane te same zmiany co w 1 modelu, oraz została usunięta spora część wartości odstających (w szczególności z kolumny 'cena'). Uzyskane zostało dzięki temu podniesienie wartości **Score** o 13.5% względem poprzedniej wartości!\n",
        "\n",
        "---\n",
        "\n",
        "W **Trzecim** modelu uzyskaliśmy: \n",
        "\n",
        "**Score: 0.6638364485184243**\n",
        "\n",
        "**MSE: 16.052354723915634**. \n",
        "\n",
        "Był to model, w którym zostały zastosowane zmiany 1 i 2 modelu, oraz zostały dodane nowe kolumny zależne od Typu zabudowy. Wynik jest lepsy niż w modelu 1 lecz gorszy niż w modelu 2. \n",
        "\n",
        "---\n",
        "\n",
        "\n",
        "\n",
        "Na 100% możemy powiedzieć, że preprocesing danych dodaje naszemu modelowi większe prawdopodobieństwo prawdziwych predykcji. A co do ilości zmiennych, które wpływają na wynik, to zależy od danego parametru. niektóre z nich mają bardzo niską korelację z resztą zmiennych.\n",
        "\n",
        "Ciężko też to oceniać bez przeprowadzenia jeszcze większej liczby eksperymentów i badania tych zmian wraz ze zmianą zbiorów test/train."
      ]
    },
    {
      "cell_type": "code",
      "metadata": {
        "id": "0lqeL1uIpXH6"
      },
      "source": [
        ""
      ],
      "execution_count": null,
      "outputs": []
    }
  ]
}
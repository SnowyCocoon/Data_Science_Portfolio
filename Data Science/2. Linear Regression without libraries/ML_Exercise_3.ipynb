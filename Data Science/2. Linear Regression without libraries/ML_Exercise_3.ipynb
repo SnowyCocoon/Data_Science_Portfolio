{
 "cells": [
  {
   "cell_type": "markdown",
   "metadata": {
    "id": "EfW4lbij6Qfs"
   },
   "source": [
    "# Zadanie 3. Regresja liniowa - Dominik Strzałko - 434788"
   ]
  },
  {
   "cell_type": "markdown",
   "metadata": {
    "id": "1thgjrRNh6Do"
   },
   "source": [
    "# **1. Część podstawowa** (4 punkty)"
   ]
  },
  {
   "cell_type": "markdown",
   "metadata": {
    "id": "ATQdwDopkOgL"
   },
   "source": [
    "### 1.1 Importy bibliotek"
   ]
  },
  {
   "cell_type": "code",
   "execution_count": 1,
   "metadata": {
    "id": "yIqTfAefOkoO"
   },
   "outputs": [],
   "source": [
    "import numpy as np\n",
    "import matplotlib\n",
    "import matplotlib.pyplot as pl\n",
    "import ipywidgets as widgets\n",
    "import csv\n",
    "\n",
    "from IPython.display import display, Math, Latex"
   ]
  },
  {
   "cell_type": "markdown",
   "metadata": {
    "id": "9Vk_dzTtkZKV"
   },
   "source": [
    "### 1.2 Załadowanie bazy danych (.csv)"
   ]
  },
  {
   "cell_type": "code",
   "execution_count": 2,
   "metadata": {
    "colab": {
     "base_uri": "https://localhost:8080/"
    },
    "id": "3Xzq2Kw1NE1j",
    "outputId": "7b4d96fe-26a3-4d51-b48a-8363fc36ad4b"
   },
   "outputs": [
    {
     "name": "stdout",
     "output_type": "stream",
     "text": [
      "x = [6.2, 9.5, 10.5, 7.7, 8.6, 34.1, 11.0, 6.9, 7.3, 15.1]\n",
      "y = [29.0, 44.0, 36.0, 37.0, 53.0, 68.0, 75.0, 18.0, 31.0, 25.0]\n"
     ]
    }
   ],
   "source": [
    "reader = csv.reader(open('fires_thefts.csv'), delimiter=',')\n",
    "\n",
    "x = list()\n",
    "y = list()\n",
    "for xi, yi in reader:\n",
    "    x.append(float(xi))\n",
    "    y.append(float(yi)) \n",
    "    \n",
    "print('x = {}'.format(x[:10])) \n",
    "print('y = {}'.format(y[:10]))"
   ]
  },
  {
   "cell_type": "markdown",
   "metadata": {
    "id": "kaf69hnTkhlj"
   },
   "source": [
    "### 1.3 Funkcja hipotezy"
   ]
  },
  {
   "cell_type": "code",
   "execution_count": 3,
   "metadata": {
    "id": "g8R92d9SOHiR"
   },
   "outputs": [],
   "source": [
    "def h(theta, x):\n",
    "    return theta[0] + theta[1] * x"
   ]
  },
  {
   "cell_type": "markdown",
   "metadata": {
    "id": "XZAjZoN2km9G"
   },
   "source": [
    "### 1.4 Funkcje do narysowania wykresu"
   ]
  },
  {
   "cell_type": "code",
   "execution_count": 4,
   "metadata": {
    "id": "SWTaxTJiObgj"
   },
   "outputs": [],
   "source": [
    "def regdots(x, y):    \n",
    "    fig = pl.figure(figsize=(16*.6, 9*.6))\n",
    "    ax = fig.add_subplot(111)\n",
    "    fig.subplots_adjust(left=0.1, right=0.9, bottom=0.1, top=0.9)\n",
    "    ax.scatter(x, y, c='r', s=50, label='Dane')\n",
    "    \n",
    "    ax.set_xlabel(u'Pożary na tyś gospodarstw')\n",
    "    ax.set_ylabel(u'Włamania na tyś mieszkańców')\n",
    "    ax.margins(.05, .05)\n",
    "    pl.ylim(min(y) - 1, max(y) + 1)\n",
    "    pl.xlim(min(x) - 1, max(x) + 1)\n",
    "    return fig\n",
    "\n",
    "def regline(fig, fun, theta, x):\n",
    "    ax = fig.axes[0]\n",
    "    x0, x1 = min(x), max(x)\n",
    "    X = [x0, x1]\n",
    "    Y = [fun(theta, x) for x in X]\n",
    "    ax.plot(X, Y, linewidth='2',\n",
    "            label=(r'$y={theta0}{op}{theta1}x$'.format(\n",
    "                theta0=theta[0],\n",
    "                theta1=(theta[1] if theta[1] >= 0 else -theta[1]),\n",
    "                op='+' if theta[1] >= 0 else '-')))\n",
    "\n",
    "def legend(fig):\n",
    "    ax = fig.axes[0]\n",
    "    handles, labels = ax.get_legend_handles_labels()\n",
    "    # try-except block is a fix for a bug in Poly3DCollection\n",
    "    try:\n",
    "        fig.legend(handles, labels, fontsize='15', loc='lower right')\n",
    "    except AttributeError:\n",
    "        pass"
   ]
  },
  {
   "cell_type": "markdown",
   "metadata": {
    "id": "mtOdVO4_ksqt"
   },
   "source": [
    "### 1.5 Narysuj punkty na osi (x = Pożary na tyś gospodarstw/ y = Włamania na tyś mieszkańców)"
   ]
  },
  {
   "cell_type": "code",
   "execution_count": 5,
   "metadata": {
    "colab": {
     "base_uri": "https://localhost:8080/",
     "height": 374
    },
    "id": "_4g1F0CtOc1M",
    "outputId": "d62270f4-9798-44c9-9589-d0bc64bcc746"
   },
   "outputs": [
    {
     "data": {
      "image/png": "[encoded data removed]",
      "text/plain": [
       "<Figure size 691.2x388.8 with 1 Axes>"
      ]
     },
     "metadata": {
      "needs_background": "light",
      "tags": []
     },
     "output_type": "display_data"
    }
   ],
   "source": [
    "fig = regdots(x,y)\n",
    "legend(fig)"
   ]
  },
  {
   "cell_type": "markdown",
   "metadata": {
    "id": "WzX2ZlNsk-5A"
   },
   "source": [
    "### 1.6 Funkcja kosztu"
   ]
  },
  {
   "cell_type": "code",
   "execution_count": 6,
   "metadata": {
    "id": "x9wNp9NZO52Q"
   },
   "outputs": [],
   "source": [
    "def J(h, theta, x, y):\n",
    "    m = len(y)\n",
    "    return 1.0 / (2 * m) * sum((h(theta, x[i]) - y[i])**2 for i in range(m))"
   ]
  },
  {
   "cell_type": "markdown",
   "metadata": {
    "id": "23c4XykulMqH"
   },
   "source": [
    "### 1.7 Implementacja metody gradientu prostego, do obliczenia wartości minimum funkcji kosztu"
   ]
  },
  {
   "cell_type": "code",
   "execution_count": 7,
   "metadata": {
    "id": "3-mEgu1VPP6z"
   },
   "outputs": [],
   "source": [
    "def gradient_descent(h, cost_fun, theta, x, y, alpha, eps):\n",
    "    current_cost = cost_fun(h, theta, x, y)\n",
    "    log = [[current_cost, theta]]  # log przechowuje wartości kosztu i parametrów\n",
    "    m = len(y)\n",
    "    while True:\n",
    "        new_theta = [\n",
    "            theta[0] - alpha/float(m) * sum(h(theta, x[i]) - y[i]\n",
    "                                            for i in range(m)),   \n",
    "            theta[1] - alpha/float(m) * sum((h(theta, x[i]) - y[i]) * x[i]\n",
    "                                            for i in range(m))]\n",
    "        theta = new_theta  # jednoczesna aktualizacja - używamy zmiennej tymaczasowej\n",
    "        try:\n",
    "            current_cost, prev_cost = cost_fun(h, theta, x, y), current_cost\n",
    "        except OverflowError:\n",
    "            break      \n",
    "        if abs(prev_cost - current_cost) <= eps:\n",
    "            break     \n",
    "        log.append([current_cost, theta])\n",
    "    return theta, log"
   ]
  },
  {
   "cell_type": "markdown",
   "metadata": {
    "id": "WP3FXg09laes"
   },
   "source": [
    "### 1.8 funkcja do ładnego printowania wyniku"
   ]
  },
  {
   "cell_type": "code",
   "execution_count": 8,
   "metadata": {
    "id": "vVamZZEjP68Z"
   },
   "outputs": [],
   "source": [
    "def LatexMatrix(matrix):\n",
    "    ltx = r'\\left[\\begin{array}'\n",
    "    m, n = matrix.shape\n",
    "    ltx += '{' + (\"r\" * n) + '}'\n",
    "    for i in range(m):\n",
    "        ltx += r\" & \".join([('%.4f' % j.item()) for j in matrix[i]]) + r\" \\\\\\\\ \"\n",
    "    ltx += r'\\end{array}\\right]'\n",
    "    return ltx"
   ]
  },
  {
   "cell_type": "markdown",
   "metadata": {
    "id": "Um5Tl_t8mUON"
   },
   "source": [
    "### 1.9 Obliczenie **thety** i minimalnej wartości funkcji kosztu (na podstawie thety końcowej). W moim wypadku na start podaję **theta** początkowe równe [10.0,1.0], alpha = 0.001 i epsilon = 0.0001"
   ]
  },
  {
   "cell_type": "code",
   "execution_count": 9,
   "metadata": {
    "colab": {
     "base_uri": "https://localhost:8080/",
     "height": 115
    },
    "id": "IJAIt5dxPP4j",
    "outputId": "7be18526-064a-4cd0-8837-70dfb1664ab9"
   },
   "outputs": [
    {
     "data": {
      "text/latex": [
       "$$\\large\\textrm{Wynik:}\\quad \\theta = \\left[\\begin{array}{r}16.1200 \\\\\\\\ 1.3575 \\\\\\\\ \\end{array}\\right] \\quad J(\\theta) = 180.5487 \\quad \\textrm{po 5749 iteracjach}$$"
      ],
      "text/plain": [
       "<IPython.core.display.Math object>"
      ]
     },
     "metadata": {
      "tags": []
     },
     "output_type": "display_data"
    }
   ],
   "source": [
    "best_theta, log = gradient_descent(h, J, [10.0, 1.0], x, y, alpha=0.001, eps=0.0001)\n",
    "\n",
    "display(Math(r'\\large\\textrm{Wynik:}\\quad \\theta = ' + \n",
    "             LatexMatrix(np.matrix(best_theta).reshape(2,1)) + \n",
    "            (r' \\quad J(\\theta) = %.4f' % log[-1][0])  \n",
    "            + r' \\quad \\textrm{po %d iteracjach}' % len(log))) "
   ]
  },
  {
   "cell_type": "markdown",
   "metadata": {
    "id": "GJ44sUAg0z-K"
   },
   "source": [
    "### 1.10. Funkcje do rysowania wykresu z suwakiem"
   ]
  },
  {
   "cell_type": "code",
   "execution_count": 10,
   "metadata": {
    "id": "T4iJ8Gc4PPxk"
   },
   "outputs": [],
   "source": [
    "# Przygotowanie interaktywnego wykresu\n",
    "\n",
    "sliderSteps2 = widgets.IntSlider(min=0, max=5000, step=1, value=1, description='kroki', width=500)\n",
    "\n",
    "def slide5(steps):\n",
    "    costplot2d(h, x, y, gradient_values=log[:steps+1], nohead=True)"
   ]
  },
  {
   "cell_type": "code",
   "execution_count": 11,
   "metadata": {
    "id": "KTGusPu5QspH"
   },
   "outputs": [],
   "source": [
    "def costplot2d(hypothesis, x, y, gradient_values=[], nohead=False):\n",
    "    fig = pl.figure(figsize=(16*.6, 9*.6))\n",
    "    ax = fig.add_subplot(111)\n",
    "    fig.subplots_adjust(left=0.1, right=0.9, bottom=0.1, top=0.9)\n",
    "    ax.set_xlabel(r'$\\theta_0$')\n",
    "    ax.set_ylabel(r'$\\theta_1$')\n",
    "    \n",
    "    j = lambda theta0, theta1: costfun(hypothesis, x, y)([theta0, theta1])\n",
    "    X = np.arange(0, 20.1, 0.1)\n",
    "    Y = np.arange(-1, 4.1, 0.1)\n",
    "    X, Y = np.meshgrid(X, Y)\n",
    "    Z = np.array([[J(hypothesis, [theta0, theta1], x, y) \n",
    "                    for theta0, theta1 in zip(xRow, yRow)] \n",
    "                   for xRow, yRow in zip(X, Y)])\n",
    "    \n",
    "    N = range(0, 800, 20)\n",
    "    pl.contour(X, Y, Z, N, cmap='coolwarm', alpha=1)\n",
    "\n",
    "    #ax.scatter([-3.89578088], [1.19303364], c='r', s=80, marker='x',\n",
    "     #          label=r'minimum: $J(-3.90, 1.19) = 4.48$')\n",
    "    \n",
    "    if len(gradient_values) > 0:\n",
    "        prev_theta = gradient_values[0][1]\n",
    "        ax.scatter([prev_theta[0]], [prev_theta[1]],\n",
    "                   c='g', s=30, marker='D', zorder=100)\n",
    "        for cost, theta in gradient_values[1:]:\n",
    "            dtheta = [theta[0] - prev_theta[0], theta[1] - prev_theta[1]]\n",
    "            ax.arrow(prev_theta[0], prev_theta[1], dtheta[0], dtheta[1], \n",
    "                     color='green', \n",
    "                     head_width=(0.0 if nohead else 0.1), \n",
    "                     head_length=(0.0 if nohead else 0.2),\n",
    "                     zorder=100)\n",
    "            prev_theta = theta\n",
    "    \n",
    "    return fig"
   ]
  },
  {
   "cell_type": "markdown",
   "metadata": {
    "id": "CXOOeFW609aE"
   },
   "source": [
    "### 1.11. Rysowanie z Suwakiem"
   ]
  },
  {
   "cell_type": "code",
   "execution_count": 12,
   "metadata": {
    "colab": {
     "base_uri": "https://localhost:8080/",
     "height": 98,
     "referenced_widgets": [
      "0d8c2e30b1864e3182e85a558b997179",
      "83164dfbc00245a6bb4a128e95e6135d",
      "a50466e57bb5428c8f5356bbc3547e7a",
      "6b54e2497e464b57b92a27c246f317ce",
      "d25e1fe6f6eb41d99f6794f00f41ab49",
      "8c9ebbc30ba742bb803da756d96ee893",
      "5a3bcf8e4e19404dbfb3df0cf45afe3d",
      "eacc3056632a40e2a52997d2a8bacd46",
      "f2ab500f98094ab5b6ed9fd168543679",
      "67e99ea4af6f474aa32cba6187ded48e"
     ]
    },
    "id": "zSQC3t_GPPmt",
    "outputId": "a91c6d05-8f8d-4007-9275-fbeb3b3da965"
   },
   "outputs": [
    {
     "data": {
      "application/vnd.jupyter.widget-view+json": {
       "model_id": "0d8c2e30b1864e3182e85a558b997179",
       "version_major": 2,
       "version_minor": 0
      },
      "text/plain": [
       "interactive(children=(IntSlider(value=1, description='kroki', max=5000), Button(description='Run Interact', st…"
      ]
     },
     "metadata": {
      "tags": []
     },
     "output_type": "display_data"
    },
    {
     "data": {
      "text/plain": [
       "<function __main__.slide5>"
      ]
     },
     "execution_count": 12,
     "metadata": {
      "tags": []
     },
     "output_type": "execute_result"
    }
   ],
   "source": [
    "widgets.interact_manual(slide5, steps=sliderSteps2)"
   ]
  },
  {
   "cell_type": "markdown",
   "metadata": {
    "id": "9sqMCRBT1ALr"
   },
   "source": [
    "### 1.12. Wykorzystując uzyskaną krzywą regresyjną przepowiedz liczbę włamań na tysiąc mieszkańców dla dzielnicy, w której występuje średnio 50, 100, 200 pożarów na tysiąc gospodarstw domowych."
   ]
  },
  {
   "cell_type": "code",
   "execution_count": 13,
   "metadata": {
    "colab": {
     "base_uri": "https://localhost:8080/"
    },
    "id": "AhzWiQqyT6YI",
    "outputId": "b2580e08-52a7-4688-c63b-d918d298e071"
   },
   "outputs": [
    {
     "name": "stdout",
     "output_type": "stream",
     "text": [
      "83.99699423604544\n"
     ]
    }
   ],
   "source": [
    "example_x = 50\n",
    "predicted_y = h(best_theta, example_x)\n",
    "print(predicted_y)"
   ]
  },
  {
   "cell_type": "code",
   "execution_count": 14,
   "metadata": {
    "colab": {
     "base_uri": "https://localhost:8080/"
    },
    "id": "bSlVjmXrT_Ck",
    "outputId": "54663989-453b-4ca1-f4c4-28575e7e56d6"
   },
   "outputs": [
    {
     "name": "stdout",
     "output_type": "stream",
     "text": [
      "151.87402861036708\n"
     ]
    }
   ],
   "source": [
    "example_x = 100\n",
    "predicted_y = h(best_theta, example_x)\n",
    "print(predicted_y)"
   ]
  },
  {
   "cell_type": "code",
   "execution_count": 15,
   "metadata": {
    "colab": {
     "base_uri": "https://localhost:8080/"
    },
    "id": "qDG33CfyUBI8",
    "outputId": "0f89b23f-01b1-4b02-c428-94c9b0332b51"
   },
   "outputs": [
    {
     "name": "stdout",
     "output_type": "stream",
     "text": [
      "287.6280973590104\n"
     ]
    }
   ],
   "source": [
    "example_x = 200\n",
    "predicted_y = h(best_theta, example_x)\n",
    "print(predicted_y) "
   ]
  },
  {
   "cell_type": "markdown",
   "metadata": {
    "id": "Hj0skV3yXOfk"
   },
   "source": [
    "# Część zaawansowana (2 punkty)"
   ]
  },
  {
   "cell_type": "markdown",
   "metadata": {
    "id": "Z6q_t7LtAtia"
   },
   "source": [
    "### 2.1 Zmodyfikowana funkcja gradientu. Działa na podstawie numeru kroków (50 krok = 50 iteracji)"
   ]
  },
  {
   "cell_type": "code",
   "execution_count": 16,
   "metadata": {
    "id": "XlJANc98A-YC"
   },
   "outputs": [],
   "source": [
    "def gradient_descent_mod(h, cost_fun, theta, x, y, alpha, eps, step):\n",
    "    current_cost = cost_fun(h, theta, x, y)\n",
    "    log = [[current_cost, theta]]  # log przechowuje wartości kosztu i parametrów\n",
    "    m = len(y)\n",
    "    for i in range(step):\n",
    "        new_theta = [\n",
    "            theta[0] - alpha/float(m) * sum(h(theta, x[i]) - y[i]\n",
    "                                            for i in range(m)),   \n",
    "            theta[1] - alpha/float(m) * sum((h(theta, x[i]) - y[i]) * x[i]\n",
    "                                            for i in range(m))]\n",
    "        theta = new_theta  # jednoczesna aktualizacja - używamy zmiennej tymaczasowej\n",
    "        try:\n",
    "            current_cost, prev_cost = cost_fun(h, theta, x, y), current_cost\n",
    "        except OverflowError:\n",
    "            break      \n",
    "        if abs(prev_cost - current_cost) <= eps:\n",
    "            break     \n",
    "        log.append([current_cost, theta])\n",
    "    return theta, log"
   ]
  },
  {
   "cell_type": "markdown",
   "metadata": {
    "id": "uONHyQ0_2uaH"
   },
   "source": [
    "### 2.2 Rysowanie wykresu dla theta = [10.0,1.0]. Skala wykresu to x w przedziale (-10,200), a y (175, 300)"
   ]
  },
  {
   "cell_type": "code",
   "execution_count": 17,
   "metadata": {
    "colab": {
     "base_uri": "https://localhost:8080/",
     "height": 295
    },
    "id": "7CH6NZJtYmlt",
    "outputId": "cbbb6c04-0d3d-43af-9cf4-d858947aa198"
   },
   "outputs": [
    {
     "data": {
      "image/png": "[encoded data removed]",
      "text/plain": [
       "<Figure size 432x288 with 1 Axes>"
      ]
     },
     "metadata": {
      "needs_background": "light",
      "tags": []
     },
     "output_type": "display_data"
    }
   ],
   "source": [
    "# inicjalizacja\n",
    "fig = pl.figure()\n",
    "# dodanie \"podwykresu\" (zobacz: http://matplotlib.org/api/pyplot_api.html#matplotlib.pyplot.subplot )\n",
    "ax = fig.add_subplot(111)\n",
    "\n",
    "ax.set_ylabel('wartość funkcji kosztu')  # opis osi y\n",
    "ax.set_xlabel('liczba kroków')  # opis osi x\n",
    "ax.set_title('Zadanie 3.2')  # tytuł wykresu\n",
    "\n",
    "x1 = np.arange(0, 200, 1)\n",
    "y1 = []\n",
    "\n",
    "for i in range(0,200):\n",
    "  temp, log = gradient_descent_mod(h, J, [10.0, 1.0], x, y, alpha=0.001, eps=0.0001, step=i)\n",
    "  y1.append(log[-1][0])\n",
    "\n",
    "line1 = ax.plot(x1, y1, color='green', lw=2)\n",
    "\n",
    "x2 = np.arange(0, 200, 1)\n",
    "y2 = []\n",
    "\n",
    "for i in range(0,200):\n",
    "  temp, log = gradient_descent_mod(h, J, [10.0, 1.0], x, y, alpha=0.01, eps=0.0001, step=i)\n",
    "  y2.append(log[-1][0])\n",
    "\n",
    "line2 = ax.plot(x2, y2, color='red', lw=2)\n",
    "\n",
    "x3 = np.arange(0, 200, 1)\n",
    "y3 = []\n",
    "\n",
    "for i in range(0,200):\n",
    "  temp, log = gradient_descent_mod(h, J, [10.0, 1.0], x, y, alpha=0.1, eps=0.0001, step=i)\n",
    "  y3.append(log[-1][0])\n",
    "\n",
    "line3 = ax.plot(x3, y3, color='purple', lw=2)\n",
    "\n",
    "pl.xlim(-10, 200)\n",
    "pl.ylim(175, 300)\n",
    "#pl.yscale('log')\n",
    "\n",
    "pl.show()  # pokaż wykres"
   ]
  },
  {
   "cell_type": "markdown",
   "metadata": {
    "id": "rwGTp6dS3Cdg"
   },
   "source": [
    "### 2.3 Dodatkowy wykres dla Theta = [0,0]. Skala wykresu jest logarytmiczna dla zaznaczenia faktu rośnięcia funkcji kosztu dla alfa = 0.01 i 0.1."
   ]
  },
  {
   "cell_type": "code",
   "execution_count": 18,
   "metadata": {
    "colab": {
     "base_uri": "https://localhost:8080/",
     "height": 329
    },
    "id": "z1-JTd9Jak1K",
    "outputId": "d12d46b9-6712-4fe8-cb4d-771a388aac79"
   },
   "outputs": [
    {
     "name": "stderr",
     "output_type": "stream",
     "text": [
      "/usr/local/lib/python3.7/dist-packages/numpy/ma/core.py:6849: RuntimeWarning: overflow encountered in power\n",
      "  result = np.where(m, fa, umath.power(fa, fb)).view(basetype)\n"
     ]
    },
    {
     "data": {
      "image/png": "[encoded data removed]",
      "text/plain": [
       "<Figure size 432x288 with 1 Axes>"
      ]
     },
     "metadata": {
      "needs_background": "light",
      "tags": []
     },
     "output_type": "display_data"
    }
   ],
   "source": [
    "# inicjalizacja\n",
    "fig = pl.figure()\n",
    "# dodanie \"podwykresu\" (zobacz: http://matplotlib.org/api/pyplot_api.html#matplotlib.pyplot.subplot )\n",
    "ax = fig.add_subplot(111)\n",
    "\n",
    "\n",
    "ax.set_ylabel('wartość funkcji kosztu')  # opis osi y\n",
    "ax.set_xlabel('liczba kroków')  # opis osi x\n",
    "ax.set_title('Zadanie 3.2')  # tytuł wykresu\n",
    "\n",
    "x1 = np.arange(0, 200, 1)\n",
    "y1 = []\n",
    "\n",
    "for i in range(0,200):\n",
    "  temp, log = gradient_descent_mod(h, J, [0, 0], x, y, alpha=0.001, eps=0.0001, step=i)\n",
    "  y1.append(log[-1][0])\n",
    "\n",
    "line1 = ax.plot(x1, y1, color='green', lw=2)\n",
    "\n",
    "x2 = np.arange(0, 200, 1)\n",
    "y2 = []\n",
    "\n",
    "for i in range(0,200):\n",
    "  temp, log = gradient_descent_mod(h, J, [0, 0], x, y, alpha=0.01, eps=0.0001, step=i)\n",
    "  y2.append(log[-1][0])\n",
    "\n",
    "line2 = ax.plot(x2, y2, color='red', lw=2)\n",
    "\n",
    "x3 = np.arange(0, 200, 1)\n",
    "y3 = []\n",
    "\n",
    "for i in range(0,200):\n",
    "  temp, log = gradient_descent_mod(h, J, [0, 0], x, y, alpha=0.1, eps=0.0001, step=i)\n",
    "  y3.append(log[-1][0])\n",
    "\n",
    "line3 = ax.plot(x3, y3, color='purple', lw=2)\n",
    "\n",
    "ax.set_yscale('log')\n",
    "# ax.set_xscale('log')\n",
    "ax.set_ylim((175, 10000000000))\n",
    "\n",
    "pl.show()  # pokaż wykres"
   ]
  }
 ],
 "metadata": {
  "colab": {
   "collapsed_sections": [],
   "name": "UMA_Zad_3.ipynb",
   "provenance": [],
   "toc_visible": true
  },
  "kernelspec": {
   "display_name": "Python 3",
   "language": "python",
   "name": "python3"
  },
  "language_info": {
   "codemirror_mode": {
    "name": "ipython",
    "version": 3
   },
   "file_extension": ".py",
   "mimetype": "text/x-python",
   "name": "python",
   "nbconvert_exporter": "python",
   "pygments_lexer": "ipython3",
   "version": "3.8.2"
  },
  "widgets": {
   "application/vnd.jupyter.widget-state+json": {
    "0d8c2e30b1864e3182e85a558b997179": {
     "model_module": "@jupyter-widgets/controls",
     "model_name": "VBoxModel",
     "state": {
      "_dom_classes": [
       "widget-interact"
      ],
      "_model_module": "@jupyter-widgets/controls",
      "_model_module_version": "1.5.0",
      "_model_name": "VBoxModel",
      "_view_count": null,
      "_view_module": "@jupyter-widgets/controls",
      "_view_module_version": "1.5.0",
      "_view_name": "VBoxView",
      "box_style": "",
      "children": [
       "IPY_MODEL_a50466e57bb5428c8f5356bbc3547e7a",
       "IPY_MODEL_6b54e2497e464b57b92a27c246f317ce",
       "IPY_MODEL_d25e1fe6f6eb41d99f6794f00f41ab49"
      ],
      "layout": "IPY_MODEL_83164dfbc00245a6bb4a128e95e6135d"
     }
    },
    "5a3bcf8e4e19404dbfb3df0cf45afe3d": {
     "model_module": "@jupyter-widgets/base",
     "model_name": "LayoutModel",
     "state": {
      "_model_module": "@jupyter-widgets/base",
      "_model_module_version": "1.2.0",
      "_model_name": "LayoutModel",
      "_view_count": null,
      "_view_module": "@jupyter-widgets/base",
      "_view_module_version": "1.2.0",
      "_view_name": "LayoutView",
      "align_content": null,
      "align_items": null,
      "align_self": null,
      "border": null,
      "bottom": null,
      "display": null,
      "flex": null,
      "flex_flow": null,
      "grid_area": null,
      "grid_auto_columns": null,
      "grid_auto_flow": null,
      "grid_auto_rows": null,
      "grid_column": null,
      "grid_gap": null,
      "grid_row": null,
      "grid_template_areas": null,
      "grid_template_columns": null,
      "grid_template_rows": null,
      "height": null,
      "justify_content": null,
      "justify_items": null,
      "left": null,
      "margin": null,
      "max_height": null,
      "max_width": null,
      "min_height": null,
      "min_width": null,
      "object_fit": null,
      "object_position": null,
      "order": null,
      "overflow": null,
      "overflow_x": null,
      "overflow_y": null,
      "padding": null,
      "right": null,
      "top": null,
      "visibility": null,
      "width": null
     }
    },
    "67e99ea4af6f474aa32cba6187ded48e": {
     "model_module": "@jupyter-widgets/base",
     "model_name": "LayoutModel",
     "state": {
      "_model_module": "@jupyter-widgets/base",
      "_model_module_version": "1.2.0",
      "_model_name": "LayoutModel",
      "_view_count": null,
      "_view_module": "@jupyter-widgets/base",
      "_view_module_version": "1.2.0",
      "_view_name": "LayoutView",
      "align_content": null,
      "align_items": null,
      "align_self": null,
      "border": null,
      "bottom": null,
      "display": null,
      "flex": null,
      "flex_flow": null,
      "grid_area": null,
      "grid_auto_columns": null,
      "grid_auto_flow": null,
      "grid_auto_rows": null,
      "grid_column": null,
      "grid_gap": null,
      "grid_row": null,
      "grid_template_areas": null,
      "grid_template_columns": null,
      "grid_template_rows": null,
      "height": null,
      "justify_content": null,
      "justify_items": null,
      "left": null,
      "margin": null,
      "max_height": null,
      "max_width": null,
      "min_height": null,
      "min_width": null,
      "object_fit": null,
      "object_position": null,
      "order": null,
      "overflow": null,
      "overflow_x": null,
      "overflow_y": null,
      "padding": null,
      "right": null,
      "top": null,
      "visibility": null,
      "width": null
     }
    },
    "6b54e2497e464b57b92a27c246f317ce": {
     "model_module": "@jupyter-widgets/controls",
     "model_name": "ButtonModel",
     "state": {
      "_dom_classes": [],
      "_model_module": "@jupyter-widgets/controls",
      "_model_module_version": "1.5.0",
      "_model_name": "ButtonModel",
      "_view_count": null,
      "_view_module": "@jupyter-widgets/controls",
      "_view_module_version": "1.5.0",
      "_view_name": "ButtonView",
      "button_style": "",
      "description": "Run Interact",
      "disabled": false,
      "icon": "",
      "layout": "IPY_MODEL_f2ab500f98094ab5b6ed9fd168543679",
      "style": "IPY_MODEL_eacc3056632a40e2a52997d2a8bacd46",
      "tooltip": ""
     }
    },
    "83164dfbc00245a6bb4a128e95e6135d": {
     "model_module": "@jupyter-widgets/base",
     "model_name": "LayoutModel",
     "state": {
      "_model_module": "@jupyter-widgets/base",
      "_model_module_version": "1.2.0",
      "_model_name": "LayoutModel",
      "_view_count": null,
      "_view_module": "@jupyter-widgets/base",
      "_view_module_version": "1.2.0",
      "_view_name": "LayoutView",
      "align_content": null,
      "align_items": null,
      "align_self": null,
      "border": null,
      "bottom": null,
      "display": null,
      "flex": null,
      "flex_flow": null,
      "grid_area": null,
      "grid_auto_columns": null,
      "grid_auto_flow": null,
      "grid_auto_rows": null,
      "grid_column": null,
      "grid_gap": null,
      "grid_row": null,
      "grid_template_areas": null,
      "grid_template_columns": null,
      "grid_template_rows": null,
      "height": null,
      "justify_content": null,
      "justify_items": null,
      "left": null,
      "margin": null,
      "max_height": null,
      "max_width": null,
      "min_height": null,
      "min_width": null,
      "object_fit": null,
      "object_position": null,
      "order": null,
      "overflow": null,
      "overflow_x": null,
      "overflow_y": null,
      "padding": null,
      "right": null,
      "top": null,
      "visibility": null,
      "width": null
     }
    },
    "8c9ebbc30ba742bb803da756d96ee893": {
     "model_module": "@jupyter-widgets/controls",
     "model_name": "SliderStyleModel",
     "state": {
      "_model_module": "@jupyter-widgets/controls",
      "_model_module_version": "1.5.0",
      "_model_name": "SliderStyleModel",
      "_view_count": null,
      "_view_module": "@jupyter-widgets/base",
      "_view_module_version": "1.2.0",
      "_view_name": "StyleView",
      "description_width": "",
      "handle_color": null
     }
    },
    "a50466e57bb5428c8f5356bbc3547e7a": {
     "model_module": "@jupyter-widgets/controls",
     "model_name": "IntSliderModel",
     "state": {
      "_dom_classes": [],
      "_model_module": "@jupyter-widgets/controls",
      "_model_module_version": "1.5.0",
      "_model_name": "IntSliderModel",
      "_view_count": null,
      "_view_module": "@jupyter-widgets/controls",
      "_view_module_version": "1.5.0",
      "_view_name": "IntSliderView",
      "continuous_update": true,
      "description": "kroki",
      "description_tooltip": null,
      "disabled": false,
      "layout": "IPY_MODEL_5a3bcf8e4e19404dbfb3df0cf45afe3d",
      "max": 5000,
      "min": 0,
      "orientation": "horizontal",
      "readout": true,
      "readout_format": "d",
      "step": 1,
      "style": "IPY_MODEL_8c9ebbc30ba742bb803da756d96ee893",
      "value": 1
     }
    },
    "d25e1fe6f6eb41d99f6794f00f41ab49": {
     "model_module": "@jupyter-widgets/output",
     "model_name": "OutputModel",
     "state": {
      "_dom_classes": [],
      "_model_module": "@jupyter-widgets/output",
      "_model_module_version": "1.0.0",
      "_model_name": "OutputModel",
      "_view_count": null,
      "_view_module": "@jupyter-widgets/output",
      "_view_module_version": "1.0.0",
      "_view_name": "OutputView",
      "layout": "IPY_MODEL_67e99ea4af6f474aa32cba6187ded48e",
      "msg_id": "",
      "outputs": []
     }
    },
    "eacc3056632a40e2a52997d2a8bacd46": {
     "model_module": "@jupyter-widgets/controls",
     "model_name": "ButtonStyleModel",
     "state": {
      "_model_module": "@jupyter-widgets/controls",
      "_model_module_version": "1.5.0",
      "_model_name": "ButtonStyleModel",
      "_view_count": null,
      "_view_module": "@jupyter-widgets/base",
      "_view_module_version": "1.2.0",
      "_view_name": "StyleView",
      "button_color": null,
      "font_weight": ""
     }
    },
    "f2ab500f98094ab5b6ed9fd168543679": {
     "model_module": "@jupyter-widgets/base",
     "model_name": "LayoutModel",
     "state": {
      "_model_module": "@jupyter-widgets/base",
      "_model_module_version": "1.2.0",
      "_model_name": "LayoutModel",
      "_view_count": null,
      "_view_module": "@jupyter-widgets/base",
      "_view_module_version": "1.2.0",
      "_view_name": "LayoutView",
      "align_content": null,
      "align_items": null,
      "align_self": null,
      "border": null,
      "bottom": null,
      "display": null,
      "flex": null,
      "flex_flow": null,
      "grid_area": null,
      "grid_auto_columns": null,
      "grid_auto_flow": null,
      "grid_auto_rows": null,
      "grid_column": null,
      "grid_gap": null,
      "grid_row": null,
      "grid_template_areas": null,
      "grid_template_columns": null,
      "grid_template_rows": null,
      "height": null,
      "justify_content": null,
      "justify_items": null,
      "left": null,
      "margin": null,
      "max_height": null,
      "max_width": null,
      "min_height": null,
      "min_width": null,
      "object_fit": null,
      "object_position": null,
      "order": null,
      "overflow": null,
      "overflow_x": null,
      "overflow_y": null,
      "padding": null,
      "right": null,
      "top": null,
      "visibility": null,
      "width": null
     }
    }
   }
  }
 },
 "nbformat": 4,
 "nbformat_minor": 1
}

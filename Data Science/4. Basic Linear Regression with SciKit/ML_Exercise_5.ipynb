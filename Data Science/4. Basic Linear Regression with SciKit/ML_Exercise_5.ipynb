{
  "nbformat": 4,
  "nbformat_minor": 0,
  "metadata": {
    "colab": {
      "name": "UMA_Zad_5_1.ipynb",
      "provenance": [],
      "collapsed_sections": [],
      "toc_visible": true
    },
    "kernelspec": {
      "name": "python3",
      "display_name": "Python 3"
    },
    "language_info": {
      "name": "python"
    }
  },
  "cells": [
    {
      "cell_type": "markdown",
      "metadata": {
        "id": "sJzoSBd_iba2"
      },
      "source": [
        "# Dominik Strzałko - Zadanie 5.1 - 434788"
      ]
    },
    {
      "cell_type": "markdown",
      "metadata": {
        "id": "Ep187Nmb9vl-"
      },
      "source": [
        "# 0. Pobranie i analiza zbioru\n",
        "\n",
        "---"
      ]
    },
    {
      "cell_type": "code",
      "metadata": {
        "id": "sPh_i8B-NShL"
      },
      "source": [
        "import pandas as pd\n",
        "import numpy as np\n",
        "from sklearn.model_selection import train_test_split\n",
        "from sklearn.linear_model import LinearRegression\n",
        "from sklearn.metrics import mean_squared_error\n",
        "import seaborn as sns\n",
        "import matplotlib.pyplot as plt"
      ],
      "execution_count": null,
      "outputs": []
    },
    {
      "cell_type": "code",
      "metadata": {
        "id": "Pr_HHQhcNfzv"
      },
      "source": [
        "df =pd.read_csv('fires_thefts.csv', names=[\"Fires\", \"Burglary\"])"
      ],
      "execution_count": null,
      "outputs": []
    },
    {
      "cell_type": "code",
      "metadata": {
        "colab": {
          "base_uri": "https://localhost:8080/",
          "height": 204
        },
        "id": "AKVAgPvZNkiN",
        "outputId": "be53959e-f63a-4d77-fa81-3745f282f19d"
      },
      "source": [
        "df.head()"
      ],
      "execution_count": null,
      "outputs": [
        {
          "output_type": "execute_result",
          "data": {
            "text/html": [
              "<div>\n",
              "<style scoped>\n",
              "    .dataframe tbody tr th:only-of-type {\n",
              "        vertical-align: middle;\n",
              "    }\n",
              "\n",
              "    .dataframe tbody tr th {\n",
              "        vertical-align: top;\n",
              "    }\n",
              "\n",
              "    .dataframe thead th {\n",
              "        text-align: right;\n",
              "    }\n",
              "</style>\n",
              "<table border=\"1\" class=\"dataframe\">\n",
              "  <thead>\n",
              "    <tr style=\"text-align: right;\">\n",
              "      <th></th>\n",
              "      <th>Fires</th>\n",
              "      <th>Burglary</th>\n",
              "    </tr>\n",
              "  </thead>\n",
              "  <tbody>\n",
              "    <tr>\n",
              "      <th>0</th>\n",
              "      <td>6.2</td>\n",
              "      <td>29</td>\n",
              "    </tr>\n",
              "    <tr>\n",
              "      <th>1</th>\n",
              "      <td>9.5</td>\n",
              "      <td>44</td>\n",
              "    </tr>\n",
              "    <tr>\n",
              "      <th>2</th>\n",
              "      <td>10.5</td>\n",
              "      <td>36</td>\n",
              "    </tr>\n",
              "    <tr>\n",
              "      <th>3</th>\n",
              "      <td>7.7</td>\n",
              "      <td>37</td>\n",
              "    </tr>\n",
              "    <tr>\n",
              "      <th>4</th>\n",
              "      <td>8.6</td>\n",
              "      <td>53</td>\n",
              "    </tr>\n",
              "  </tbody>\n",
              "</table>\n",
              "</div>"
            ],
            "text/plain": [
              "   Fires  Burglary\n",
              "0    6.2        29\n",
              "1    9.5        44\n",
              "2   10.5        36\n",
              "3    7.7        37\n",
              "4    8.6        53"
            ]
          },
          "metadata": {
            "tags": []
          },
          "execution_count": 5
        }
      ]
    },
    {
      "cell_type": "code",
      "metadata": {
        "colab": {
          "base_uri": "https://localhost:8080/",
          "height": 279
        },
        "id": "ei-SBruuNpCe",
        "outputId": "ea275747-a5de-410f-b4ac-c7881c811086"
      },
      "source": [
        "plt.figure(figsize=(14,4))\n",
        "sns.scatterplot(x=df['Fires'], y=df['Burglary']);"
      ],
      "execution_count": null,
      "outputs": [
        {
          "output_type": "display_data",
          "data": {
            "image/png": "[encoded data removed]",
            "text/plain": [
              "<Figure size 1008x288 with 1 Axes>"
            ]
          },
          "metadata": {
            "tags": [],
            "needs_background": "light"
          }
        }
      ]
    },
    {
      "cell_type": "markdown",
      "metadata": {
        "id": "Bnn8qSAa93hV"
      },
      "source": [
        "---\n",
        "\n",
        "# 1. Podział zbioru na Test/Train\n",
        "\n",
        "---"
      ]
    },
    {
      "cell_type": "code",
      "metadata": {
        "id": "yDXkdjxUOkbN"
      },
      "source": [
        "x = df.iloc[:, :-1].values\n",
        "y = df.iloc[:, 1].values\n",
        "\n",
        "x_train, x_test, y_train, y_test = train_test_split(x,y , test_size=0.2,train_size=0.8, random_state=37)"
      ],
      "execution_count": null,
      "outputs": []
    },
    {
      "cell_type": "code",
      "metadata": {
        "colab": {
          "base_uri": "https://localhost:8080/"
        },
        "id": "cEGr63u4PA8e",
        "outputId": "470f7eea-52fe-4fe1-a691-42648ce662b4"
      },
      "source": [
        "x_train"
      ],
      "execution_count": null,
      "outputs": [
        {
          "output_type": "execute_result",
          "data": {
            "text/plain": [
              "array([[ 6.9],\n",
              "       [ 2. ],\n",
              "       [15.1],\n",
              "       [ 5.4],\n",
              "       [ 4.8],\n",
              "       [28.6],\n",
              "       [11.9],\n",
              "       [10.5],\n",
              "       [10.7],\n",
              "       [29.1],\n",
              "       [10.5],\n",
              "       [16.5],\n",
              "       [15.1],\n",
              "       [ 2.2],\n",
              "       [12.2],\n",
              "       [ 2.5],\n",
              "       [17.4],\n",
              "       [10.8],\n",
              "       [ 7.2],\n",
              "       [ 3.4],\n",
              "       [ 5. ],\n",
              "       [ 7.3],\n",
              "       [ 9. ],\n",
              "       [ 3.6],\n",
              "       [39.7],\n",
              "       [18.5],\n",
              "       [18.4],\n",
              "       [ 7.7],\n",
              "       [11.3],\n",
              "       [36.2],\n",
              "       [21.8],\n",
              "       [ 5.7],\n",
              "       [ 4. ]])"
            ]
          },
          "metadata": {
            "tags": []
          },
          "execution_count": 8
        }
      ]
    },
    {
      "cell_type": "code",
      "metadata": {
        "colab": {
          "base_uri": "https://localhost:8080/"
        },
        "id": "PMTBpOrdPBZ9",
        "outputId": "51ccc35a-6cc0-4447-da8e-6719f6dfe845"
      },
      "source": [
        "x_test"
      ],
      "execution_count": null,
      "outputs": [
        {
          "output_type": "execute_result",
          "data": {
            "text/plain": [
              "array([[ 8.6],\n",
              "       [21.6],\n",
              "       [ 6.2],\n",
              "       [ 5.6],\n",
              "       [23.3],\n",
              "       [ 9.5],\n",
              "       [ 2.2],\n",
              "       [11. ],\n",
              "       [34.1]])"
            ]
          },
          "metadata": {
            "tags": []
          },
          "execution_count": 9
        }
      ]
    },
    {
      "cell_type": "markdown",
      "metadata": {
        "id": "o0Ti3zt7-HT5"
      },
      "source": [
        "---\n",
        "\n",
        "# 2. Model i jego Trening\n",
        "\n",
        "---"
      ]
    },
    {
      "cell_type": "code",
      "metadata": {
        "id": "w1zixtxdPEw2"
      },
      "source": [
        "reg = LinearRegression().fit(x_train, y_train)"
      ],
      "execution_count": null,
      "outputs": []
    },
    {
      "cell_type": "markdown",
      "metadata": {
        "id": "gnABWI_d_x3H"
      },
      "source": [
        "### 2.1 Theta (θ0 i θ1)\n"
      ]
    },
    {
      "cell_type": "code",
      "metadata": {
        "colab": {
          "base_uri": "https://localhost:8080/"
        },
        "id": "EuA9XaG48B-7",
        "outputId": "a6dcc536-a374-492b-93fb-f91a3a3db415"
      },
      "source": [
        "print(reg.intercept_) # θ0"
      ],
      "execution_count": null,
      "outputs": [
        {
          "output_type": "stream",
          "text": [
            "13.900760376688911\n"
          ],
          "name": "stdout"
        }
      ]
    },
    {
      "cell_type": "code",
      "metadata": {
        "colab": {
          "base_uri": "https://localhost:8080/"
        },
        "id": "OuoWNdHA8HMc",
        "outputId": "7b12be90-308c-4067-8784-9e072ec55188"
      },
      "source": [
        "print(reg.coef_) # θ1"
      ],
      "execution_count": null,
      "outputs": [
        {
          "output_type": "stream",
          "text": [
            "[1.4337589]\n"
          ],
          "name": "stdout"
        }
      ]
    },
    {
      "cell_type": "markdown",
      "metadata": {
        "id": "ayIQKgb0Add_"
      },
      "source": [
        "### 2.2. Score"
      ]
    },
    {
      "cell_type": "code",
      "metadata": {
        "id": "x1ts2Hb8UMVB",
        "colab": {
          "base_uri": "https://localhost:8080/"
        },
        "outputId": "1abdaa39-bb35-41fc-c3e1-ab47b8fa0ac9"
      },
      "source": [
        "score = reg.score(x_train, y_train)\n",
        "print(score)"
      ],
      "execution_count": null,
      "outputs": [
        {
          "output_type": "stream",
          "text": [
            "0.34183590652932017\n"
          ],
          "name": "stdout"
        }
      ]
    },
    {
      "cell_type": "markdown",
      "metadata": {
        "id": "ck_X0gh3Aj_D"
      },
      "source": [
        "### 2.3. Wykresy dla zbiorów Test i Train, oraz krzywa regresji liniowej"
      ]
    },
    {
      "cell_type": "code",
      "metadata": {
        "colab": {
          "base_uri": "https://localhost:8080/",
          "height": 390
        },
        "id": "z5Q-k-L6SiDQ",
        "outputId": "a7130277-7695-4bdd-b766-501c52d583fc"
      },
      "source": [
        "plt.figure(figsize=(20,6))\n",
        "plt.scatter(x_test, y_test, color = 'red')\n",
        "plt.plot(x_test, reg.predict(x_test), color = 'blue')\n",
        "plt.title(\"Zbiór Test\")\n",
        "plt.show()"
      ],
      "execution_count": null,
      "outputs": [
        {
          "output_type": "display_data",
          "data": {
            "image/png": "[encoded data removed]",
            "text/plain": [
              "<Figure size 1440x432 with 1 Axes>"
            ]
          },
          "metadata": {
            "tags": [],
            "needs_background": "light"
          }
        }
      ]
    },
    {
      "cell_type": "code",
      "metadata": {
        "colab": {
          "base_uri": "https://localhost:8080/",
          "height": 390
        },
        "id": "U9CvTSU8SyiX",
        "outputId": "67d1d4af-0640-4e19-b9e7-050098f9c525"
      },
      "source": [
        "plt.figure(figsize=(20,6))\n",
        "plt.scatter(x_train, y_train, color = 'red')\n",
        "plt.plot(x_train, reg.predict(x_train), color = 'blue')\n",
        "plt.title(\"Zbiór Train (przy założeniu, że krzywa jest robiona na podstawie predykcji z Train)\")\n",
        "plt.show()"
      ],
      "execution_count": null,
      "outputs": [
        {
          "output_type": "display_data",
          "data": {
            "image/png": "[encoded data removed]",
            "text/plain": [
              "<Figure size 1440x432 with 1 Axes>"
            ]
          },
          "metadata": {
            "tags": [],
            "needs_background": "light"
          }
        }
      ]
    },
    {
      "cell_type": "code",
      "metadata": {
        "colab": {
          "base_uri": "https://localhost:8080/",
          "height": 390
        },
        "id": "aSfxPsbBBcer",
        "outputId": "40209e53-360a-450d-9e5e-2901bfd2757e"
      },
      "source": [
        "plt.figure(figsize=(20,6))\n",
        "plt.scatter(x_train, y_train, color = 'red')\n",
        "plt.scatter(x_test, y_test, color = 'green')\n",
        "plt.plot(x_test, reg.predict(x_test), color = 'blue')\n",
        "plt.title(\"Zbiór Train (Red) i zbiór Test (Green)\")\n",
        "plt.show()"
      ],
      "execution_count": null,
      "outputs": [
        {
          "output_type": "display_data",
          "data": {
            "image/png": "[encoded data removed]",
            "text/plain": [
              "<Figure size 1440x432 with 1 Axes>"
            ]
          },
          "metadata": {
            "tags": [],
            "needs_background": "light"
          }
        }
      ]
    },
    {
      "cell_type": "markdown",
      "metadata": {
        "id": "uoU31gN9BwOx"
      },
      "source": [
        "### 2.4. Predykcje na podstawie zbioru x_test"
      ]
    },
    {
      "cell_type": "code",
      "metadata": {
        "id": "TNoirHBFS_P_",
        "colab": {
          "base_uri": "https://localhost:8080/"
        },
        "outputId": "69aba0c4-7ff6-4dd2-e089-3bdcf00689e2"
      },
      "source": [
        "y_pred = reg.predict(x_test)\n",
        "y_pred"
      ],
      "execution_count": null,
      "outputs": [
        {
          "output_type": "execute_result",
          "data": {
            "text/plain": [
              "array([26.23108691, 44.8699526 , 22.79006555, 21.92981021, 47.30734273,\n",
              "       27.52146992, 17.05502995, 29.67210827, 62.79193884])"
            ]
          },
          "metadata": {
            "tags": []
          },
          "execution_count": 17
        }
      ]
    },
    {
      "cell_type": "code",
      "metadata": {
        "colab": {
          "base_uri": "https://localhost:8080/",
          "height": 328
        },
        "id": "zWK3z9DS8ds7",
        "outputId": "1d2ef72d-7e9e-4d14-b2a5-7560cce3f58b"
      },
      "source": [
        "test_df = pd.DataFrame({'Actual': y_test, 'Predicted': y_pred}) #Porównanie wartości prawidłowych z przewidzianymi\n",
        "test_df"
      ],
      "execution_count": null,
      "outputs": [
        {
          "output_type": "execute_result",
          "data": {
            "text/html": [
              "<div>\n",
              "<style scoped>\n",
              "    .dataframe tbody tr th:only-of-type {\n",
              "        vertical-align: middle;\n",
              "    }\n",
              "\n",
              "    .dataframe tbody tr th {\n",
              "        vertical-align: top;\n",
              "    }\n",
              "\n",
              "    .dataframe thead th {\n",
              "        text-align: right;\n",
              "    }\n",
              "</style>\n",
              "<table border=\"1\" class=\"dataframe\">\n",
              "  <thead>\n",
              "    <tr style=\"text-align: right;\">\n",
              "      <th></th>\n",
              "      <th>Actual</th>\n",
              "      <th>Predicted</th>\n",
              "    </tr>\n",
              "  </thead>\n",
              "  <tbody>\n",
              "    <tr>\n",
              "      <th>0</th>\n",
              "      <td>53</td>\n",
              "      <td>26.231087</td>\n",
              "    </tr>\n",
              "    <tr>\n",
              "      <th>1</th>\n",
              "      <td>31</td>\n",
              "      <td>44.869953</td>\n",
              "    </tr>\n",
              "    <tr>\n",
              "      <th>2</th>\n",
              "      <td>29</td>\n",
              "      <td>22.790066</td>\n",
              "    </tr>\n",
              "    <tr>\n",
              "      <th>3</th>\n",
              "      <td>23</td>\n",
              "      <td>21.929810</td>\n",
              "    </tr>\n",
              "    <tr>\n",
              "      <th>4</th>\n",
              "      <td>29</td>\n",
              "      <td>47.307343</td>\n",
              "    </tr>\n",
              "    <tr>\n",
              "      <th>5</th>\n",
              "      <td>44</td>\n",
              "      <td>27.521470</td>\n",
              "    </tr>\n",
              "    <tr>\n",
              "      <th>6</th>\n",
              "      <td>14</td>\n",
              "      <td>17.055030</td>\n",
              "    </tr>\n",
              "    <tr>\n",
              "      <th>7</th>\n",
              "      <td>75</td>\n",
              "      <td>29.672108</td>\n",
              "    </tr>\n",
              "    <tr>\n",
              "      <th>8</th>\n",
              "      <td>68</td>\n",
              "      <td>62.791939</td>\n",
              "    </tr>\n",
              "  </tbody>\n",
              "</table>\n",
              "</div>"
            ],
            "text/plain": [
              "   Actual  Predicted\n",
              "0      53  26.231087\n",
              "1      31  44.869953\n",
              "2      29  22.790066\n",
              "3      23  21.929810\n",
              "4      29  47.307343\n",
              "5      44  27.521470\n",
              "6      14  17.055030\n",
              "7      75  29.672108\n",
              "8      68  62.791939"
            ]
          },
          "metadata": {
            "tags": []
          },
          "execution_count": 18
        }
      ]
    },
    {
      "cell_type": "code",
      "metadata": {
        "colab": {
          "base_uri": "https://localhost:8080/"
        },
        "id": "KgkUPfHJEIkG",
        "outputId": "2cb85d0c-725b-4499-a1c9-c1f77f3a9609"
      },
      "source": [
        "reg.predict([[40.0]]) #Przykładowa predykcja dla 40.0"
      ],
      "execution_count": null,
      "outputs": [
        {
          "output_type": "execute_result",
          "data": {
            "text/plain": [
              "array([71.25111634])"
            ]
          },
          "metadata": {
            "tags": []
          },
          "execution_count": 19
        }
      ]
    },
    {
      "cell_type": "markdown",
      "metadata": {
        "id": "qE7WF1hRCMl9"
      },
      "source": [
        "### 2.5. Błąd średniokwadratowy"
      ]
    },
    {
      "cell_type": "code",
      "metadata": {
        "colab": {
          "base_uri": "https://localhost:8080/"
        },
        "id": "yN3NQDT59qyV",
        "outputId": "79c05dd0-bc8c-44bd-95de-695155319737"
      },
      "source": [
        "mn = mean_squared_error(y_test, y_pred)\n",
        "print(mn)"
      ],
      "execution_count": null,
      "outputs": [
        {
          "output_type": "stream",
          "text": [
            "405.1593905025542\n"
          ],
          "name": "stdout"
        }
      ]
    },
    {
      "cell_type": "markdown",
      "metadata": {
        "id": "4MbZ7lgLh69k"
      },
      "source": [
        "### 2.6. Wyniki predykcji dla 50,100 i 200"
      ]
    },
    {
      "cell_type": "code",
      "metadata": {
        "colab": {
          "base_uri": "https://localhost:8080/"
        },
        "id": "3VeC2cfVeOk5",
        "outputId": "2eadb770-64d4-4b3f-931b-8ae3e144de64"
      },
      "source": [
        "print(reg.predict([[50.0]])) #Przykładowa predykcja dla 50.0\n",
        "print(reg.predict([[100.0]])) #Przykładowa predykcja dla 100.0\n",
        "print(reg.predict([[200.0]])) #Przykładowa predykcja dla 200.0"
      ],
      "execution_count": null,
      "outputs": [
        {
          "output_type": "stream",
          "text": [
            "[85.58870534]\n",
            "[157.2766503]\n",
            "[300.65254022]\n"
          ],
          "name": "stdout"
        }
      ]
    },
    {
      "cell_type": "code",
      "metadata": {
        "id": "LJqIO3sMelhO"
      },
      "source": [
        ""
      ],
      "execution_count": null,
      "outputs": []
    }
  ]
}
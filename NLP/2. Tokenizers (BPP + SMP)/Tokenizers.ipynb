{
  "nbformat": 4,
  "nbformat_minor": 0,
  "metadata": {
    "colab": {
      "provenance": []
    },
    "kernelspec": {
      "name": "python3",
      "display_name": "Python 3"
    },
    "language_info": {
      "name": "python"
    },
    "widgets": {
      "application/vnd.jupyter.widget-state+json": {
        "22a542c671f6449588bb0e8e3d5725cf": {
          "model_module": "@jupyter-widgets/controls",
          "model_name": "HBoxModel",
          "model_module_version": "1.5.0",
          "state": {
            "_view_name": "HBoxView",
            "_dom_classes": [],
            "_model_name": "HBoxModel",
            "_view_module": "@jupyter-widgets/controls",
            "_model_module_version": "1.5.0",
            "_view_count": null,
            "_view_module_version": "1.5.0",
            "box_style": "",
            "layout": "IPY_MODEL_9b813b52f4df4e13b6217041aac2cefb",
            "_model_module": "@jupyter-widgets/controls",
            "children": [
              "IPY_MODEL_69d870632aa642ebb258c9d556b44935",
              "IPY_MODEL_245e925e8581452392a5087574f37fae",
              "IPY_MODEL_09453bbd24934f0999742bc59463489d"
            ]
          }
        },
        "9b813b52f4df4e13b6217041aac2cefb": {
          "model_module": "@jupyter-widgets/base",
          "model_name": "LayoutModel",
          "model_module_version": "1.2.0",
          "state": {
            "_view_name": "LayoutView",
            "grid_template_rows": null,
            "right": null,
            "justify_content": null,
            "_view_module": "@jupyter-widgets/base",
            "overflow": null,
            "_model_module_version": "1.2.0",
            "_view_count": null,
            "flex_flow": null,
            "width": null,
            "min_width": null,
            "border": null,
            "align_items": null,
            "bottom": null,
            "_model_module": "@jupyter-widgets/base",
            "top": null,
            "grid_column": null,
            "overflow_y": null,
            "overflow_x": null,
            "grid_auto_flow": null,
            "grid_area": null,
            "grid_template_columns": null,
            "flex": null,
            "_model_name": "LayoutModel",
            "justify_items": null,
            "grid_row": null,
            "max_height": null,
            "align_content": null,
            "visibility": null,
            "align_self": null,
            "height": null,
            "min_height": null,
            "padding": null,
            "grid_auto_rows": null,
            "grid_gap": null,
            "max_width": null,
            "order": null,
            "_view_module_version": "1.2.0",
            "grid_template_areas": null,
            "object_position": null,
            "object_fit": null,
            "grid_auto_columns": null,
            "margin": null,
            "display": null,
            "left": null
          }
        },
        "69d870632aa642ebb258c9d556b44935": {
          "model_module": "@jupyter-widgets/controls",
          "model_name": "HTMLModel",
          "model_module_version": "1.5.0",
          "state": {
            "_view_name": "HTMLView",
            "style": "IPY_MODEL_073857b214be4ddeb233afa157c0e50e",
            "_dom_classes": [],
            "description": "",
            "_model_name": "HTMLModel",
            "placeholder": "​",
            "_view_module": "@jupyter-widgets/controls",
            "_model_module_version": "1.5.0",
            "value": "100%",
            "_view_count": null,
            "_view_module_version": "1.5.0",
            "description_tooltip": null,
            "_model_module": "@jupyter-widgets/controls",
            "layout": "IPY_MODEL_ddefdfe921434d49956eddee520544ea"
          }
        },
        "245e925e8581452392a5087574f37fae": {
          "model_module": "@jupyter-widgets/controls",
          "model_name": "FloatProgressModel",
          "model_module_version": "1.5.0",
          "state": {
            "_view_name": "ProgressView",
            "style": "IPY_MODEL_00d55a817c6d4ac9ba51d01b1e02f1a2",
            "_dom_classes": [],
            "description": "",
            "_model_name": "FloatProgressModel",
            "bar_style": "success",
            "max": 1,
            "_view_module": "@jupyter-widgets/controls",
            "_model_module_version": "1.5.0",
            "value": 1,
            "_view_count": null,
            "_view_module_version": "1.5.0",
            "orientation": "horizontal",
            "min": 0,
            "description_tooltip": null,
            "_model_module": "@jupyter-widgets/controls",
            "layout": "IPY_MODEL_f099f4a556a24e8fb0b0d20f07175e2e"
          }
        },
        "09453bbd24934f0999742bc59463489d": {
          "model_module": "@jupyter-widgets/controls",
          "model_name": "HTMLModel",
          "model_module_version": "1.5.0",
          "state": {
            "_view_name": "HTMLView",
            "style": "IPY_MODEL_e31fd4bd98474fad97aa71ca38729f79",
            "_dom_classes": [],
            "description": "",
            "_model_name": "HTMLModel",
            "placeholder": "​",
            "_view_module": "@jupyter-widgets/controls",
            "_model_module_version": "1.5.0",
            "value": " 1/1 [00:00&lt;00:00, 21.33it/s]",
            "_view_count": null,
            "_view_module_version": "1.5.0",
            "description_tooltip": null,
            "_model_module": "@jupyter-widgets/controls",
            "layout": "IPY_MODEL_cdf6480af83545d4b8a247ce0c9cac4e"
          }
        },
        "073857b214be4ddeb233afa157c0e50e": {
          "model_module": "@jupyter-widgets/controls",
          "model_name": "DescriptionStyleModel",
          "model_module_version": "1.5.0",
          "state": {
            "_view_name": "StyleView",
            "_model_name": "DescriptionStyleModel",
            "description_width": "",
            "_view_module": "@jupyter-widgets/base",
            "_model_module_version": "1.5.0",
            "_view_count": null,
            "_view_module_version": "1.2.0",
            "_model_module": "@jupyter-widgets/controls"
          }
        },
        "ddefdfe921434d49956eddee520544ea": {
          "model_module": "@jupyter-widgets/base",
          "model_name": "LayoutModel",
          "model_module_version": "1.2.0",
          "state": {
            "_view_name": "LayoutView",
            "grid_template_rows": null,
            "right": null,
            "justify_content": null,
            "_view_module": "@jupyter-widgets/base",
            "overflow": null,
            "_model_module_version": "1.2.0",
            "_view_count": null,
            "flex_flow": null,
            "width": null,
            "min_width": null,
            "border": null,
            "align_items": null,
            "bottom": null,
            "_model_module": "@jupyter-widgets/base",
            "top": null,
            "grid_column": null,
            "overflow_y": null,
            "overflow_x": null,
            "grid_auto_flow": null,
            "grid_area": null,
            "grid_template_columns": null,
            "flex": null,
            "_model_name": "LayoutModel",
            "justify_items": null,
            "grid_row": null,
            "max_height": null,
            "align_content": null,
            "visibility": null,
            "align_self": null,
            "height": null,
            "min_height": null,
            "padding": null,
            "grid_auto_rows": null,
            "grid_gap": null,
            "max_width": null,
            "order": null,
            "_view_module_version": "1.2.0",
            "grid_template_areas": null,
            "object_position": null,
            "object_fit": null,
            "grid_auto_columns": null,
            "margin": null,
            "display": null,
            "left": null
          }
        },
        "00d55a817c6d4ac9ba51d01b1e02f1a2": {
          "model_module": "@jupyter-widgets/controls",
          "model_name": "ProgressStyleModel",
          "model_module_version": "1.5.0",
          "state": {
            "_view_name": "StyleView",
            "_model_name": "ProgressStyleModel",
            "description_width": "",
            "_view_module": "@jupyter-widgets/base",
            "_model_module_version": "1.5.0",
            "_view_count": null,
            "_view_module_version": "1.2.0",
            "bar_color": null,
            "_model_module": "@jupyter-widgets/controls"
          }
        },
        "f099f4a556a24e8fb0b0d20f07175e2e": {
          "model_module": "@jupyter-widgets/base",
          "model_name": "LayoutModel",
          "model_module_version": "1.2.0",
          "state": {
            "_view_name": "LayoutView",
            "grid_template_rows": null,
            "right": null,
            "justify_content": null,
            "_view_module": "@jupyter-widgets/base",
            "overflow": null,
            "_model_module_version": "1.2.0",
            "_view_count": null,
            "flex_flow": null,
            "width": null,
            "min_width": null,
            "border": null,
            "align_items": null,
            "bottom": null,
            "_model_module": "@jupyter-widgets/base",
            "top": null,
            "grid_column": null,
            "overflow_y": null,
            "overflow_x": null,
            "grid_auto_flow": null,
            "grid_area": null,
            "grid_template_columns": null,
            "flex": null,
            "_model_name": "LayoutModel",
            "justify_items": null,
            "grid_row": null,
            "max_height": null,
            "align_content": null,
            "visibility": null,
            "align_self": null,
            "height": null,
            "min_height": null,
            "padding": null,
            "grid_auto_rows": null,
            "grid_gap": null,
            "max_width": null,
            "order": null,
            "_view_module_version": "1.2.0",
            "grid_template_areas": null,
            "object_position": null,
            "object_fit": null,
            "grid_auto_columns": null,
            "margin": null,
            "display": null,
            "left": null
          }
        },
        "e31fd4bd98474fad97aa71ca38729f79": {
          "model_module": "@jupyter-widgets/controls",
          "model_name": "DescriptionStyleModel",
          "model_module_version": "1.5.0",
          "state": {
            "_view_name": "StyleView",
            "_model_name": "DescriptionStyleModel",
            "description_width": "",
            "_view_module": "@jupyter-widgets/base",
            "_model_module_version": "1.5.0",
            "_view_count": null,
            "_view_module_version": "1.2.0",
            "_model_module": "@jupyter-widgets/controls"
          }
        },
        "cdf6480af83545d4b8a247ce0c9cac4e": {
          "model_module": "@jupyter-widgets/base",
          "model_name": "LayoutModel",
          "model_module_version": "1.2.0",
          "state": {
            "_view_name": "LayoutView",
            "grid_template_rows": null,
            "right": null,
            "justify_content": null,
            "_view_module": "@jupyter-widgets/base",
            "overflow": null,
            "_model_module_version": "1.2.0",
            "_view_count": null,
            "flex_flow": null,
            "width": null,
            "min_width": null,
            "border": null,
            "align_items": null,
            "bottom": null,
            "_model_module": "@jupyter-widgets/base",
            "top": null,
            "grid_column": null,
            "overflow_y": null,
            "overflow_x": null,
            "grid_auto_flow": null,
            "grid_area": null,
            "grid_template_columns": null,
            "flex": null,
            "_model_name": "LayoutModel",
            "justify_items": null,
            "grid_row": null,
            "max_height": null,
            "align_content": null,
            "visibility": null,
            "align_self": null,
            "height": null,
            "min_height": null,
            "padding": null,
            "grid_auto_rows": null,
            "grid_gap": null,
            "max_width": null,
            "order": null,
            "_view_module_version": "1.2.0",
            "grid_template_areas": null,
            "object_position": null,
            "object_fit": null,
            "grid_auto_columns": null,
            "margin": null,
            "display": null,
            "left": null
          }
        }
      }
    }
  },
  "cells": [
    {
      "cell_type": "markdown",
      "metadata": {
        "id": "tEUPV8chkgCd"
      },
      "source": [
        "# 1. Przygotowanie Danych"
      ]
    },
    {
      "cell_type": "code",
      "metadata": {
        "id": "SjuhcTcTb27h"
      },
      "source": [
        "!pip install datasets"
      ],
      "execution_count": null,
      "outputs": []
    },
    {
      "cell_type": "code",
      "metadata": {
        "id": "BMAdUxGnbv2X"
      },
      "source": [
        "from pprint import pprint\n",
        "from datasets import list_datasets, load_dataset\n",
        "from sklearn.model_selection import train_test_split"
      ],
      "execution_count": null,
      "outputs": []
    },
    {
      "cell_type": "code",
      "metadata": {
        "id": "spU23yXXcHGN"
      },
      "source": [
        "list_datasets()"
      ],
      "execution_count": null,
      "outputs": []
    },
    {
      "cell_type": "code",
      "metadata": {
        "colab": {
          "base_uri": "https://localhost:8080/",
          "height": 84,
          "referenced_widgets": [
            "22a542c671f6449588bb0e8e3d5725cf",
            "9b813b52f4df4e13b6217041aac2cefb",
            "69d870632aa642ebb258c9d556b44935",
            "245e925e8581452392a5087574f37fae",
            "09453bbd24934f0999742bc59463489d",
            "073857b214be4ddeb233afa157c0e50e",
            "ddefdfe921434d49956eddee520544ea",
            "00d55a817c6d4ac9ba51d01b1e02f1a2",
            "f099f4a556a24e8fb0b0d20f07175e2e",
            "e31fd4bd98474fad97aa71ca38729f79",
            "cdf6480af83545d4b8a247ce0c9cac4e"
          ]
        },
        "id": "aAizLDbobw1y",
        "outputId": "53eed269-447c-449f-a28b-c54fdc8488a2"
      },
      "source": [
        "dataset = load_dataset(\"merve/folk-mythology-tales\")"
      ],
      "execution_count": null,
      "outputs": [
        {
          "output_type": "stream",
          "name": "stderr",
          "text": [
            "Using custom data configuration merve___folk-mythology-tales-7ad723422688336c\n",
            "Reusing dataset text (/root/.cache/huggingface/datasets/text/merve___folk-mythology-tales-7ad723422688336c/0.0.0/e16f44aa1b321ece1f87b07977cc5d70be93d69b20486d6dacd62e12cf25c9a5)\n"
          ]
        },
        {
          "output_type": "display_data",
          "data": {
            "application/vnd.jupyter.widget-view+json": {
              "model_id": "22a542c671f6449588bb0e8e3d5725cf",
              "version_minor": 0,
              "version_major": 2
            },
            "text/plain": [
              "  0%|          | 0/1 [00:00<?, ?it/s]"
            ]
          },
          "metadata": {}
        }
      ]
    },
    {
      "cell_type": "code",
      "metadata": {
        "colab": {
          "base_uri": "https://localhost:8080/"
        },
        "id": "OH96rlBIj0WL",
        "outputId": "4775eeff-d767-43fc-8dec-264ed346ff1d"
      },
      "source": [
        "dataset['train'], dataset['validation'] = dataset['train'].train_test_split(.2).values()"
      ],
      "execution_count": null,
      "outputs": [
        {
          "output_type": "stream",
          "name": "stderr",
          "text": [
            "Loading cached split indices for dataset at /root/.cache/huggingface/datasets/text/merve___folk-mythology-tales-7ad723422688336c/0.0.0/e16f44aa1b321ece1f87b07977cc5d70be93d69b20486d6dacd62e12cf25c9a5/cache-75d3e36d9141f8c9.arrow and /root/.cache/huggingface/datasets/text/merve___folk-mythology-tales-7ad723422688336c/0.0.0/e16f44aa1b321ece1f87b07977cc5d70be93d69b20486d6dacd62e12cf25c9a5/cache-aa93046626ebaad6.arrow\n"
          ]
        }
      ]
    },
    {
      "cell_type": "code",
      "metadata": {
        "id": "HeCW9d6rkByu"
      },
      "source": [
        "dataset['validation'], dataset['test'] = dataset['validation'].train_test_split(.5).values()"
      ],
      "execution_count": null,
      "outputs": []
    },
    {
      "cell_type": "code",
      "metadata": {
        "colab": {
          "base_uri": "https://localhost:8080/"
        },
        "id": "rp572FRDch1Z",
        "outputId": "32ca6985-7be1-4a9e-f334-d40ec8d50302"
      },
      "source": [
        "print(dataset)"
      ],
      "execution_count": null,
      "outputs": [
        {
          "output_type": "stream",
          "name": "stdout",
          "text": [
            "DatasetDict({\n",
            "    train: Dataset({\n",
            "        features: ['text'],\n",
            "        num_rows: 197592\n",
            "    })\n",
            "    validation: Dataset({\n",
            "        features: ['text'],\n",
            "        num_rows: 24699\n",
            "    })\n",
            "    test: Dataset({\n",
            "        features: ['text'],\n",
            "        num_rows: 24700\n",
            "    })\n",
            "})\n"
          ]
        }
      ]
    },
    {
      "cell_type": "code",
      "metadata": {
        "id": "FMVtuSMmdRbd"
      },
      "source": [
        "def prepare_data_set(data_set_name: str):\n",
        "  print(f'Processing {data_set_name} set')\n",
        "  data_set = dataset[data_set_name]\n",
        "\n",
        "  with open(f'{data_set_name}.txt', 'wt') as f_write:\n",
        "    for document_dict in data_set:\n",
        "      f_write.write(document_dict['text'] + '\\n')\n",
        "\n",
        "  print(f'Loaded {len(data_set)} documents from {data_set_name}')"
      ],
      "execution_count": null,
      "outputs": []
    },
    {
      "cell_type": "code",
      "metadata": {
        "colab": {
          "base_uri": "https://localhost:8080/"
        },
        "id": "2jJswPpadUco",
        "outputId": "049ff93a-ea41-49d0-ebdd-bdaaeaed9cc8"
      },
      "source": [
        "prepare_data_set('train')\n",
        "prepare_data_set('validation')\n",
        "prepare_data_set('test')"
      ],
      "execution_count": null,
      "outputs": [
        {
          "output_type": "stream",
          "name": "stdout",
          "text": [
            "Processing train set\n",
            "Loaded 197592 documents from train\n",
            "Processing validation set\n",
            "Loaded 24699 documents from validation\n",
            "Processing test set\n",
            "Loaded 24700 documents from test\n"
          ]
        }
      ]
    },
    {
      "cell_type": "code",
      "metadata": {
        "colab": {
          "base_uri": "https://localhost:8080/"
        },
        "id": "g5k8F5AkdWiA",
        "outputId": "f51857e9-4e8b-41f3-8087-e34a967f28d5"
      },
      "source": [
        "!ls -lh train.txt validation.txt test.txt"
      ],
      "execution_count": null,
      "outputs": [
        {
          "output_type": "stream",
          "name": "stdout",
          "text": [
            "-rw-r--r-- 1 root root 1.2M Nov 30 15:18 test.txt\n",
            "-rw-r--r-- 1 root root 9.6M Nov 30 15:18 train.txt\n",
            "-rw-r--r-- 1 root root 1.2M Nov 30 15:18 validation.txt\n"
          ]
        }
      ]
    },
    {
      "cell_type": "code",
      "metadata": {
        "colab": {
          "base_uri": "https://localhost:8080/"
        },
        "id": "sDY_VMAJkXD9",
        "outputId": "843c5c0a-8289-4bbb-fdd2-e442eea5aef9"
      },
      "source": [
        "!head train.txt"
      ],
      "execution_count": null,
      "outputs": [
        {
          "output_type": "stream",
          "name": "stdout",
          "text": [
            "\n",
            "\"The three legs of it looks mighty quare stickin' up,\" says she.\n",
            "The young lady stopped at this door, and knocked gently; whereupon both\n",
            "would take no refusal, but implored her to have pity on him, promising\n",
            " The Bul. Edit. gives by mistake of diacritical points,\n",
            "Peronnik was a poor idiot who belonged to nobody, and he would have died\n",
            "In the farmhouse lived a young married couple; they loved each\n",
            "and prayed a two bow prayer, a thanksgiving to God for my\n",
            "coming to the rescue in their dire need, and then besought him to\n",
            "\n"
          ]
        }
      ]
    },
    {
      "cell_type": "code",
      "metadata": {
        "colab": {
          "base_uri": "https://localhost:8080/"
        },
        "id": "yVyLCp-jkZY9",
        "outputId": "8caac596-9bc4-474f-a3e2-a8c0e63f8489"
      },
      "source": [
        "!head test.txt"
      ],
      "execution_count": null,
      "outputs": [
        {
          "output_type": "stream",
          "name": "stdout",
          "text": [
            "asked her husband.--Arise she answered, and take him in thy bosom, and\n",
            "\n",
            "got up, and bringing Far Rua out, \"Are you strong?\" said he.\n",
            "'and then? what happens then?'\n",
            "\n",
            "suffered us not to remain so! Thus they did until the morning, when the\n",
            "\n",
            "\n",
            "\n",
            " Khaleefehs; or the Four Welees (eminent saints), the seyyid\n"
          ]
        }
      ]
    },
    {
      "cell_type": "code",
      "metadata": {
        "colab": {
          "base_uri": "https://localhost:8080/"
        },
        "id": "uUPh9Cn9kpmv",
        "outputId": "d906f4b0-afff-404e-ab5d-741c53b7aca7"
      },
      "source": [
        "!head validation.txt"
      ],
      "execution_count": null,
      "outputs": [
        {
          "output_type": "stream",
          "name": "stdout",
          "text": [
            "they also would put her out of the town. But this did not content the\n",
            "\n",
            "the prince himself, who lay stretched out on his bed with his eyes\n",
            "That in the text stood to the east of the principal street in\n",
            "guards came to them, and put chains upon their necks, and upon my neck\n",
            "discover any thing; and having turned his head about on every side, he\n",
            "During the whole of the week Irene had been thinking every other moment\n",
            "king to slay her. 'But he would not do that,' she continued softly, 'and\n",
            "into the locks she said:\n",
            "was with you, I thought not of that, but always--you know it well--when\n"
          ]
        }
      ]
    },
    {
      "cell_type": "markdown",
      "metadata": {
        "id": "-hsV1stVktpQ"
      },
      "source": [
        "# 2. Stworzenie i trenowanie Tokenizerów"
      ]
    },
    {
      "cell_type": "code",
      "metadata": {
        "colab": {
          "base_uri": "https://localhost:8080/"
        },
        "id": "NyX3iZLXk_6C",
        "outputId": "be1145cd-5302-42cf-f022-7eb2682e35b2"
      },
      "source": [
        "!pip install tokenizers"
      ],
      "execution_count": null,
      "outputs": [
        {
          "output_type": "stream",
          "name": "stdout",
          "text": [
            "Requirement already satisfied: tokenizers in /usr/local/lib/python3.7/dist-packages (0.10.3)\n"
          ]
        }
      ]
    },
    {
      "cell_type": "code",
      "metadata": {
        "id": "dKuovn-Rkre1"
      },
      "source": [
        "from tokenizers import ByteLevelBPETokenizer, CharBPETokenizer, SentencePieceUnigramTokenizer"
      ],
      "execution_count": null,
      "outputs": []
    },
    {
      "cell_type": "code",
      "metadata": {
        "id": "MZcj4tlpk8EU"
      },
      "source": [
        "unk_token = \"[UNK]\"\n",
        "special_tokens = [unk_token, \"[CLS]\", \"[SEP]\", \"[PAD]\", \"[MASK]\"]"
      ],
      "execution_count": null,
      "outputs": []
    },
    {
      "cell_type": "code",
      "metadata": {
        "id": "mR2tLy9vlHN8"
      },
      "source": [
        "files = [\"train.txt\"]"
      ],
      "execution_count": null,
      "outputs": []
    },
    {
      "cell_type": "code",
      "metadata": {
        "id": "f-a9EIHylINF"
      },
      "source": [
        "vocab_size = 5_000"
      ],
      "execution_count": null,
      "outputs": []
    },
    {
      "cell_type": "code",
      "metadata": {
        "id": "YfQVi9tXlJ6N"
      },
      "source": [
        "!mkdir -p out out/bpe_char out/bpe_byte out/spm"
      ],
      "execution_count": null,
      "outputs": []
    },
    {
      "cell_type": "markdown",
      "metadata": {
        "id": "Evg8k-V3lXmY"
      },
      "source": [
        "## 2.1 Char BPE"
      ]
    },
    {
      "cell_type": "code",
      "metadata": {
        "id": "i-ywYd-HlMWd"
      },
      "source": [
        "bpe_char = CharBPETokenizer(unk_token=unk_token)"
      ],
      "execution_count": null,
      "outputs": []
    },
    {
      "cell_type": "code",
      "metadata": {
        "id": "QXOb8fcFlk1l"
      },
      "source": [
        "bpe_char.train(files=files, vocab_size=vocab_size, min_frequency=15, special_tokens=special_tokens, show_progress=True)"
      ],
      "execution_count": null,
      "outputs": []
    },
    {
      "cell_type": "code",
      "metadata": {
        "colab": {
          "base_uri": "https://localhost:8080/"
        },
        "id": "-v9BxnjRlmJm",
        "outputId": "67832939-b307-484d-ead0-0d3762106638"
      },
      "source": [
        "bpe_char.save_model('out/bpe_char')"
      ],
      "execution_count": null,
      "outputs": [
        {
          "output_type": "execute_result",
          "data": {
            "text/plain": [
              "['out/bpe_char/vocab.json', 'out/bpe_char/merges.txt']"
            ]
          },
          "metadata": {},
          "execution_count": 22
        }
      ]
    },
    {
      "cell_type": "code",
      "metadata": {
        "colab": {
          "base_uri": "https://localhost:8080/"
        },
        "id": "uOJIKbk6ln0O",
        "outputId": "60cbed3d-01f5-46cc-f580-8629372f54a1"
      },
      "source": [
        "!ls -lh out/bpe_char"
      ],
      "execution_count": null,
      "outputs": [
        {
          "output_type": "stream",
          "name": "stdout",
          "text": [
            "total 124K\n",
            "-rw-r--r-- 1 root root 45K Nov 30 15:19 merges.txt\n",
            "-rw-r--r-- 1 root root 74K Nov 30 15:19 vocab.json\n"
          ]
        }
      ]
    },
    {
      "cell_type": "markdown",
      "metadata": {
        "id": "iMQ0C4U5lv0Y"
      },
      "source": [
        "## 2.2 Byte BPE"
      ]
    },
    {
      "cell_type": "code",
      "metadata": {
        "id": "c2nEuKk0lpL2"
      },
      "source": [
        "bpe_byte = ByteLevelBPETokenizer()"
      ],
      "execution_count": null,
      "outputs": []
    },
    {
      "cell_type": "code",
      "metadata": {
        "id": "0JQx6MVdlyvV"
      },
      "source": [
        "bpe_byte.train(files=files, vocab_size=vocab_size, min_frequency=15, special_tokens=special_tokens, show_progress=True)"
      ],
      "execution_count": null,
      "outputs": []
    },
    {
      "cell_type": "code",
      "metadata": {
        "colab": {
          "base_uri": "https://localhost:8080/"
        },
        "id": "XUftKzBIl0G1",
        "outputId": "2cf5c6a2-eb08-473c-eb21-a915c8168854"
      },
      "source": [
        "bpe_byte.save_model('out/bpe_byte')"
      ],
      "execution_count": null,
      "outputs": [
        {
          "output_type": "execute_result",
          "data": {
            "text/plain": [
              "['out/bpe_byte/vocab.json', 'out/bpe_byte/merges.txt']"
            ]
          },
          "metadata": {},
          "execution_count": 26
        }
      ]
    },
    {
      "cell_type": "code",
      "metadata": {
        "colab": {
          "base_uri": "https://localhost:8080/"
        },
        "id": "aEg_JTc4l1Zm",
        "outputId": "21a3b1a7-a66e-4c23-c42a-30dc3b7dcd73"
      },
      "source": [
        "!ls -lh out/bpe_byte"
      ],
      "execution_count": null,
      "outputs": [
        {
          "output_type": "stream",
          "name": "stdout",
          "text": [
            "total 104K\n",
            "-rw-r--r-- 1 root root 36K Nov 30 15:19 merges.txt\n",
            "-rw-r--r-- 1 root root 65K Nov 30 15:19 vocab.json\n"
          ]
        }
      ]
    },
    {
      "cell_type": "markdown",
      "metadata": {
        "id": "0bs8TD2XmCl2"
      },
      "source": [
        "## 2.3 SMP Unigram"
      ]
    },
    {
      "cell_type": "code",
      "metadata": {
        "id": "Ev26wZXZl2TF"
      },
      "source": [
        "spm = SentencePieceUnigramTokenizer()"
      ],
      "execution_count": null,
      "outputs": []
    },
    {
      "cell_type": "code",
      "metadata": {
        "id": "3TJ4OFB5mGp2"
      },
      "source": [
        "spm.train(files=files, vocab_size=vocab_size, special_tokens=special_tokens, show_progress=True)"
      ],
      "execution_count": null,
      "outputs": []
    },
    {
      "cell_type": "code",
      "metadata": {
        "colab": {
          "base_uri": "https://localhost:8080/"
        },
        "id": "Jt9H0imTmH6k",
        "outputId": "a29634d5-910c-466b-fb00-fb572e41e2e2"
      },
      "source": [
        "spm.save_model('out/spm')"
      ],
      "execution_count": null,
      "outputs": [
        {
          "output_type": "execute_result",
          "data": {
            "text/plain": [
              "['out/spm/unigram.json']"
            ]
          },
          "metadata": {},
          "execution_count": 30
        }
      ]
    },
    {
      "cell_type": "code",
      "metadata": {
        "colab": {
          "base_uri": "https://localhost:8080/"
        },
        "id": "tdfQj2_NmJJ0",
        "outputId": "f587a09d-4b18-4b85-f7bb-90ae33dcccd0"
      },
      "source": [
        "!ls -lh out/spm"
      ],
      "execution_count": null,
      "outputs": [
        {
          "output_type": "stream",
          "name": "stdout",
          "text": [
            "total 280K\n",
            "-rw-r--r-- 1 root root 277K Nov 30 15:19 unigram.json\n"
          ]
        }
      ]
    },
    {
      "cell_type": "markdown",
      "metadata": {
        "id": "3-KHaEGMmUW8"
      },
      "source": [
        "## 3. Porównanie Tokenizerów"
      ]
    },
    {
      "cell_type": "code",
      "metadata": {
        "id": "tgcsyJYNmKjU"
      },
      "source": [
        "text_test_1 = 'delighted with him that she would take him up to the farm at once to the queens were by this time more than a yard long, and they did not.'\n",
        "text_test_2 = 'He agreed delight, and remitted the remaining third of his claim to the merchants.'\n",
        "text_test_3 = 'this new difficulty? With bowed head, and feeling very sad, he sat down.'\n",
        "text_test_4 = 'where to lead the sheep to the sweetest pastures, and where among the'\n",
        "text_test_5 = 'She then cried out, and suddenly ten female slaves came to me, and threw'"
      ],
      "execution_count": null,
      "outputs": []
    },
    {
      "cell_type": "code",
      "metadata": {
        "id": "HnfC-JlamcZk"
      },
      "source": [
        "def print_encoded(tokens):\n",
        "  print(f'[{len(tokens)}]', ' '.join(tokens))"
      ],
      "execution_count": null,
      "outputs": []
    },
    {
      "cell_type": "markdown",
      "metadata": {
        "id": "mDcEOJOjn_0p"
      },
      "source": [
        "## 3.1 Char BPE"
      ]
    },
    {
      "cell_type": "code",
      "metadata": {
        "colab": {
          "base_uri": "https://localhost:8080/"
        },
        "id": "Fx_G4uaomcwF",
        "outputId": "f15f03b0-b848-4551-d362-87b50bae353e"
      },
      "source": [
        "encoded = bpe_char.encode(text_test_1)\n",
        "print_encoded(encoded.tokens)\n",
        "\n",
        "encoded = bpe_char.encode(text_test_2)\n",
        "print_encoded(encoded.tokens)\n",
        "\n",
        "encoded = bpe_char.encode(text_test_3)\n",
        "print_encoded(encoded.tokens)\n",
        "\n",
        "encoded = bpe_char.encode(text_test_4)\n",
        "print_encoded(encoded.tokens)\n",
        "\n",
        "encoded = bpe_char.encode(text_test_5)\n",
        "print_encoded(encoded.tokens)"
      ],
      "execution_count": null,
      "outputs": [
        {
          "output_type": "stream",
          "name": "stdout",
          "text": [
            "[33] delighted</w> with</w> him</w> that</w> she</w> would</w> take</w> him</w> up</w> to</w> the</w> farm</w> at</w> once</w> to</w> the</w> que ens</w> were</w> by</w> this</w> time</w> more</w> than</w> a</w> yard</w> long</w> ,</w> and</w> they</w> did</w> not</w> .</w>\n",
            "[18] He</w> agreed</w> delight</w> ,</w> and</w> re mitted</w> the</w> rema ining</w> third</w> of</w> his</w> claim</w> to</w> the</w> merchants</w> .</w>\n",
            "[17] this</w> new</w> difficulty</w> ?</w> With</w> bowed</w> head</w> ,</w> and</w> feeling</w> very</w> sad</w> ,</w> he</w> sat</w> down</w> .</w>\n",
            "[17] where</w> to</w> lead</w> the</w> sheep</w> to</w> the</w> swee test</w> pa stu res</w> ,</w> and</w> where</w> among</w> the</w>\n",
            "[16] She</w> then</w> cried</w> out</w> ,</w> and</w> suddenly</w> ten</w> female</w> slaves</w> came</w> to</w> me</w> ,</w> and</w> threw</w>\n"
          ]
        }
      ]
    },
    {
      "cell_type": "code",
      "metadata": {
        "colab": {
          "base_uri": "https://localhost:8080/"
        },
        "id": "snFH1FDTmh_l",
        "outputId": "7d1540a4-1538-4c88-efd4-9b9a1fd85ad1"
      },
      "source": [
        "encoded = bpe_char.encode('Misunderstandings')\n",
        "print_encoded(encoded.tokens)\n",
        "\n",
        "encoded = bpe_char.encode('Consanguineous')\n",
        "print_encoded(encoded.tokens)\n",
        "\n",
        "encoded = bpe_char.encode('Psychotomimetic')\n",
        "print_encoded(encoded.tokens)"
      ],
      "execution_count": null,
      "outputs": [
        {
          "output_type": "stream",
          "name": "stdout",
          "text": [
            "[5] M is under stan dings</w>\n",
            "[5] Con san gu ine ous</w>\n",
            "[7] P sy cho to mi me tic</w>\n"
          ]
        }
      ]
    },
    {
      "cell_type": "markdown",
      "metadata": {
        "id": "ODvIxCeNoFMU"
      },
      "source": [
        "## 3.2 Byte BPE"
      ]
    },
    {
      "cell_type": "code",
      "metadata": {
        "colab": {
          "base_uri": "https://localhost:8080/"
        },
        "id": "bFu1cXFGmoM1",
        "outputId": "5803ea14-a7cf-4811-b614-7988c665e266"
      },
      "source": [
        "encoded = bpe_byte.encode(text_test_1)\n",
        "print_encoded(encoded.tokens)\n",
        "\n",
        "encoded = bpe_byte.encode(text_test_2)\n",
        "print_encoded(encoded.tokens)\n",
        "\n",
        "encoded = bpe_byte.encode(text_test_3)\n",
        "print_encoded(encoded.tokens)\n",
        "\n",
        "encoded = bpe_byte.encode(text_test_4)\n",
        "print_encoded(encoded.tokens)\n",
        "\n",
        "encoded = bpe_byte.encode(text_test_5)\n",
        "print_encoded(encoded.tokens)"
      ],
      "execution_count": null,
      "outputs": [
        {
          "output_type": "stream",
          "name": "stdout",
          "text": [
            "[34] del ighted Ġwith Ġhim Ġthat Ġshe Ġwould Ġtake Ġhim Ġup Ġto Ġthe Ġfarm Ġat Ġonce Ġto Ġthe Ġqueen s Ġwere Ġby Ġthis Ġtime Ġmore Ġthan Ġa Ġyard Ġlong , Ġand Ġthey Ġdid Ġnot .\n",
            "[18] He Ġagreed Ġdelight , Ġand Ġrem itted Ġthe Ġremain ing Ġthird Ġof Ġhis Ġclaim Ġto Ġthe Ġmerchants .\n",
            "[17] this Ġnew Ġdifficulty ? ĠWith Ġbowed Ġhead , Ġand Ġfeeling Ġvery Ġsad , Ġhe Ġsat Ġdown .\n",
            "[16] where Ġto Ġlead Ġthe Ġsheep Ġto Ġthe Ġsweet est Ġpast ures , Ġand Ġwhere Ġamong Ġthe\n",
            "[16] She Ġthen Ġcried Ġout , Ġand Ġsuddenly Ġten Ġfemale Ġslaves Ġcame Ġto Ġme , Ġand Ġthrew\n"
          ]
        }
      ]
    },
    {
      "cell_type": "code",
      "metadata": {
        "colab": {
          "base_uri": "https://localhost:8080/"
        },
        "id": "8L4tPBpxmtCd",
        "outputId": "9d404bb7-9f03-4e21-8375-4ec940758983"
      },
      "source": [
        "encoded = bpe_byte.encode('Misunderstandings')\n",
        "print_encoded(encoded.tokens)\n",
        "\n",
        "encoded = bpe_byte.encode('Consanguineous')\n",
        "print_encoded(encoded.tokens)\n",
        "\n",
        "encoded = bpe_byte.encode('Psychotomimetic')\n",
        "print_encoded(encoded.tokens)"
      ],
      "execution_count": null,
      "outputs": [
        {
          "output_type": "stream",
          "name": "stdout",
          "text": [
            "[5] M is under stand ings\n",
            "[5] C ons angu ine ous\n",
            "[8] P sy ch ot om im et ic\n"
          ]
        }
      ]
    },
    {
      "cell_type": "markdown",
      "metadata": {
        "id": "I9hgApNQoF46"
      },
      "source": [
        "## 3.3 SMP Unigram"
      ]
    },
    {
      "cell_type": "code",
      "metadata": {
        "colab": {
          "base_uri": "https://localhost:8080/"
        },
        "id": "NLtmAZNemusk",
        "outputId": "4cc1e452-7b12-4bb6-c839-6cb763260ade"
      },
      "source": [
        "encoded = spm.encode(text_test_1)\n",
        "print_encoded(encoded.tokens)\n",
        "\n",
        "encoded = spm.encode(text_test_2)\n",
        "print_encoded(encoded.tokens)\n",
        "\n",
        "encoded = spm.encode(text_test_3)\n",
        "print_encoded(encoded.tokens)\n",
        "\n",
        "encoded = spm.encode(text_test_4)\n",
        "print_encoded(encoded.tokens)\n",
        "\n",
        "encoded = spm.encode(text_test_5)\n",
        "print_encoded(encoded.tokens)"
      ],
      "execution_count": null,
      "outputs": [
        {
          "output_type": "stream",
          "name": "stdout",
          "text": [
            "[32] ▁delighted ▁with ▁him ▁that ▁she ▁would ▁take ▁him ▁up ▁to ▁the ▁farm ▁at ▁once ▁to ▁the ▁queen s ▁were ▁by ▁this ▁time ▁more ▁than ▁a ▁yard ▁long, ▁and ▁they ▁did ▁not .\n",
            "[21] ▁He ▁agreed ▁delight , ▁and ▁ re m it ted ▁the ▁remain ing ▁third ▁of ▁his ▁claim ▁to ▁the ▁merchants .\n",
            "[16] ▁this ▁new ▁difficulty ? ▁With ▁bowed ▁head, ▁and ▁feeling ▁very ▁sad , ▁he ▁sat ▁down .\n",
            "[16] ▁where ▁to ▁lead ▁the ▁sheep ▁to ▁the ▁sweet est ▁past ure s, ▁and ▁where ▁among ▁the\n",
            "[14] ▁She ▁then ▁cried ▁out, ▁and ▁suddenly ▁ten ▁female ▁slaves ▁came ▁to ▁me, ▁and ▁threw\n"
          ]
        }
      ]
    },
    {
      "cell_type": "code",
      "metadata": {
        "colab": {
          "base_uri": "https://localhost:8080/"
        },
        "id": "pfUf4cp2mxyF",
        "outputId": "b325821d-8005-409c-cbe8-acfaa5cca3fa"
      },
      "source": [
        "encoded = spm.encode('Misunderstandings')\n",
        "print_encoded(encoded.tokens)\n",
        "\n",
        "encoded = spm.encode('Consanguineous')\n",
        "print_encoded(encoded.tokens)\n",
        "\n",
        "encoded = spm.encode('Psychotomimetic')\n",
        "print_encoded(encoded.tokens)"
      ],
      "execution_count": null,
      "outputs": [
        {
          "output_type": "stream",
          "name": "stdout",
          "text": [
            "[8] ▁M is un der st and ing s\n",
            "[8] ▁Con s an g u in e ous\n",
            "[9] ▁P s y ch o to mi me tic\n"
          ]
        }
      ]
    },
    {
      "cell_type": "markdown",
      "metadata": {
        "id": "evdnnnV_oMcZ"
      },
      "source": [
        "# 3.4 Wnioski z porównania"
      ]
    },
    {
      "cell_type": "markdown",
      "metadata": {
        "id": "J0srLQuUtCJ7"
      },
      "source": [
        "### 3.4.1. Zdania"
      ]
    },
    {
      "cell_type": "markdown",
      "metadata": {
        "id": "F5ogw4pProyd"
      },
      "source": [
        "Dla zdania:\n",
        "\n",
        "```\n",
        "delighted with him that she would take him up to the farm at once to the queens were by this time more than a yard long, and they did not.\n",
        "```\n",
        "\n",
        "można zobaczyć, że słowo `queens` zostało rozbite na 3 sposoby (z pominięciem znaków `</w>`, `Ġ` oraz `▁`):\n",
        "- `que ens` - 2 tokeny - dla tokenizera BPE opartego o znakach\n",
        "- `queen s` - 2 tokeny - dla tokenizera BPE opartego o bajtach\n",
        "- `queen s` - 2 tokeny - dla tokenizera opartego o Unigramowy Model Języka\n",
        "\n",
        "można zobaczyć, że słowo `delighted` zostało rozbite na 1 sposób (z pominięciem znaków `</w>`, `Ġ` oraz `▁`):\n",
        "- `del ighted` - 2 tokeny - dla tokenizera BPE opartego o bajtach"
      ]
    },
    {
      "cell_type": "markdown",
      "metadata": {
        "id": "_mdkmprdrsVS"
      },
      "source": [
        "Dla zdania:\n",
        "\n",
        "```\n",
        "He agreed delight, and remitted the remaining third of his claim to the merchants.\n",
        "```\n",
        "\n",
        "można zobaczyć, że słowo `remitted` zostało rozbite na 3 sposoby (z pominięciem znaków `</w>`, `Ġ` oraz `▁`):\n",
        "- `re mitted` - 2 tokeny - dla tokenizera BPE opartego o znakach\n",
        "- `rem itted` - 2 tokeny - dla tokenizera BPE opartego o bajtach\n",
        "- `re m it ted` - 4 tokeny - dla tokenizera opartego o Unigramowy Model Języka\n",
        "\n",
        "można zobaczyć, że słowo `remaining` zostało rozbite na 3 sposoby (z pominięciem znaków `</w>`, `Ġ` oraz `▁`):\n",
        "- `rema ining` - 2 tokeny - dla tokenizera BPE opartego o znakach\n",
        "- `remain ing` - 2 tokeny - dla tokenizera BPE opartego o bajtach\n",
        "- `remain ing` - 2 tokeny - dla tokenizera opartego o Unigramowy Model Języka\n",
        "\n"
      ]
    },
    {
      "cell_type": "markdown",
      "metadata": {
        "id": "ZK5GgkuJrzaZ"
      },
      "source": [
        "Dla zdania:\n",
        "\n",
        "```\n",
        "this new difficulty? With bowed head, and feeling very sad, he sat down.\n",
        "```\n",
        "\n",
        "Brak rozbić"
      ]
    },
    {
      "cell_type": "markdown",
      "metadata": {
        "id": "XLN8HB2urzyl"
      },
      "source": [
        "Dla zdania:\n",
        "\n",
        "```\n",
        "where to lead the sheep to the sweetest pastures, and where among the\n",
        "```\n",
        "\n",
        "można zobaczyć, że słowo `pastures` zostało rozbite na 3 sposoby (z pominięciem znaków `</w>`, `Ġ` oraz `▁`):\n",
        "- `pa stu res` - 3 tokeny - dla tokenizera BPE opartego o znakach\n",
        "- `past ures` - 2 tokeny - dla tokenizera BPE opartego o bajtach\n",
        "- `past ure s` - 3 tokeny - dla tokenizera opartego o Unigramowy Model Języka\n",
        "\n",
        "można zobaczyć, że słowo `sweetest` zostało rozbite na 3 sposoby (z pominięciem znaków `</w>`, `Ġ` oraz `▁`):\n",
        "- `swee test` - 2 tokeny - dla tokenizera BPE opartego o znakach\n",
        "- `sweet est` - 2 tokeny - dla tokenizera BPE opartego o bajtach\n",
        "- `sweet est` - 2 tokeny - dla tokenizera opartego o Unigramowy Model Języka\n",
        "\n"
      ]
    },
    {
      "cell_type": "markdown",
      "metadata": {
        "id": "1mvaJzz-rz7W"
      },
      "source": [
        "Dla zdania:\n",
        "\n",
        "```\n",
        "She then cried out, and suddenly ten female slaves came to me, and threw\n",
        "```\n",
        "\n",
        "Brak rozbić"
      ]
    },
    {
      "cell_type": "markdown",
      "metadata": {
        "id": "VQB1f_CltGEs"
      },
      "source": [
        "### 3.4.2. Słowa"
      ]
    },
    {
      "cell_type": "markdown",
      "metadata": {
        "id": "GtQy4sCNr0sA"
      },
      "source": [
        "Dla słowa:\n",
        "\n",
        "```\n",
        "Misunderstandings\n",
        "```\n",
        "\n",
        "można zobaczyć, że zostało ono rozbite na 3 sposoby (z pominięciem znaków `</w>`, `Ġ` oraz `▁`):\n",
        "- `M is under stan dings` - 5 tokenów - dla tokenizera BPE opartego o znakach\n",
        "- `M is under stand ings` - 5 tokeny - dla tokenizera BPE opartego o bajtach\n",
        "- `M is un der st and ing s` - 8 tokenów - dla tokenizera opartego o Unigramowy Model Języka"
      ]
    },
    {
      "cell_type": "markdown",
      "metadata": {
        "id": "qFg6LFVKr3v_"
      },
      "source": [
        "Dla słowa:\n",
        "\n",
        "```\n",
        "Consanguineous\n",
        "```\n",
        "\n",
        "można zobaczyć, że zostało ono rozbite na 3 sposoby (z pominięciem znaków `</w>`, `Ġ` oraz `▁`):\n",
        "- `Con san gu ine ous` - 5 tokenów - dla tokenizera BPE opartego o znakach\n",
        "- `C ons angu ine ous` - 5 tokenów - dla tokenizera BPE opartego o bajtach\n",
        "- `Con s an g u in e ous` - 8 tokenów - dla tokenizera opartego o Unigramowy Model Języka"
      ]
    },
    {
      "cell_type": "markdown",
      "metadata": {
        "id": "DyiYQ023r4EL"
      },
      "source": [
        "Dla słowa:\n",
        "\n",
        "```\n",
        "Psychotomimetic\n",
        "```\n",
        "\n",
        "można zobaczyć, że zostało ono rozbite na 3 sposoby (z pominięciem znaków `</w>`, `Ġ` oraz `▁`):\n",
        "- `P sy cho to mi me tic` - 7 tokenów - dla tokenizera BPE opartego o znakach\n",
        "- `P sy ch ot om im et ic` - 8 tokenów - dla tokenizera BPE opartego o bajtach\n",
        "- `P s y ch o to mi me tic` - 9 tokenów - dla tokenizera opartego o Unigramowy Model Języka"
      ]
    },
    {
      "cell_type": "markdown",
      "metadata": {
        "id": "A8o-72dbolAv"
      },
      "source": [
        "# 4. Dodatkowy tokenizer (Pomniejszony 5x (z 5000 do 1000))"
      ]
    },
    {
      "cell_type": "markdown",
      "metadata": {
        "id": "sJVww6mewMO2"
      },
      "source": [
        "## 4.1 Stworzenie"
      ]
    },
    {
      "cell_type": "code",
      "metadata": {
        "id": "xOGRnd15oqDm"
      },
      "source": [
        "vocab_size = 1_000"
      ],
      "execution_count": null,
      "outputs": []
    },
    {
      "cell_type": "code",
      "metadata": {
        "id": "5SyMQzpRvd3A"
      },
      "source": [
        "bpe_char_2 = CharBPETokenizer(unk_token=unk_token)"
      ],
      "execution_count": null,
      "outputs": []
    },
    {
      "cell_type": "code",
      "metadata": {
        "id": "hA0LyGObvqVI"
      },
      "source": [
        "bpe_char_2.train(files=files, vocab_size=vocab_size, min_frequency=15, special_tokens=special_tokens, show_progress=True)"
      ],
      "execution_count": null,
      "outputs": []
    },
    {
      "cell_type": "code",
      "metadata": {
        "id": "QMRV6mysv9Ou"
      },
      "source": [
        "!mkdir -p out out/bpe_char_2"
      ],
      "execution_count": null,
      "outputs": []
    },
    {
      "cell_type": "code",
      "metadata": {
        "colab": {
          "base_uri": "https://localhost:8080/"
        },
        "id": "S5mvyYppvtkQ",
        "outputId": "43b90950-6ad9-4fb3-d2e7-8c6fd971198f"
      },
      "source": [
        "bpe_char_2.save_model('out/bpe_char_2')"
      ],
      "execution_count": null,
      "outputs": [
        {
          "output_type": "execute_result",
          "data": {
            "text/plain": [
              "['out/bpe_char_2/vocab.json', 'out/bpe_char_2/merges.txt']"
            ]
          },
          "metadata": {},
          "execution_count": 44
        }
      ]
    },
    {
      "cell_type": "code",
      "metadata": {
        "colab": {
          "base_uri": "https://localhost:8080/"
        },
        "id": "SAeWRNcuv0LQ",
        "outputId": "e23fc7b0-3c8b-4cb5-b563-64171dc26e6b"
      },
      "source": [
        "!ls -lh out/bpe_char_2"
      ],
      "execution_count": null,
      "outputs": [
        {
          "output_type": "stream",
          "name": "stdout",
          "text": [
            "total 20K\n",
            "-rw-r--r-- 1 root root 6.5K Nov 30 15:19 merges.txt\n",
            "-rw-r--r-- 1 root root  12K Nov 30 15:19 vocab.json\n"
          ]
        }
      ]
    },
    {
      "cell_type": "markdown",
      "metadata": {
        "id": "FXVOaHhOwK_Y"
      },
      "source": [
        "# 4.2 Testy"
      ]
    },
    {
      "cell_type": "code",
      "metadata": {
        "colab": {
          "base_uri": "https://localhost:8080/"
        },
        "id": "aXR7Kw08wEoo",
        "outputId": "a3247ab9-81d4-4933-ad2f-ce1e6a62a39d"
      },
      "source": [
        "encoded = bpe_char_2.encode(text_test_1)\n",
        "print_encoded(encoded.tokens)\n",
        "\n",
        "encoded = bpe_char_2.encode(text_test_2)\n",
        "print_encoded(encoded.tokens)\n",
        "\n",
        "encoded = bpe_char_2.encode(text_test_3)\n",
        "print_encoded(encoded.tokens)\n",
        "\n",
        "encoded = bpe_char_2.encode(text_test_4)\n",
        "print_encoded(encoded.tokens)\n",
        "\n",
        "encoded = bpe_char_2.encode(text_test_5)\n",
        "print_encoded(encoded.tokens)"
      ],
      "execution_count": null,
      "outputs": [
        {
          "output_type": "stream",
          "name": "stdout",
          "text": [
            "[40] de ligh ted</w> with</w> him</w> that</w> she</w> would</w> take</w> him</w> up</w> to</w> the</w> f ar m</w> at</w> once</w> to</w> the</w> qu e en s</w> were</w> by</w> this</w> time</w> more</w> than</w> a</w> y ard</w> long</w> ,</w> and</w> they</w> did</w> not</w> .</w>\n",
            "[29] He</w> a gre ed</w> de light</w> ,</w> and</w> re m it ted</w> the</w> rema in ing</w> thir d</w> of</w> his</w> cla i m</w> to</w> the</w> mer chan ts</w> .</w>\n",
            "[28] this</w> new</w> di f fi cu l ty</w> ?</w> W it h</w> b owed</w> head</w> ,</w> and</w> fe el ing</w> very</w> sa d</w> ,</w> he</w> sat</w> down</w> .</w>\n",
            "[25] where</w> to</w> lea d</w> the</w> sh e ep</w> to</w> the</w> s we e te st</w> pa st u res</w> ,</w> and</w> where</w> am ong</w> the</w>\n",
            "[24] She</w> then</w> cried</w> out</w> ,</w> and</w> su dd en ly</w> ten</w> fe ma le</w> sla ves</w> came</w> to</w> me</w> ,</w> and</w> th re w</w>\n"
          ]
        }
      ]
    },
    {
      "cell_type": "code",
      "metadata": {
        "colab": {
          "base_uri": "https://localhost:8080/"
        },
        "id": "E6hcTAZSx0jk",
        "outputId": "e6f56ce5-2713-4cc7-8528-9bfa150c8345"
      },
      "source": [
        "encoded = bpe_char_2.encode('Misunderstandings')\n",
        "print_encoded(encoded.tokens)\n",
        "\n",
        "encoded = bpe_char_2.encode('Consanguineous')\n",
        "print_encoded(encoded.tokens)\n",
        "\n",
        "encoded = bpe_char_2.encode('Psychotomimetic')\n",
        "print_encoded(encoded.tokens)"
      ],
      "execution_count": null,
      "outputs": [
        {
          "output_type": "stream",
          "name": "stdout",
          "text": [
            "[8] M i s un der stan d ings</w>\n",
            "[8] C on s an gu in e ous</w>\n",
            "[10] P s y ch o to mi me ti c</w>\n"
          ]
        }
      ]
    },
    {
      "cell_type": "markdown",
      "metadata": {
        "id": "XIAYiVKdweYD"
      },
      "source": [
        "## 4.3 Wnioski"
      ]
    },
    {
      "cell_type": "markdown",
      "metadata": {
        "id": "VbrO1JdSwgjF"
      },
      "source": [
        "Tokenizer rozbił w zdaniach o wiele więcej słów (a same słowa na więcej tokenów)\n",
        "\n",
        "Dla tekstu 1 - `5k - 1` vs `1k - 4`\n",
        "\n",
        "Dla tekstu 2 - `5k - 2` vs `1k - 7`\n",
        "\n",
        "Dla tekstu 3 - `5k - 0` vs `1k - 5`\n",
        "\n",
        "Dla tekstu 4 - `5k - 2` vs `1k - 5`\n",
        "\n",
        "Dla tekstu 5 - `5k - 0` vs `1k - 4`\n",
        "\n",
        "Liczba tokenów w słowach\n",
        "\n",
        "Dla Słowa 1 - `5k - 5` vs `1k - 8`\n",
        "\n",
        "Dla Słowa 2 - `5k - 5` vs `1k - 8`\n",
        "\n",
        "Dla Słowa 3 - `5k - 7` vs `1k - 10`\n"
      ]
    },
    {
      "cell_type": "code",
      "metadata": {
        "id": "00YJZJbFhHJv"
      },
      "source": [],
      "execution_count": null,
      "outputs": []
    }
  ]
}
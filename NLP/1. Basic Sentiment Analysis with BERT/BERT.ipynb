{
 "cells": [
  {
   "cell_type": "markdown",
   "id": "e38d3b9d",
   "metadata": {},
   "source": [
    "Based on https://www.youtube.com/watch?v=szczpgOEdXs&t=111s"
   ]
  },
  {
   "cell_type": "markdown",
   "id": "ddb89c9a",
   "metadata": {},
   "source": [
    "# 1. Install and Import Dependencies"
   ]
  },
  {
   "cell_type": "code",
   "execution_count": null,
   "id": "a815749c",
   "metadata": {},
   "outputs": [],
   "source": [
    "!pip install torch==1.9.0+cu102 torchvision==0.10.0+cu102 torchaudio===0.9.0 -f https://download.pytorch.org/whl/torch_stable.html"
   ]
  },
  {
   "cell_type": "code",
   "execution_count": 1,
   "id": "2af68c0a",
   "metadata": {},
   "outputs": [
    {
     "name": "stdout",
     "output_type": "stream",
     "text": [
      "Collecting transformers\n",
      "  Downloading transformers-4.7.0-py3-none-any.whl (2.5 MB)\n",
      "Requirement already satisfied: requests in c:\\users\\snowy\\anaconda3\\lib\\site-packages (2.25.1)\n",
      "Requirement already satisfied: beautifulsoup4 in c:\\users\\snowy\\anaconda3\\lib\\site-packages (4.9.3)\n",
      "Requirement already satisfied: pandas in c:\\users\\snowy\\anaconda3\\lib\\site-packages (1.2.4)\n",
      "Requirement already satisfied: numpy in c:\\users\\snowy\\anaconda3\\lib\\site-packages (1.20.1)\n",
      "Requirement already satisfied: soupsieve>1.2 in c:\\users\\snowy\\anaconda3\\lib\\site-packages (from beautifulsoup4) (2.2.1)\n",
      "Requirement already satisfied: pytz>=2017.3 in c:\\users\\snowy\\anaconda3\\lib\\site-packages (from pandas) (2021.1)\n",
      "Requirement already satisfied: python-dateutil>=2.7.3 in c:\\users\\snowy\\anaconda3\\lib\\site-packages (from pandas) (2.8.1)\n",
      "Requirement already satisfied: six>=1.5 in c:\\users\\snowy\\anaconda3\\lib\\site-packages (from python-dateutil>=2.7.3->pandas) (1.15.0)\n",
      "Requirement already satisfied: chardet<5,>=3.0.2 in c:\\users\\snowy\\anaconda3\\lib\\site-packages (from requests) (4.0.0)\n",
      "Requirement already satisfied: idna<3,>=2.5 in c:\\users\\snowy\\anaconda3\\lib\\site-packages (from requests) (2.10)\n",
      "Requirement already satisfied: urllib3<1.27,>=1.21.1 in c:\\users\\snowy\\anaconda3\\lib\\site-packages (from requests) (1.26.4)\n",
      "Requirement already satisfied: certifi>=2017.4.17 in c:\\users\\snowy\\anaconda3\\lib\\site-packages (from requests) (2020.12.5)\n",
      "Requirement already satisfied: regex!=2019.12.17 in c:\\users\\snowy\\anaconda3\\lib\\site-packages (from transformers) (2021.4.4)\n",
      "Collecting tokenizers<0.11,>=0.10.1\n",
      "  Downloading tokenizers-0.10.3-cp38-cp38-win_amd64.whl (2.0 MB)\n",
      "Collecting sacremoses\n",
      "  Using cached sacremoses-0.0.45-py3-none-any.whl (895 kB)\n",
      "Requirement already satisfied: filelock in c:\\users\\snowy\\anaconda3\\lib\\site-packages (from transformers) (3.0.12)\n",
      "Requirement already satisfied: tqdm>=4.27 in c:\\users\\snowy\\anaconda3\\lib\\site-packages (from transformers) (4.59.0)\n",
      "Requirement already satisfied: pyyaml in c:\\users\\snowy\\anaconda3\\lib\\site-packages (from transformers) (5.4.1)\n",
      "Collecting huggingface-hub==0.0.8\n",
      "  Using cached huggingface_hub-0.0.8-py3-none-any.whl (34 kB)\n",
      "Requirement already satisfied: packaging in c:\\users\\snowy\\anaconda3\\lib\\site-packages (from transformers) (20.9)\n",
      "Requirement already satisfied: pyparsing>=2.0.2 in c:\\users\\snowy\\anaconda3\\lib\\site-packages (from packaging->transformers) (2.4.7)\n",
      "Requirement already satisfied: joblib in c:\\users\\snowy\\anaconda3\\lib\\site-packages (from sacremoses->transformers) (1.0.1)\n",
      "Requirement already satisfied: click in c:\\users\\snowy\\anaconda3\\lib\\site-packages (from sacremoses->transformers) (7.1.2)\n",
      "Installing collected packages: tokenizers, sacremoses, huggingface-hub, transformers\n",
      "Successfully installed huggingface-hub-0.0.8 sacremoses-0.0.45 tokenizers-0.10.3 transformers-4.7.0\n"
     ]
    }
   ],
   "source": [
    "!pip install transformers requests beautifulsoup4 pandas numpy"
   ]
  },
  {
   "cell_type": "code",
   "execution_count": 27,
   "id": "bcfb3bb6",
   "metadata": {},
   "outputs": [],
   "source": [
    "from transformers import AutoTokenizer, AutoModelForSequenceClassification\n",
    "import torch\n",
    "import requests\n",
    "from bs4 import BeautifulSoup\n",
    "import re\n",
    "import pandas as pd\n",
    "import numpy as np"
   ]
  },
  {
   "cell_type": "markdown",
   "id": "0c40f9ca",
   "metadata": {},
   "source": [
    "# 2. Instantiate Model\n",
    "\n",
    "https://huggingface.co/nlptown/bert-base-multilingual-uncased-sentiment"
   ]
  },
  {
   "cell_type": "code",
   "execution_count": 3,
   "id": "dc840f6f",
   "metadata": {},
   "outputs": [
    {
     "data": {
      "application/vnd.jupyter.widget-view+json": {
       "model_id": "596ea115f099460db2694a1c771d2f17",
       "version_major": 2,
       "version_minor": 0
      },
      "text/plain": [
       "Downloading:   0%|          | 0.00/953 [00:00<?, ?B/s]"
      ]
     },
     "metadata": {},
     "output_type": "display_data"
    },
    {
     "data": {
      "application/vnd.jupyter.widget-view+json": {
       "model_id": "19ab9b02301e4d44abc39f5e6ebfaf5f",
       "version_major": 2,
       "version_minor": 0
      },
      "text/plain": [
       "Downloading:   0%|          | 0.00/872k [00:00<?, ?B/s]"
      ]
     },
     "metadata": {},
     "output_type": "display_data"
    },
    {
     "data": {
      "application/vnd.jupyter.widget-view+json": {
       "model_id": "833c693cac9a456693ed980ac226fc02",
       "version_major": 2,
       "version_minor": 0
      },
      "text/plain": [
       "Downloading:   0%|          | 0.00/112 [00:00<?, ?B/s]"
      ]
     },
     "metadata": {},
     "output_type": "display_data"
    },
    {
     "data": {
      "application/vnd.jupyter.widget-view+json": {
       "model_id": "3c05547fa5a24476a4108cfb80b3b3ce",
       "version_major": 2,
       "version_minor": 0
      },
      "text/plain": [
       "Downloading:   0%|          | 0.00/39.0 [00:00<?, ?B/s]"
      ]
     },
     "metadata": {},
     "output_type": "display_data"
    },
    {
     "data": {
      "application/vnd.jupyter.widget-view+json": {
       "model_id": "99bd327384f0429b980314a3608c16b5",
       "version_major": 2,
       "version_minor": 0
      },
      "text/plain": [
       "Downloading:   0%|          | 0.00/669M [00:00<?, ?B/s]"
      ]
     },
     "metadata": {},
     "output_type": "display_data"
    }
   ],
   "source": [
    "tokenizer = AutoTokenizer.from_pretrained('nlptown/bert-base-multilingual-uncased-sentiment')\n",
    "\n",
    "model = AutoModelForSequenceClassification.from_pretrained('nlptown/bert-base-multilingual-uncased-sentiment')"
   ]
  },
  {
   "cell_type": "markdown",
   "id": "2b01d49b",
   "metadata": {},
   "source": [
    "# 3. Encode and Calculate Sentiment"
   ]
  },
  {
   "cell_type": "code",
   "execution_count": 4,
   "id": "8093fe2f",
   "metadata": {},
   "outputs": [],
   "source": [
    "tokens = tokenizer.encode('I hated this, absoluetly the worst', return_tensors='pt')"
   ]
  },
  {
   "cell_type": "code",
   "execution_count": 7,
   "id": "8df6e853",
   "metadata": {},
   "outputs": [
    {
     "data": {
      "text/plain": [
       "tensor([  101,   151, 39487, 10163, 10372,   117, 63267, 49657, 10103, 43060,\n",
       "          102])"
      ]
     },
     "execution_count": 7,
     "metadata": {},
     "output_type": "execute_result"
    }
   ],
   "source": [
    "tokens[0]"
   ]
  },
  {
   "cell_type": "code",
   "execution_count": 8,
   "id": "f154e651",
   "metadata": {},
   "outputs": [
    {
     "data": {
      "text/plain": [
       "'[CLS] i hated this, absoluetly the worst [SEP]'"
      ]
     },
     "execution_count": 8,
     "metadata": {},
     "output_type": "execute_result"
    }
   ],
   "source": [
    "tokenizer.decode(tokens[0])"
   ]
  },
  {
   "cell_type": "code",
   "execution_count": 9,
   "id": "af9f2ab4",
   "metadata": {},
   "outputs": [],
   "source": [
    "result = model(tokens)"
   ]
  },
  {
   "cell_type": "code",
   "execution_count": 11,
   "id": "940e987b",
   "metadata": {},
   "outputs": [
    {
     "data": {
      "text/plain": [
       "SequenceClassifierOutput(loss=None, logits=tensor([[ 4.4387,  2.0377, -0.5344, -2.7994, -2.4315]],\n",
       "       grad_fn=<AddmmBackward>), hidden_states=None, attentions=None)"
      ]
     },
     "execution_count": 11,
     "metadata": {},
     "output_type": "execute_result"
    }
   ],
   "source": [
    "result"
   ]
  },
  {
   "cell_type": "code",
   "execution_count": 12,
   "id": "c3e671a5",
   "metadata": {},
   "outputs": [
    {
     "data": {
      "text/plain": [
       "tensor([[ 4.4387,  2.0377, -0.5344, -2.7994, -2.4315]],\n",
       "       grad_fn=<AddmmBackward>)"
      ]
     },
     "execution_count": 12,
     "metadata": {},
     "output_type": "execute_result"
    }
   ],
   "source": [
    "result.logits"
   ]
  },
  {
   "cell_type": "code",
   "execution_count": 13,
   "id": "2a870a61",
   "metadata": {},
   "outputs": [
    {
     "data": {
      "text/plain": [
       "1"
      ]
     },
     "execution_count": 13,
     "metadata": {},
     "output_type": "execute_result"
    }
   ],
   "source": [
    "int(torch.argmax(result.logits))+1"
   ]
  },
  {
   "cell_type": "markdown",
   "id": "48e7e893",
   "metadata": {},
   "source": [
    "# 4. Collect Reviews"
   ]
  },
  {
   "cell_type": "code",
   "execution_count": 34,
   "id": "ef0a60a3",
   "metadata": {},
   "outputs": [],
   "source": [
    "r = requests.get('https://www.yelp.com/biz/ramen-nagi-santa-clara')\n",
    "soup = BeautifulSoup(r.text, 'html.parser')\n",
    "regex = re.compile('.*comment.*')\n",
    "results = soup.find_all('p', {'class':regex})\n",
    "reviews = [result.text for result in results]"
   ]
  },
  {
   "cell_type": "code",
   "execution_count": 35,
   "id": "6987a997",
   "metadata": {},
   "outputs": [
    {
     "data": {
      "text/plain": [
       "\"Ramen Nagi, you son of a gun. Why the long lines man?! I'm tired of waiting 30 minutes to eat your deliciousness. Stop being so good at what you offer. Give me the Red King with the normal everything and extra garlic flavor. Give me the thin noodles firm because I like it like that. Toss in a soft boiled eggs and let me appreciate it because I tried last night and all but one came out not the way I see it here. Oh oh. Can't forget the karaage! Jeehs! Your appetizer is delicious too. Long line, I'm forced to wait to get my ramen fix taken care of. Miss you. Had you a day ago. Oh no. I became the crazy ex.\""
      ]
     },
     "execution_count": 35,
     "metadata": {},
     "output_type": "execute_result"
    }
   ],
   "source": [
    "reviews[0]"
   ]
  },
  {
   "cell_type": "markdown",
   "id": "94088a52",
   "metadata": {},
   "source": [
    "# 5. Load Reviews into DataFrame and Score"
   ]
  },
  {
   "cell_type": "code",
   "execution_count": 36,
   "id": "335e0e3b",
   "metadata": {},
   "outputs": [],
   "source": [
    "df = pd.DataFrame(np.array(reviews), columns=['review'])"
   ]
  },
  {
   "cell_type": "code",
   "execution_count": 37,
   "id": "e1f82668",
   "metadata": {},
   "outputs": [
    {
     "data": {
      "text/html": [
       "<div>\n",
       "<style scoped>\n",
       "    .dataframe tbody tr th:only-of-type {\n",
       "        vertical-align: middle;\n",
       "    }\n",
       "\n",
       "    .dataframe tbody tr th {\n",
       "        vertical-align: top;\n",
       "    }\n",
       "\n",
       "    .dataframe thead th {\n",
       "        text-align: right;\n",
       "    }\n",
       "</style>\n",
       "<table border=\"1\" class=\"dataframe\">\n",
       "  <thead>\n",
       "    <tr style=\"text-align: right;\">\n",
       "      <th></th>\n",
       "      <th>review</th>\n",
       "    </tr>\n",
       "  </thead>\n",
       "  <tbody>\n",
       "    <tr>\n",
       "      <th>0</th>\n",
       "      <td>Ramen Nagi, you son of a gun. Why the long lin...</td>\n",
       "    </tr>\n",
       "    <tr>\n",
       "      <th>1</th>\n",
       "      <td>Ramen Nagi wins on all levels for me. Living i...</td>\n",
       "    </tr>\n",
       "    <tr>\n",
       "      <th>2</th>\n",
       "      <td>Went here on a weekday right when it opened, a...</td>\n",
       "    </tr>\n",
       "    <tr>\n",
       "      <th>3</th>\n",
       "      <td>This spot was definitely worth the hype. I wai...</td>\n",
       "    </tr>\n",
       "    <tr>\n",
       "      <th>4</th>\n",
       "      <td>Just adding onto the plethora of reviews ravin...</td>\n",
       "    </tr>\n",
       "    <tr>\n",
       "      <th>5</th>\n",
       "      <td>THERE IS ALMOST ALWAYS A LINE AT THIS PLACE BU...</td>\n",
       "    </tr>\n",
       "    <tr>\n",
       "      <th>6</th>\n",
       "      <td>It was my pleasure trying Ramen Nagi's Red Kin...</td>\n",
       "    </tr>\n",
       "    <tr>\n",
       "      <th>7</th>\n",
       "      <td>This spot has all the umami flavors but it can...</td>\n",
       "    </tr>\n",
       "    <tr>\n",
       "      <th>8</th>\n",
       "      <td>Definitely one of the better ramen places in S...</td>\n",
       "    </tr>\n",
       "    <tr>\n",
       "      <th>9</th>\n",
       "      <td>Pros - Must try place for ramen in the Bay Are...</td>\n",
       "    </tr>\n",
       "    <tr>\n",
       "      <th>10</th>\n",
       "      <td>Still delicious after all this time. Typically...</td>\n",
       "    </tr>\n",
       "    <tr>\n",
       "      <th>11</th>\n",
       "      <td>Well worth the wait. An hour before opening, t...</td>\n",
       "    </tr>\n",
       "  </tbody>\n",
       "</table>\n",
       "</div>"
      ],
      "text/plain": [
       "                                               review\n",
       "0   Ramen Nagi, you son of a gun. Why the long lin...\n",
       "1   Ramen Nagi wins on all levels for me. Living i...\n",
       "2   Went here on a weekday right when it opened, a...\n",
       "3   This spot was definitely worth the hype. I wai...\n",
       "4   Just adding onto the plethora of reviews ravin...\n",
       "5   THERE IS ALMOST ALWAYS A LINE AT THIS PLACE BU...\n",
       "6   It was my pleasure trying Ramen Nagi's Red Kin...\n",
       "7   This spot has all the umami flavors but it can...\n",
       "8   Definitely one of the better ramen places in S...\n",
       "9   Pros - Must try place for ramen in the Bay Are...\n",
       "10  Still delicious after all this time. Typically...\n",
       "11  Well worth the wait. An hour before opening, t..."
      ]
     },
     "execution_count": 37,
     "metadata": {},
     "output_type": "execute_result"
    }
   ],
   "source": [
    "df"
   ]
  },
  {
   "cell_type": "code",
   "execution_count": 38,
   "id": "c9b04498",
   "metadata": {},
   "outputs": [],
   "source": [
    "def sentiment_score(review):\n",
    "    tokens = tokenizer.encode(review, return_tensors='pt')\n",
    "    result = model(tokens)\n",
    "    return int(torch.argmax(result.logits))+1"
   ]
  },
  {
   "cell_type": "code",
   "execution_count": 39,
   "id": "c3051ac0",
   "metadata": {},
   "outputs": [
    {
     "data": {
      "text/plain": [
       "2"
      ]
     },
     "execution_count": 39,
     "metadata": {},
     "output_type": "execute_result"
    }
   ],
   "source": [
    "sentiment_score(df['review'].iloc[0])"
   ]
  },
  {
   "cell_type": "code",
   "execution_count": 40,
   "id": "58ad2a46",
   "metadata": {},
   "outputs": [],
   "source": [
    "df['sentiment'] = df['review'].apply(lambda x: sentiment_score(x[:512]))  #max 512 tokens for this NLP model"
   ]
  },
  {
   "cell_type": "code",
   "execution_count": 41,
   "id": "bd691d7c",
   "metadata": {},
   "outputs": [
    {
     "data": {
      "text/html": [
       "<div>\n",
       "<style scoped>\n",
       "    .dataframe tbody tr th:only-of-type {\n",
       "        vertical-align: middle;\n",
       "    }\n",
       "\n",
       "    .dataframe tbody tr th {\n",
       "        vertical-align: top;\n",
       "    }\n",
       "\n",
       "    .dataframe thead th {\n",
       "        text-align: right;\n",
       "    }\n",
       "</style>\n",
       "<table border=\"1\" class=\"dataframe\">\n",
       "  <thead>\n",
       "    <tr style=\"text-align: right;\">\n",
       "      <th></th>\n",
       "      <th>review</th>\n",
       "      <th>sentiment</th>\n",
       "    </tr>\n",
       "  </thead>\n",
       "  <tbody>\n",
       "    <tr>\n",
       "      <th>0</th>\n",
       "      <td>Ramen Nagi, you son of a gun. Why the long lin...</td>\n",
       "      <td>1</td>\n",
       "    </tr>\n",
       "    <tr>\n",
       "      <th>1</th>\n",
       "      <td>Ramen Nagi wins on all levels for me. Living i...</td>\n",
       "      <td>5</td>\n",
       "    </tr>\n",
       "    <tr>\n",
       "      <th>2</th>\n",
       "      <td>Went here on a weekday right when it opened, a...</td>\n",
       "      <td>4</td>\n",
       "    </tr>\n",
       "    <tr>\n",
       "      <th>3</th>\n",
       "      <td>This spot was definitely worth the hype. I wai...</td>\n",
       "      <td>5</td>\n",
       "    </tr>\n",
       "    <tr>\n",
       "      <th>4</th>\n",
       "      <td>Just adding onto the plethora of reviews ravin...</td>\n",
       "      <td>5</td>\n",
       "    </tr>\n",
       "    <tr>\n",
       "      <th>5</th>\n",
       "      <td>THERE IS ALMOST ALWAYS A LINE AT THIS PLACE BU...</td>\n",
       "      <td>5</td>\n",
       "    </tr>\n",
       "    <tr>\n",
       "      <th>6</th>\n",
       "      <td>It was my pleasure trying Ramen Nagi's Red Kin...</td>\n",
       "      <td>4</td>\n",
       "    </tr>\n",
       "    <tr>\n",
       "      <th>7</th>\n",
       "      <td>This spot has all the umami flavors but it can...</td>\n",
       "      <td>4</td>\n",
       "    </tr>\n",
       "    <tr>\n",
       "      <th>8</th>\n",
       "      <td>Definitely one of the better ramen places in S...</td>\n",
       "      <td>5</td>\n",
       "    </tr>\n",
       "    <tr>\n",
       "      <th>9</th>\n",
       "      <td>Pros - Must try place for ramen in the Bay Are...</td>\n",
       "      <td>5</td>\n",
       "    </tr>\n",
       "    <tr>\n",
       "      <th>10</th>\n",
       "      <td>Still delicious after all this time. Typically...</td>\n",
       "      <td>4</td>\n",
       "    </tr>\n",
       "    <tr>\n",
       "      <th>11</th>\n",
       "      <td>Well worth the wait. An hour before opening, t...</td>\n",
       "      <td>4</td>\n",
       "    </tr>\n",
       "  </tbody>\n",
       "</table>\n",
       "</div>"
      ],
      "text/plain": [
       "                                               review  sentiment\n",
       "0   Ramen Nagi, you son of a gun. Why the long lin...          1\n",
       "1   Ramen Nagi wins on all levels for me. Living i...          5\n",
       "2   Went here on a weekday right when it opened, a...          4\n",
       "3   This spot was definitely worth the hype. I wai...          5\n",
       "4   Just adding onto the plethora of reviews ravin...          5\n",
       "5   THERE IS ALMOST ALWAYS A LINE AT THIS PLACE BU...          5\n",
       "6   It was my pleasure trying Ramen Nagi's Red Kin...          4\n",
       "7   This spot has all the umami flavors but it can...          4\n",
       "8   Definitely one of the better ramen places in S...          5\n",
       "9   Pros - Must try place for ramen in the Bay Are...          5\n",
       "10  Still delicious after all this time. Typically...          4\n",
       "11  Well worth the wait. An hour before opening, t...          4"
      ]
     },
     "execution_count": 41,
     "metadata": {},
     "output_type": "execute_result"
    }
   ],
   "source": [
    "df"
   ]
  },
  {
   "cell_type": "markdown",
   "id": "b4fc2423",
   "metadata": {},
   "source": [
    "# 6. Filmweb Version (not working coz in polish)"
   ]
  },
  {
   "cell_type": "code",
   "execution_count": 51,
   "id": "9b54cc79",
   "metadata": {},
   "outputs": [],
   "source": [
    "r = requests.get('https://www.filmweb.pl/film/Cruella-2021-754536/discussion')\n",
    "soup = BeautifulSoup(r.text, 'html.parser')\n",
    "regex = re.compile('.*forumSection__contentWrapper.*')\n",
    "results = soup.find_all('div', {'class':regex})\n",
    "reviews = [result.text for result in results]"
   ]
  },
  {
   "cell_type": "code",
   "execution_count": 52,
   "id": "412600d9",
   "metadata": {},
   "outputs": [
    {
     "data": {
      "text/plain": [
       "'Dla mnie Cruella jest tylko jedna!'"
      ]
     },
     "execution_count": 52,
     "metadata": {},
     "output_type": "execute_result"
    }
   ],
   "source": [
    "reviews[0]"
   ]
  },
  {
   "cell_type": "code",
   "execution_count": 50,
   "id": "cdf70006",
   "metadata": {},
   "outputs": [
    {
     "data": {
      "text/plain": [
       "<li class=\"forumSection__item filmCategory\" id=\"topic_3221482\"><div class=\"forumSection__topRow\"><div class=\"forumSection__avatar\"><div class=\"userAvatar\" data-id=\"4832772\" data-image=\"\" data-nick=\"Mickey1993\"><a class=\"userAvatar__body\" href=\"/user/Mickey1993\"> <span class=\"userAvatar__imageWrap\"> <img alt=\"Mickey1993\" class=\"userAvatar__image\" src=\"https://fwcdn.pl/front/ogfx/t.gif\"/> </span> </a></div></div><div class=\"forumSection__right\"><h3 class=\"forumSection__topicTitle\"><a class=\"forumSection__itemLink\" href=\" /film/Cruella-2021-754536/discussion/Glenn+Close,3221482\"> Glenn Close </a></h3><a href=\"/user/Mickey1993\"><span class=\"forumSection__authorName\" data-uname=\"Mickey1993\" rel=\"4832772\">Mickey1993</span></a></div></div><div class=\"forumSection__contentWrapper\"><a class=\"forumSection__itemLink\" href=\" /film/Cruella-2021-754536/discussion/Glenn+Close,3221482\"></a><p class=\"forumSection__topicText\">Dla mnie Cruella jest tylko jedna!</p></div><div class=\"forumSection__bottomRow\"><a class=\"forumSection__comments\" href=\" /film/Cruella-2021-754536/discussion/Glenn+Close,3221482\"><span class=\"forumSection__commentsCount\">13</span><i class=\"ico ico--comments\"></i></a> <a class=\"forumSection__lastLink\" href=\" /film/Cruella-2021-754536/discussion/Glenn+Close,3221482#post_16639606 \" rel=\"nofollow\"> <span class=\"forumSection__lastWhen\"> ostatni <time class=\"forumSection__lastDate\" datetime=\"2021-06-19 10:04:21\" title=\"19/06/2021 10:04\">2021-06-19 10:04:21</time>  /  </span> <span class=\"forumSection__lastWho\"> <span class=\"link userLink\" data-uname=\"tocomnieinteresuje\" rel=\"1589563\">tocomnieinteresuje</span> </span> </a><div class=\"plusMinusWidget\" data-entity=\"3221482\" data-type=\"topic\" data-user=\"4832772\"><div class=\"plusMinusWidget__group\"><span class=\"plusMinusWidget__count\">59</span> <i class=\"plusMinusWidget__up ico ico--thumbUp\"></i> <i class=\"plusMinusWidget__down ico ico--thumbDown\"></i></div></div><span class=\"forumSection__tools\"> <i class=\"ico ico--report forumSection__toolsIcon\"></i><ul class=\"forumSection__toolsList forumSection__toolsList--hide\"></ul></span> <time class=\"forumSection__date\" datetime=\"2021-02-17 21:24:18\" title=\"17/02/2021 21:24\">2021-02-17 21:24:18</time></div></li>"
      ]
     },
     "execution_count": 50,
     "metadata": {},
     "output_type": "execute_result"
    }
   ],
   "source": [
    "results[0]"
   ]
  },
  {
   "cell_type": "code",
   "execution_count": 53,
   "id": "1f4f34e8",
   "metadata": {},
   "outputs": [
    {
     "data": {
      "text/html": [
       "<div>\n",
       "<style scoped>\n",
       "    .dataframe tbody tr th:only-of-type {\n",
       "        vertical-align: middle;\n",
       "    }\n",
       "\n",
       "    .dataframe tbody tr th {\n",
       "        vertical-align: top;\n",
       "    }\n",
       "\n",
       "    .dataframe thead th {\n",
       "        text-align: right;\n",
       "    }\n",
       "</style>\n",
       "<table border=\"1\" class=\"dataframe\">\n",
       "  <thead>\n",
       "    <tr style=\"text-align: right;\">\n",
       "      <th></th>\n",
       "      <th>review</th>\n",
       "      <th>sentiment</th>\n",
       "    </tr>\n",
       "  </thead>\n",
       "  <tbody>\n",
       "    <tr>\n",
       "      <th>0</th>\n",
       "      <td>Dla mnie Cruella jest tylko jedna!</td>\n",
       "      <td>5</td>\n",
       "    </tr>\n",
       "    <tr>\n",
       "      <th>1</th>\n",
       "      <td>Bardzo przyjemny film, gra aktorska mi się bar...</td>\n",
       "      <td>4</td>\n",
       "    </tr>\n",
       "    <tr>\n",
       "      <th>2</th>\n",
       "      <td>Nie bardzo wiem do kogo jest skierowany ten fi...</td>\n",
       "      <td>2</td>\n",
       "    </tr>\n",
       "    <tr>\n",
       "      <th>3</th>\n",
       "      <td>Jeden jedyny konkretny powód - Emma!</td>\n",
       "      <td>1</td>\n",
       "    </tr>\n",
       "    <tr>\n",
       "      <th>4</th>\n",
       "      <td>Na zwiastunie za bardzo kojarzy mi się z Harle...</td>\n",
       "      <td>3</td>\n",
       "    </tr>\n",
       "    <tr>\n",
       "      <th>5</th>\n",
       "      <td>rozrywkowe!</td>\n",
       "      <td>5</td>\n",
       "    </tr>\n",
       "    <tr>\n",
       "      <th>6</th>\n",
       "      <td>Widzę, że niektórzy z miejsca skreślają ten fi...</td>\n",
       "      <td>2</td>\n",
       "    </tr>\n",
       "    <tr>\n",
       "      <th>7</th>\n",
       "      <td>Londyn, lata 70te, punk, kostiumy, utwory muzy...</td>\n",
       "      <td>2</td>\n",
       "    </tr>\n",
       "    <tr>\n",
       "      <th>8</th>\n",
       "      <td>Widzę, że od jakiegoś czasu twórcy filmowi nur...</td>\n",
       "      <td>4</td>\n",
       "    </tr>\n",
       "    <tr>\n",
       "      <th>9</th>\n",
       "      <td>ale szału nie ma.</td>\n",
       "      <td>3</td>\n",
       "    </tr>\n",
       "    <tr>\n",
       "      <th>10</th>\n",
       "      <td>sam film świetny, momentami mroczny, zrobiony ...</td>\n",
       "      <td>4</td>\n",
       "    </tr>\n",
       "    <tr>\n",
       "      <th>11</th>\n",
       "      <td>Po pierwszych zwiastunach spodziewałem się typ...</td>\n",
       "      <td>2</td>\n",
       "    </tr>\n",
       "    <tr>\n",
       "      <th>12</th>\n",
       "      <td>Zdjęcia, kostiumy, scenografia - znakomite, al...</td>\n",
       "      <td>3</td>\n",
       "    </tr>\n",
       "    <tr>\n",
       "      <th>13</th>\n",
       "      <td>Według mnie dubbing wyszedł bardzo dobrze, gło...</td>\n",
       "      <td>4</td>\n",
       "    </tr>\n",
       "    <tr>\n",
       "      <th>14</th>\n",
       "      <td>j.w</td>\n",
       "      <td>4</td>\n",
       "    </tr>\n",
       "    <tr>\n",
       "      <th>15</th>\n",
       "      <td>Do głównej roli w tym filmie przecież Cruella ...</td>\n",
       "      <td>3</td>\n",
       "    </tr>\n",
       "    <tr>\n",
       "      <th>16</th>\n",
       "      <td>I to duże. Nic ciekawego, nieśmieszny, za dług...</td>\n",
       "      <td>2</td>\n",
       "    </tr>\n",
       "    <tr>\n",
       "      <th>17</th>\n",
       "      <td>Gdyby tylko Eva Green zagrała Cruellę. To było...</td>\n",
       "      <td>1</td>\n",
       "    </tr>\n",
       "    <tr>\n",
       "      <th>18</th>\n",
       "      <td>dla inteligentnych inaczej.</td>\n",
       "      <td>3</td>\n",
       "    </tr>\n",
       "    <tr>\n",
       "      <th>19</th>\n",
       "      <td>Płonąca suknia przypomina mi Igrzyska Śmierci</td>\n",
       "      <td>5</td>\n",
       "    </tr>\n",
       "  </tbody>\n",
       "</table>\n",
       "</div>"
      ],
      "text/plain": [
       "                                               review  sentiment\n",
       "0                  Dla mnie Cruella jest tylko jedna!          5\n",
       "1   Bardzo przyjemny film, gra aktorska mi się bar...          4\n",
       "2   Nie bardzo wiem do kogo jest skierowany ten fi...          2\n",
       "3                Jeden jedyny konkretny powód - Emma!          1\n",
       "4   Na zwiastunie za bardzo kojarzy mi się z Harle...          3\n",
       "5                                         rozrywkowe!          5\n",
       "6   Widzę, że niektórzy z miejsca skreślają ten fi...          2\n",
       "7   Londyn, lata 70te, punk, kostiumy, utwory muzy...          2\n",
       "8   Widzę, że od jakiegoś czasu twórcy filmowi nur...          4\n",
       "9                                   ale szału nie ma.          3\n",
       "10  sam film świetny, momentami mroczny, zrobiony ...          4\n",
       "11  Po pierwszych zwiastunach spodziewałem się typ...          2\n",
       "12  Zdjęcia, kostiumy, scenografia - znakomite, al...          3\n",
       "13  Według mnie dubbing wyszedł bardzo dobrze, gło...          4\n",
       "14                                                j.w          4\n",
       "15  Do głównej roli w tym filmie przecież Cruella ...          3\n",
       "16  I to duże. Nic ciekawego, nieśmieszny, za dług...          2\n",
       "17  Gdyby tylko Eva Green zagrała Cruellę. To było...          1\n",
       "18                        dla inteligentnych inaczej.          3\n",
       "19      Płonąca suknia przypomina mi Igrzyska Śmierci          5"
      ]
     },
     "execution_count": 53,
     "metadata": {},
     "output_type": "execute_result"
    }
   ],
   "source": [
    "df2 = pd.DataFrame(np.array(reviews), columns=['review'])\n",
    "df2['sentiment'] = df2['review'].apply(lambda x: sentiment_score(x[:512]))  #max 512 tokens for this NLP model\n",
    "df2"
   ]
  },
  {
   "cell_type": "markdown",
   "id": "86111b1d",
   "metadata": {},
   "source": [
    "# 7. IMDb"
   ]
  },
  {
   "cell_type": "code",
   "execution_count": 54,
   "id": "f81e6b46",
   "metadata": {},
   "outputs": [],
   "source": [
    "r = requests.get('https://www.imdb.com/title/tt3228774/reviews')\n",
    "soup = BeautifulSoup(r.text, 'html.parser')\n",
    "regex = re.compile('.*text show-more__control.*')\n",
    "results = soup.find_all('div', {'class':regex})\n",
    "reviews = [result.text for result in results]\n"
   ]
  },
  {
   "cell_type": "code",
   "execution_count": 55,
   "id": "1b65738b",
   "metadata": {},
   "outputs": [
    {
     "data": {
      "text/html": [
       "<div>\n",
       "<style scoped>\n",
       "    .dataframe tbody tr th:only-of-type {\n",
       "        vertical-align: middle;\n",
       "    }\n",
       "\n",
       "    .dataframe tbody tr th {\n",
       "        vertical-align: top;\n",
       "    }\n",
       "\n",
       "    .dataframe thead th {\n",
       "        text-align: right;\n",
       "    }\n",
       "</style>\n",
       "<table border=\"1\" class=\"dataframe\">\n",
       "  <thead>\n",
       "    <tr style=\"text-align: right;\">\n",
       "      <th></th>\n",
       "      <th>review</th>\n",
       "      <th>sentiment</th>\n",
       "    </tr>\n",
       "  </thead>\n",
       "  <tbody>\n",
       "    <tr>\n",
       "      <th>0</th>\n",
       "      <td>To be really honest, I had very low positive t...</td>\n",
       "      <td>5</td>\n",
       "    </tr>\n",
       "    <tr>\n",
       "      <th>1</th>\n",
       "      <td>It is one of the best villain origin stories t...</td>\n",
       "      <td>5</td>\n",
       "    </tr>\n",
       "    <tr>\n",
       "      <th>2</th>\n",
       "      <td>..the best movie I've seen in a decade. And I ...</td>\n",
       "      <td>5</td>\n",
       "    </tr>\n",
       "    <tr>\n",
       "      <th>3</th>\n",
       "      <td>Can you make an entertaining film by blending ...</td>\n",
       "      <td>2</td>\n",
       "    </tr>\n",
       "    <tr>\n",
       "      <th>4</th>\n",
       "      <td>When I heard that they we're going to make a l...</td>\n",
       "      <td>4</td>\n",
       "    </tr>\n",
       "    <tr>\n",
       "      <th>5</th>\n",
       "      <td>My faith in Walt is restored...Disney that is....</td>\n",
       "      <td>5</td>\n",
       "    </tr>\n",
       "    <tr>\n",
       "      <th>6</th>\n",
       "      <td>89/100Cruella is simply put, phenomenal. A bea...</td>\n",
       "      <td>5</td>\n",
       "    </tr>\n",
       "    <tr>\n",
       "      <th>7</th>\n",
       "      <td>Cruella is full of style and a pretty good tim...</td>\n",
       "      <td>4</td>\n",
       "    </tr>\n",
       "    <tr>\n",
       "      <th>8</th>\n",
       "      <td>*spoiler alert*\\nLoved the scene, when cruella...</td>\n",
       "      <td>5</td>\n",
       "    </tr>\n",
       "    <tr>\n",
       "      <th>9</th>\n",
       "      <td>I think there are a lot of bots trying ti unde...</td>\n",
       "      <td>3</td>\n",
       "    </tr>\n",
       "    <tr>\n",
       "      <th>10</th>\n",
       "      <td>More regurgitated garbage from Disney. Not onl...</td>\n",
       "      <td>1</td>\n",
       "    </tr>\n",
       "    <tr>\n",
       "      <th>11</th>\n",
       "      <td>Disney has lost its touch, and it shows!Cruell...</td>\n",
       "      <td>1</td>\n",
       "    </tr>\n",
       "    <tr>\n",
       "      <th>12</th>\n",
       "      <td>A total mess of a film, the first 40 minutes a...</td>\n",
       "      <td>2</td>\n",
       "    </tr>\n",
       "    <tr>\n",
       "      <th>13</th>\n",
       "      <td>It would seem DC/warner aren't the only compan...</td>\n",
       "      <td>1</td>\n",
       "    </tr>\n",
       "    <tr>\n",
       "      <th>14</th>\n",
       "      <td>A Disney disaster that is too dark to entertai...</td>\n",
       "      <td>1</td>\n",
       "    </tr>\n",
       "    <tr>\n",
       "      <th>15</th>\n",
       "      <td>Disney is ruining every female vilain they hav...</td>\n",
       "      <td>1</td>\n",
       "    </tr>\n",
       "    <tr>\n",
       "      <th>16</th>\n",
       "      <td>One Hundred and One Dalmatians + The Devil Wea...</td>\n",
       "      <td>5</td>\n",
       "    </tr>\n",
       "    <tr>\n",
       "      <th>17</th>\n",
       "      <td>Why can't bad guys just be bad guys cause they...</td>\n",
       "      <td>1</td>\n",
       "    </tr>\n",
       "    <tr>\n",
       "      <th>18</th>\n",
       "      <td>Positives:\\nThe battle of the Emmas! It's real...</td>\n",
       "      <td>4</td>\n",
       "    </tr>\n",
       "    <tr>\n",
       "      <th>19</th>\n",
       "      <td>Meaningless story about an evil mother being o...</td>\n",
       "      <td>1</td>\n",
       "    </tr>\n",
       "    <tr>\n",
       "      <th>20</th>\n",
       "      <td>I never thought that I would say the Glenn Clo...</td>\n",
       "      <td>2</td>\n",
       "    </tr>\n",
       "    <tr>\n",
       "      <th>21</th>\n",
       "      <td>It's just too cruel to put your family through...</td>\n",
       "      <td>1</td>\n",
       "    </tr>\n",
       "    <tr>\n",
       "      <th>22</th>\n",
       "      <td>Im a women hear me cringe is like one of the f...</td>\n",
       "      <td>4</td>\n",
       "    </tr>\n",
       "    <tr>\n",
       "      <th>23</th>\n",
       "      <td>Waste of talent, money and time. Another huge ...</td>\n",
       "      <td>1</td>\n",
       "    </tr>\n",
       "    <tr>\n",
       "      <th>24</th>\n",
       "      <td>Despite a very enjoyable era , great performan...</td>\n",
       "      <td>2</td>\n",
       "    </tr>\n",
       "  </tbody>\n",
       "</table>\n",
       "</div>"
      ],
      "text/plain": [
       "                                               review  sentiment\n",
       "0   To be really honest, I had very low positive t...          5\n",
       "1   It is one of the best villain origin stories t...          5\n",
       "2   ..the best movie I've seen in a decade. And I ...          5\n",
       "3   Can you make an entertaining film by blending ...          2\n",
       "4   When I heard that they we're going to make a l...          4\n",
       "5   My faith in Walt is restored...Disney that is....          5\n",
       "6   89/100Cruella is simply put, phenomenal. A bea...          5\n",
       "7   Cruella is full of style and a pretty good tim...          4\n",
       "8   *spoiler alert*\\nLoved the scene, when cruella...          5\n",
       "9   I think there are a lot of bots trying ti unde...          3\n",
       "10  More regurgitated garbage from Disney. Not onl...          1\n",
       "11  Disney has lost its touch, and it shows!Cruell...          1\n",
       "12  A total mess of a film, the first 40 minutes a...          2\n",
       "13  It would seem DC/warner aren't the only compan...          1\n",
       "14  A Disney disaster that is too dark to entertai...          1\n",
       "15  Disney is ruining every female vilain they hav...          1\n",
       "16  One Hundred and One Dalmatians + The Devil Wea...          5\n",
       "17  Why can't bad guys just be bad guys cause they...          1\n",
       "18  Positives:\\nThe battle of the Emmas! It's real...          4\n",
       "19  Meaningless story about an evil mother being o...          1\n",
       "20  I never thought that I would say the Glenn Clo...          2\n",
       "21  It's just too cruel to put your family through...          1\n",
       "22  Im a women hear me cringe is like one of the f...          4\n",
       "23  Waste of talent, money and time. Another huge ...          1\n",
       "24  Despite a very enjoyable era , great performan...          2"
      ]
     },
     "execution_count": 55,
     "metadata": {},
     "output_type": "execute_result"
    }
   ],
   "source": [
    "df3 = pd.DataFrame(np.array(reviews), columns=['review'])\n",
    "df3['sentiment'] = df3['review'].apply(lambda x: sentiment_score(x[:512]))  #max 512 tokens for this NLP model\n",
    "df3"
   ]
  },
  {
   "cell_type": "code",
   "execution_count": null,
   "id": "5e99c5e7",
   "metadata": {},
   "outputs": [],
   "source": []
  }
 ],
 "metadata": {
  "kernelspec": {
   "display_name": "Python 3",
   "language": "python",
   "name": "python3"
  },
  "language_info": {
   "codemirror_mode": {
    "name": "ipython",
    "version": 3
   },
   "file_extension": ".py",
   "mimetype": "text/x-python",
   "name": "python",
   "nbconvert_exporter": "python",
   "pygments_lexer": "ipython3",
   "version": "3.8.8"
  }
 },
 "nbformat": 4,
 "nbformat_minor": 5
}

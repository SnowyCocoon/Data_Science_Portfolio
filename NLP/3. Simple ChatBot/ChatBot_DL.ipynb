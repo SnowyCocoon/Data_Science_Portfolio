{
  "nbformat": 4,
  "nbformat_minor": 0,
  "metadata": {
    "colab": {
      "provenance": [],
      "toc_visible": true
    },
    "kernelspec": {
      "display_name": "Python 3",
      "name": "python3"
    }
  },
  "cells": [
    {
      "cell_type": "code",
      "metadata": {
        "id": "xKFTe5EQZ-bU"
      },
      "source": [
        "!pip install tflearn\n",
        "!pip install tensorflow"
      ],
      "execution_count": null,
      "outputs": []
    },
    {
      "cell_type": "code",
      "metadata": {
        "colab": {
          "base_uri": "https://localhost:8080/"
        },
        "id": "N1GmnQo2Tns_",
        "outputId": "c50cea50-e69b-4e4e-c4be-9ca8685d6ce7"
      },
      "source": [
        "import nltk\n",
        "nltk.download('punkt')\n",
        "from nltk.stem.lancaster import LancasterStemmer\n",
        "stemmer = LancasterStemmer()\n",
        "\n",
        "import numpy as np\n",
        "import tflearn\n",
        "import tensorflow\n",
        "import random\n",
        "import json"
      ],
      "execution_count": null,
      "outputs": [
        {
          "output_type": "stream",
          "text": [
            "[nltk_data] Downloading package punkt to /root/nltk_data...\n",
            "[nltk_data]   Package punkt is already up-to-date!\n"
          ],
          "name": "stdout"
        }
      ]
    },
    {
      "cell_type": "code",
      "metadata": {
        "colab": {
          "base_uri": "https://localhost:8080/"
        },
        "id": "PYE1o3PWZ3cu",
        "outputId": "876c3dd2-c3c2-44ca-96a2-ce07880052e2"
      },
      "source": [
        "with open(\"intents_test_pl.json\") as file:\n",
        "  data = json.load(file)\n",
        "\n",
        "  print(data)"
      ],
      "execution_count": null,
      "outputs": [
        {
          "output_type": "stream",
          "text": [
            "{'intents': [{'tag': 'greeting', 'patterns': ['Cześć', 'Elo', 'Jesteś?', 'Hej', 'Dzień dobry', 'Sup'], 'responses': ['Cześć!', 'Dobrze Cię widzieć!', 'Hej, w czym mogę pomóc?'], 'context_set': ''}, {'tag': 'goodbye', 'patterns': ['narazie', 'Do zobaczenia', 'Dowidzenia', 'Dobranoc', 'Miłego dnia'], 'responses': ['Do zobaczenia później', 'Mam nadzieję, że później pogadamy', 'Narazie!'], 'context_set': ''}, {'tag': 'age', 'patterns': ['Ile masz lat', 'Ile lat ma Janet', 'Wiek', 'Jak stara jesteś', 'urodziny'], 'responses': ['Mam kilka dni', 'Urodziłam się 17.03.2021'], 'context_set': ''}, {'tag': 'name', 'patterns': ['Jak masz na imię', 'Jak Cię zwą?', 'twoje imie?', 'Imie', 'Jak cię nazywać', 'Kim jesteś'], 'responses': ['Możesz mnie nazywać Janet!', 'Jestem Janet', 'Jestem Janet, twój ulubiony chatbot'], 'context_set': ''}]}\n"
          ],
          "name": "stdout"
        }
      ]
    },
    {
      "cell_type": "code",
      "metadata": {
        "id": "GPxwtJ2fanuA"
      },
      "source": [
        "words = []\n",
        "labels = []\n",
        "docs_x = []\n",
        "docs_y = []"
      ],
      "execution_count": null,
      "outputs": []
    },
    {
      "cell_type": "code",
      "metadata": {
        "id": "S7stG5zRa8NP"
      },
      "source": [
        "for intent in data[\"intents\"]: #loop through all the dictionaries\n",
        "  for pattern in intent[\"patterns\"]: #loop through all the patterns in each intent\n",
        "    wrds = nltk.word_tokenize(pattern) #Tokenizing every word\n",
        "    words.extend(wrds) #Add every tokenized word\n",
        "    docs_x.append(wrds) #Add the pattern name\n",
        "    docs_y.append(intent[\"tag\"]) #Pattern x coresponds to the tag y\n",
        "\n",
        "  if intent[\"tag\"] not in labels:\n",
        "    labels.append(intent[\"tag\"]) #Add the tag"
      ],
      "execution_count": null,
      "outputs": []
    },
    {
      "cell_type": "markdown",
      "metadata": {
        "id": "YgNG2VALrxjT"
      },
      "source": [
        "BONUS Polish Stemmer"
      ]
    },
    {
      "cell_type": "code",
      "metadata": {
        "colab": {
          "base_uri": "https://localhost:8080/"
        },
        "id": "4fbXPlRhr8Ll",
        "outputId": "23f29865-7a24-4833-c722-45afc1380e15"
      },
      "source": [
        "!pip install pystempel"
      ],
      "execution_count": null,
      "outputs": [
        {
          "output_type": "stream",
          "text": [
            "Requirement already satisfied: pystempel in /usr/local/lib/python3.7/dist-packages (1.2.0)\n",
            "Requirement already satisfied: tqdm in /usr/local/lib/python3.7/dist-packages (from pystempel) (4.41.1)\n",
            "Requirement already satisfied: sortedcontainers in /usr/local/lib/python3.7/dist-packages (from pystempel) (2.3.0)\n"
          ],
          "name": "stdout"
        }
      ]
    },
    {
      "cell_type": "code",
      "metadata": {
        "colab": {
          "base_uri": "https://localhost:8080/"
        },
        "id": "Tk5KnWpVr8OT",
        "outputId": "7cdd9c92-f0c7-471c-c0ee-865df4fadee5"
      },
      "source": [
        "from stempel import StempelStemmer\n",
        "\n",
        "stemmer_pl = StempelStemmer.default() #może wersja \".polimorf()\" jest lepsza?"
      ],
      "execution_count": null,
      "outputs": [
        {
          "output_type": "stream",
          "text": [
            "Loading: 100%|██████████| 2225192/2225192 [00:02<00:00, 746788.60bytes/s]\n"
          ],
          "name": "stderr"
        }
      ]
    },
    {
      "cell_type": "code",
      "metadata": {
        "colab": {
          "base_uri": "https://localhost:8080/"
        },
        "id": "HoMF5cQHu6aM",
        "outputId": "64d68752-742b-4e60-8739-1a8e89aa1d3b"
      },
      "source": [
        "print(stemmer_pl.stem(\"książką\"))"
      ],
      "execution_count": null,
      "outputs": [
        {
          "output_type": "stream",
          "text": [
            "książka\n"
          ],
          "name": "stdout"
        }
      ]
    },
    {
      "cell_type": "markdown",
      "metadata": {
        "id": "ZCf882z1r6HZ"
      },
      "source": [
        "END"
      ]
    },
    {
      "cell_type": "code",
      "metadata": {
        "id": "XNRStCSseTnS"
      },
      "source": [
        "words = [stemmer_pl.stem(w.lower()) for w in words if w not in \"?\"] #stemming -> take each word and bring it to the \"root\" form. Only the main meaning of the word is important to us\n",
        "words = sorted(list(set(words))) #Sorting\n",
        "\n",
        "labels = sorted(labels) #sorting\n",
        "\n",
        "training = []\n",
        "output = []\n",
        "\n",
        "out_empty = [0 for _ in range(len(labels))]"
      ],
      "execution_count": null,
      "outputs": []
    },
    {
      "cell_type": "code",
      "metadata": {
        "id": "CcY2k5sBf0hS"
      },
      "source": [
        "for x, doc in enumerate(docs_x):\n",
        "  bag =[]\n",
        "\n",
        "  wrds = [stemmer_pl.stem(w) for w in doc]\n",
        "\n",
        "  for w in words:\n",
        "    if w in wrds:\n",
        "      bag.append(1) #this word exist\n",
        "    else:\n",
        "      bag.append(0)\n",
        "    \n",
        "  output_row = out_empty[:]\n",
        "  output_row[labels.index(docs_y[x])] = 1\n",
        "\n",
        "  training.append(bag)\n",
        "  output.append(output_row)\n",
        "\n",
        "training = numpy.array(training)\n",
        "output = np.array(output)"
      ],
      "execution_count": null,
      "outputs": []
    },
    {
      "cell_type": "markdown",
      "metadata": {
        "id": "1zG_wCMUhzDr"
      },
      "source": [
        "### Model"
      ]
    },
    {
      "cell_type": "code",
      "metadata": {
        "id": "pM9_iLHGhnIb"
      },
      "source": [
        "training = numpy.array(training) #list into array to feed the model\n",
        "output = numpy.array(output) #list into array to feed the model"
      ],
      "execution_count": null,
      "outputs": []
    },
    {
      "cell_type": "code",
      "metadata": {
        "colab": {
          "base_uri": "https://localhost:8080/"
        },
        "id": "mWLNarkTl_3i",
        "outputId": "8b37f31c-73e3-4d87-d77c-e0a99ebfd9b3"
      },
      "source": [
        "tensorflow.compat.v1.reset_default_graph()\n",
        "\n",
        "net = tflearn.input_data(shape=[None, len(training[0])]) #Input layer\n",
        "net = tflearn.fully_connected(net, 8) #16 neurons for hidden layer\n",
        "net = tflearn.fully_connected(net, 8) #16 neurons for hidden layer\n",
        "net = tflearn.fully_connected(net, 8) #16 neurons for hidden layer\n",
        "net = tflearn.fully_connected(net, len(output[0]), activation=\"softmax\") #len(output) neurons for output layer\n",
        "net = tflearn.regression(net)\n",
        "\n",
        "model = tflearn.DNN(net)\n",
        "\n",
        "model.fit(training, output, n_epoch=1000, batch_size=8, show_metric=True)\n",
        "model.save(\"model.tflearn\")"
      ],
      "execution_count": null,
      "outputs": [
        {
          "output_type": "stream",
          "text": [
            "Training Step: 2999  | total loss: \u001b[1m\u001b[32m0.54356\u001b[0m\u001b[0m | time: 0.010s\n",
            "| Adam | epoch: 1000 | loss: 0.54356 - acc: 0.7546 -- iter: 16/22\n",
            "Training Step: 3000  | total loss: \u001b[1m\u001b[32m0.53645\u001b[0m\u001b[0m | time: 0.015s\n",
            "| Adam | epoch: 1000 | loss: 0.53645 - acc: 0.7458 -- iter: 22/22\n",
            "--\n",
            "INFO:tensorflow:/content/model.tflearn is not in all_model_checkpoint_paths. Manually adding it.\n"
          ],
          "name": "stdout"
        }
      ]
    },
    {
      "cell_type": "markdown",
      "metadata": {
        "id": "CKXVUFPI2ZaS"
      },
      "source": [
        "### User input"
      ]
    },
    {
      "cell_type": "code",
      "metadata": {
        "id": "FNdKMY6o2b6E"
      },
      "source": [
        "def bag_of_words(s, words):\n",
        "  bag = [0 for _ in range(len(words))]\n",
        "\n",
        "  s_words = nltk.word_tokenize(s)\n",
        "  s_words = [stemmer_pl.stem(word.lower()) for word in s_words]\n",
        "\n",
        "  for se in s_words:\n",
        "    for i, w in enumerate(words):\n",
        "      if w == se:\n",
        "        bag[i] = 1\n",
        "  return np.array(bag)"
      ],
      "execution_count": null,
      "outputs": []
    },
    {
      "cell_type": "code",
      "metadata": {
        "id": "volPNOyM3IYi"
      },
      "source": [
        "def chat():\n",
        "  print(\"Start talking with the bot! (po polacku) (type quit to stop)\")\n",
        "  while True:\n",
        "    inp = input(\"You: \")\n",
        "    if inp.lower() == \"quit\":\n",
        "      break\n",
        "\n",
        "    result = model.predict([bag_of_words(inp,words)])\n",
        "    result_index = numpy.argmax(result)\n",
        "    tag = labels[result_index]\n",
        "    \n",
        "    for tg in data[\"intents\"]:\n",
        "      if tg['tag'] == tag:\n",
        "        responses = tg['responses']\n",
        "      \n",
        "    print(random.choice(responses))\n"
      ],
      "execution_count": null,
      "outputs": []
    },
    {
      "cell_type": "code",
      "metadata": {
        "colab": {
          "base_uri": "https://localhost:8080/"
        },
        "id": "aZ8PuApZ3_nh",
        "outputId": "2f298337-99dd-45a3-9849-322be90cd774"
      },
      "source": [
        "chat()"
      ],
      "execution_count": null,
      "outputs": [
        {
          "output_type": "stream",
          "text": [
            "Start talking with the bot! (po polacku) (type quit to stop)\n",
            "You: hej\n",
            "Hej, w czym mogę pomóc?\n",
            "You: ile masz lat?\n",
            "Mam kilka dni\n",
            "You: narazie\n",
            "Do zobaczenia później\n",
            "You: co robisz?\n",
            "Cześć!\n",
            "You: jak masz na imię?\n",
            "Jestem Janet, twój ulubiony chatbot\n",
            "You: quit\n"
          ],
          "name": "stdout"
        }
      ]
    },
    {
      "cell_type": "code",
      "metadata": {
        "id": "c_s_K-R74Adb"
      },
      "source": [],
      "execution_count": null,
      "outputs": []
    }
  ]
}